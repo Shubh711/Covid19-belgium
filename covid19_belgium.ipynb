{
 "cells": [
  {
   "cell_type": "markdown",
   "id": "f65d5b23",
   "metadata": {
    "papermill": {
     "duration": 0.027948,
     "end_time": "2022-06-22T10:55:43.709815",
     "exception": false,
     "start_time": "2022-06-22T10:55:43.681867",
     "status": "completed"
    },
    "tags": []
   },
   "source": [
    "## Introduction\n",
    "#### This dataset is all about COVID19 data, It contains province and region wise spread for covid in Belgium(Europe), condition of patient , which life support system they are on, how are they diagnosed, test of covid 19 with detail description about patient, place and type of vaccine provided to them.\n",
    "\n",
    "source - https://epistat.sciensano.be/COVID19BE_codebook.pdf\n"
   ]
  },
  {
   "cell_type": "code",
   "execution_count": 1,
   "id": "2faa5353",
   "metadata": {
    "execution": {
     "iopub.execute_input": "2022-06-22T10:55:43.766259Z",
     "iopub.status.busy": "2022-06-22T10:55:43.765193Z",
     "iopub.status.idle": "2022-06-22T10:55:45.017493Z",
     "shell.execute_reply": "2022-06-22T10:55:45.016260Z"
    },
    "papermill": {
     "duration": 1.284559,
     "end_time": "2022-06-22T10:55:45.020586",
     "exception": false,
     "start_time": "2022-06-22T10:55:43.736027",
     "status": "completed"
    },
    "tags": []
   },
   "outputs": [],
   "source": [
    "# importing required libraries\n",
    "import numpy as np\n",
    "import pandas as pd\n",
    "import matplotlib.pyplot as plt\n",
    "import seaborn as sns"
   ]
  },
  {
   "cell_type": "markdown",
   "id": "c5c77428",
   "metadata": {
    "papermill": {
     "duration": 0.026151,
     "end_time": "2022-06-22T10:55:45.073355",
     "exception": false,
     "start_time": "2022-06-22T10:55:45.047204",
     "status": "completed"
    },
    "tags": []
   },
   "source": [
    "## Age sex data"
   ]
  },
  {
   "cell_type": "code",
   "execution_count": 2,
   "id": "58bd2154",
   "metadata": {
    "execution": {
     "iopub.execute_input": "2022-06-22T10:55:45.128461Z",
     "iopub.status.busy": "2022-06-22T10:55:45.127954Z",
     "iopub.status.idle": "2022-06-22T10:55:45.366607Z",
     "shell.execute_reply": "2022-06-22T10:55:45.365464Z"
    },
    "papermill": {
     "duration": 0.269494,
     "end_time": "2022-06-22T10:55:45.369325",
     "exception": false,
     "start_time": "2022-06-22T10:55:45.099831",
     "status": "completed"
    },
    "tags": []
   },
   "outputs": [
    {
     "data": {
      "text/html": [
       "<div>\n",
       "<style scoped>\n",
       "    .dataframe tbody tr th:only-of-type {\n",
       "        vertical-align: middle;\n",
       "    }\n",
       "\n",
       "    .dataframe tbody tr th {\n",
       "        vertical-align: top;\n",
       "    }\n",
       "\n",
       "    .dataframe thead th {\n",
       "        text-align: right;\n",
       "    }\n",
       "</style>\n",
       "<table border=\"1\" class=\"dataframe\">\n",
       "  <thead>\n",
       "    <tr style=\"text-align: right;\">\n",
       "      <th></th>\n",
       "      <th>DATE</th>\n",
       "      <th>PROVINCE</th>\n",
       "      <th>REGION</th>\n",
       "      <th>AGEGROUP</th>\n",
       "      <th>SEX</th>\n",
       "      <th>CASES</th>\n",
       "    </tr>\n",
       "  </thead>\n",
       "  <tbody>\n",
       "    <tr>\n",
       "      <th>0</th>\n",
       "      <td>2020-03-01</td>\n",
       "      <td>Antwerpen</td>\n",
       "      <td>Flanders</td>\n",
       "      <td>40-49</td>\n",
       "      <td>M</td>\n",
       "      <td>1</td>\n",
       "    </tr>\n",
       "    <tr>\n",
       "      <th>1</th>\n",
       "      <td>2020-03-01</td>\n",
       "      <td>Brussels</td>\n",
       "      <td>Brussels</td>\n",
       "      <td>10-19</td>\n",
       "      <td>F</td>\n",
       "      <td>1</td>\n",
       "    </tr>\n",
       "    <tr>\n",
       "      <th>2</th>\n",
       "      <td>2020-03-01</td>\n",
       "      <td>Brussels</td>\n",
       "      <td>Brussels</td>\n",
       "      <td>10-19</td>\n",
       "      <td>M</td>\n",
       "      <td>1</td>\n",
       "    </tr>\n",
       "    <tr>\n",
       "      <th>3</th>\n",
       "      <td>2020-03-01</td>\n",
       "      <td>Brussels</td>\n",
       "      <td>Brussels</td>\n",
       "      <td>20-29</td>\n",
       "      <td>M</td>\n",
       "      <td>1</td>\n",
       "    </tr>\n",
       "    <tr>\n",
       "      <th>4</th>\n",
       "      <td>2020-03-01</td>\n",
       "      <td>Brussels</td>\n",
       "      <td>Brussels</td>\n",
       "      <td>30-39</td>\n",
       "      <td>F</td>\n",
       "      <td>1</td>\n",
       "    </tr>\n",
       "    <tr>\n",
       "      <th>...</th>\n",
       "      <td>...</td>\n",
       "      <td>...</td>\n",
       "      <td>...</td>\n",
       "      <td>...</td>\n",
       "      <td>...</td>\n",
       "      <td>...</td>\n",
       "    </tr>\n",
       "    <tr>\n",
       "      <th>168151</th>\n",
       "      <td>2022-06-09</td>\n",
       "      <td>Limburg</td>\n",
       "      <td>Flanders</td>\n",
       "      <td>50-59</td>\n",
       "      <td>F</td>\n",
       "      <td>1</td>\n",
       "    </tr>\n",
       "    <tr>\n",
       "      <th>168152</th>\n",
       "      <td>2022-06-09</td>\n",
       "      <td>Limburg</td>\n",
       "      <td>Flanders</td>\n",
       "      <td>60-69</td>\n",
       "      <td>M</td>\n",
       "      <td>1</td>\n",
       "    </tr>\n",
       "    <tr>\n",
       "      <th>168153</th>\n",
       "      <td>2022-06-09</td>\n",
       "      <td>OostVlaanderen</td>\n",
       "      <td>Flanders</td>\n",
       "      <td>70-79</td>\n",
       "      <td>F</td>\n",
       "      <td>1</td>\n",
       "    </tr>\n",
       "    <tr>\n",
       "      <th>168154</th>\n",
       "      <td>2022-06-09</td>\n",
       "      <td>VlaamsBrabant</td>\n",
       "      <td>Flanders</td>\n",
       "      <td>0-9</td>\n",
       "      <td>F</td>\n",
       "      <td>1</td>\n",
       "    </tr>\n",
       "    <tr>\n",
       "      <th>168155</th>\n",
       "      <td>2022-06-09</td>\n",
       "      <td>VlaamsBrabant</td>\n",
       "      <td>Flanders</td>\n",
       "      <td>20-29</td>\n",
       "      <td>M</td>\n",
       "      <td>1</td>\n",
       "    </tr>\n",
       "  </tbody>\n",
       "</table>\n",
       "<p>168156 rows × 6 columns</p>\n",
       "</div>"
      ],
      "text/plain": [
       "              DATE        PROVINCE    REGION AGEGROUP SEX  CASES\n",
       "0       2020-03-01       Antwerpen  Flanders    40-49   M      1\n",
       "1       2020-03-01        Brussels  Brussels    10-19   F      1\n",
       "2       2020-03-01        Brussels  Brussels    10-19   M      1\n",
       "3       2020-03-01        Brussels  Brussels    20-29   M      1\n",
       "4       2020-03-01        Brussels  Brussels    30-39   F      1\n",
       "...            ...             ...       ...      ...  ..    ...\n",
       "168151  2022-06-09         Limburg  Flanders    50-59   F      1\n",
       "168152  2022-06-09         Limburg  Flanders    60-69   M      1\n",
       "168153  2022-06-09  OostVlaanderen  Flanders    70-79   F      1\n",
       "168154  2022-06-09   VlaamsBrabant  Flanders      0-9   F      1\n",
       "168155  2022-06-09   VlaamsBrabant  Flanders    20-29   M      1\n",
       "\n",
       "[168156 rows x 6 columns]"
      ]
     },
     "execution_count": 2,
     "metadata": {},
     "output_type": "execute_result"
    }
   ],
   "source": [
    "# reading the data with appropriate encoding.\n",
    "df_age_sex = pd.read_csv('../input/covid19-belgium/CASES_AGESEX.csv', encoding='ISO-8859-1' ,parse_dates=True)\n",
    "df_age_sex"
   ]
  },
  {
   "cell_type": "code",
   "execution_count": 3,
   "id": "9c08d15c",
   "metadata": {
    "execution": {
     "iopub.execute_input": "2022-06-22T10:55:45.425900Z",
     "iopub.status.busy": "2022-06-22T10:55:45.425384Z",
     "iopub.status.idle": "2022-06-22T10:55:45.504318Z",
     "shell.execute_reply": "2022-06-22T10:55:45.503296Z"
    },
    "papermill": {
     "duration": 0.110429,
     "end_time": "2022-06-22T10:55:45.506735",
     "exception": false,
     "start_time": "2022-06-22T10:55:45.396306",
     "status": "completed"
    },
    "tags": []
   },
   "outputs": [
    {
     "data": {
      "text/plain": [
       "0"
      ]
     },
     "execution_count": 3,
     "metadata": {},
     "output_type": "execute_result"
    }
   ],
   "source": [
    "df_age_sex.duplicated().sum() #checking duplicate data"
   ]
  },
  {
   "cell_type": "code",
   "execution_count": 4,
   "id": "cb4c2d18",
   "metadata": {
    "execution": {
     "iopub.execute_input": "2022-06-22T10:55:45.564100Z",
     "iopub.status.busy": "2022-06-22T10:55:45.562865Z",
     "iopub.status.idle": "2022-06-22T10:55:45.621399Z",
     "shell.execute_reply": "2022-06-22T10:55:45.619593Z"
    },
    "papermill": {
     "duration": 0.091006,
     "end_time": "2022-06-22T10:55:45.624895",
     "exception": false,
     "start_time": "2022-06-22T10:55:45.533889",
     "status": "completed"
    },
    "tags": []
   },
   "outputs": [
    {
     "name": "stdout",
     "output_type": "stream",
     "text": [
      "<class 'pandas.core.frame.DataFrame'>\n",
      "RangeIndex: 168156 entries, 0 to 168155\n",
      "Data columns (total 6 columns):\n",
      " #   Column    Non-Null Count   Dtype \n",
      "---  ------    --------------   ----- \n",
      " 0   DATE      168156 non-null  object\n",
      " 1   PROVINCE  156346 non-null  object\n",
      " 2   REGION    156346 non-null  object\n",
      " 3   AGEGROUP  161140 non-null  object\n",
      " 4   SEX       163677 non-null  object\n",
      " 5   CASES     168156 non-null  int64 \n",
      "dtypes: int64(1), object(5)\n",
      "memory usage: 7.7+ MB\n"
     ]
    }
   ],
   "source": [
    "df_age_sex.info() # showing its data type"
   ]
  },
  {
   "cell_type": "code",
   "execution_count": 5,
   "id": "479198e1",
   "metadata": {
    "execution": {
     "iopub.execute_input": "2022-06-22T10:55:45.681600Z",
     "iopub.status.busy": "2022-06-22T10:55:45.680777Z",
     "iopub.status.idle": "2022-06-22T10:55:45.686184Z",
     "shell.execute_reply": "2022-06-22T10:55:45.684918Z"
    },
    "papermill": {
     "duration": 0.03596,
     "end_time": "2022-06-22T10:55:45.688592",
     "exception": false,
     "start_time": "2022-06-22T10:55:45.652632",
     "status": "completed"
    },
    "tags": []
   },
   "outputs": [],
   "source": [
    "## date data type is not reading correctly so we have to correct it ."
   ]
  },
  {
   "cell_type": "markdown",
   "id": "a68fc1af",
   "metadata": {
    "papermill": {
     "duration": 0.026417,
     "end_time": "2022-06-22T10:55:45.742164",
     "exception": false,
     "start_time": "2022-06-22T10:55:45.715747",
     "status": "completed"
    },
    "tags": []
   },
   "source": [
    "#### Except for date other data type is correct\n"
   ]
  },
  {
   "cell_type": "code",
   "execution_count": 6,
   "id": "d9ad0896",
   "metadata": {
    "execution": {
     "iopub.execute_input": "2022-06-22T10:55:45.799312Z",
     "iopub.status.busy": "2022-06-22T10:55:45.798593Z",
     "iopub.status.idle": "2022-06-22T10:55:45.875314Z",
     "shell.execute_reply": "2022-06-22T10:55:45.874112Z"
    },
    "papermill": {
     "duration": 0.109025,
     "end_time": "2022-06-22T10:55:45.877851",
     "exception": false,
     "start_time": "2022-06-22T10:55:45.768826",
     "status": "completed"
    },
    "tags": []
   },
   "outputs": [
    {
     "name": "stdout",
     "output_type": "stream",
     "text": [
      "<class 'pandas.core.frame.DataFrame'>\n",
      "RangeIndex: 168156 entries, 0 to 168155\n",
      "Data columns (total 6 columns):\n",
      " #   Column    Non-Null Count   Dtype         \n",
      "---  ------    --------------   -----         \n",
      " 0   DATE      168156 non-null  datetime64[ns]\n",
      " 1   PROVINCE  156346 non-null  object        \n",
      " 2   REGION    156346 non-null  object        \n",
      " 3   AGEGROUP  161140 non-null  object        \n",
      " 4   SEX       163677 non-null  object        \n",
      " 5   CASES     168156 non-null  int64         \n",
      "dtypes: datetime64[ns](1), int64(1), object(4)\n",
      "memory usage: 7.7+ MB\n"
     ]
    }
   ],
   "source": [
    "df_age_sex['DATE'] = pd.to_datetime(df_age_sex['DATE'])\n",
    "df_age_sex.info() #correcting its data type"
   ]
  },
  {
   "cell_type": "code",
   "execution_count": 7,
   "id": "3f785111",
   "metadata": {
    "execution": {
     "iopub.execute_input": "2022-06-22T10:55:45.935102Z",
     "iopub.status.busy": "2022-06-22T10:55:45.933804Z",
     "iopub.status.idle": "2022-06-22T10:55:45.941841Z",
     "shell.execute_reply": "2022-06-22T10:55:45.940639Z"
    },
    "papermill": {
     "duration": 0.038918,
     "end_time": "2022-06-22T10:55:45.944009",
     "exception": false,
     "start_time": "2022-06-22T10:55:45.905091",
     "status": "completed"
    },
    "tags": []
   },
   "outputs": [
    {
     "data": {
      "text/plain": [
       "(168156, 6)"
      ]
     },
     "execution_count": 7,
     "metadata": {},
     "output_type": "execute_result"
    }
   ],
   "source": [
    "df_age_sex.shape"
   ]
  },
  {
   "cell_type": "code",
   "execution_count": 8,
   "id": "460412f6",
   "metadata": {
    "execution": {
     "iopub.execute_input": "2022-06-22T10:55:46.003333Z",
     "iopub.status.busy": "2022-06-22T10:55:46.002278Z",
     "iopub.status.idle": "2022-06-22T10:55:46.040971Z",
     "shell.execute_reply": "2022-06-22T10:55:46.040021Z"
    },
    "papermill": {
     "duration": 0.071668,
     "end_time": "2022-06-22T10:55:46.043413",
     "exception": false,
     "start_time": "2022-06-22T10:55:45.971745",
     "status": "completed"
    },
    "tags": []
   },
   "outputs": [
    {
     "data": {
      "text/plain": [
       "DATE            0\n",
       "PROVINCE    11810\n",
       "REGION      11810\n",
       "AGEGROUP     7016\n",
       "SEX          4479\n",
       "CASES           0\n",
       "dtype: int64"
      ]
     },
     "execution_count": 8,
     "metadata": {},
     "output_type": "execute_result"
    }
   ],
   "source": [
    "df_age_sex.isnull().sum() #checking null values"
   ]
  },
  {
   "cell_type": "code",
   "execution_count": 9,
   "id": "43feb1ac",
   "metadata": {
    "execution": {
     "iopub.execute_input": "2022-06-22T10:55:46.102074Z",
     "iopub.status.busy": "2022-06-22T10:55:46.101143Z",
     "iopub.status.idle": "2022-06-22T10:55:46.115619Z",
     "shell.execute_reply": "2022-06-22T10:55:46.114695Z"
    },
    "papermill": {
     "duration": 0.046032,
     "end_time": "2022-06-22T10:55:46.117787",
     "exception": false,
     "start_time": "2022-06-22T10:55:46.071755",
     "status": "completed"
    },
    "tags": []
   },
   "outputs": [
    {
     "data": {
      "text/plain": [
       "array(['Antwerpen', 'Brussels', 'Limburg', 'Liège', 'OostVlaanderen',\n",
       "       'VlaamsBrabant', 'BrabantWallon', 'WestVlaanderen', 'Hainaut',\n",
       "       'Namur', nan, 'Luxembourg'], dtype=object)"
      ]
     },
     "execution_count": 9,
     "metadata": {},
     "output_type": "execute_result"
    }
   ],
   "source": [
    "df_age_sex['PROVINCE'].unique() # identifying unique province  "
   ]
  },
  {
   "cell_type": "code",
   "execution_count": 10,
   "id": "ef03875f",
   "metadata": {
    "execution": {
     "iopub.execute_input": "2022-06-22T10:55:46.175799Z",
     "iopub.status.busy": "2022-06-22T10:55:46.175256Z",
     "iopub.status.idle": "2022-06-22T10:55:46.191382Z",
     "shell.execute_reply": "2022-06-22T10:55:46.190528Z"
    },
    "papermill": {
     "duration": 0.047963,
     "end_time": "2022-06-22T10:55:46.193298",
     "exception": false,
     "start_time": "2022-06-22T10:55:46.145335",
     "status": "completed"
    },
    "tags": []
   },
   "outputs": [
    {
     "data": {
      "text/plain": [
       "Antwerpen         16128\n",
       "Brussels          16056\n",
       "OostVlaanderen    15146\n",
       "Hainaut           15068\n",
       "WestVlaanderen    15065\n",
       "VlaamsBrabant     14600\n",
       "Liège             14382\n",
       "Limburg           14034\n",
       "Namur             12378\n",
       "BrabantWallon     12353\n",
       "Luxembourg        11136\n",
       "Name: PROVINCE, dtype: int64"
      ]
     },
     "execution_count": 10,
     "metadata": {},
     "output_type": "execute_result"
    }
   ],
   "source": [
    "df_age_sex['PROVINCE'].value_counts() # identifying how many unique province  "
   ]
  },
  {
   "cell_type": "code",
   "execution_count": 11,
   "id": "40b74a37",
   "metadata": {
    "execution": {
     "iopub.execute_input": "2022-06-22T10:55:46.251494Z",
     "iopub.status.busy": "2022-06-22T10:55:46.250684Z",
     "iopub.status.idle": "2022-06-22T10:55:46.256612Z",
     "shell.execute_reply": "2022-06-22T10:55:46.255693Z"
    },
    "papermill": {
     "duration": 0.03955,
     "end_time": "2022-06-22T10:55:46.260152",
     "exception": false,
     "start_time": "2022-06-22T10:55:46.220602",
     "status": "completed"
    },
    "tags": []
   },
   "outputs": [
    {
     "data": {
      "text/plain": [
       "7.02324032446062"
      ]
     },
     "execution_count": 11,
     "metadata": {},
     "output_type": "execute_result"
    }
   ],
   "source": [
    "11810/168156*100\n"
   ]
  },
  {
   "cell_type": "code",
   "execution_count": 12,
   "id": "69201ca3",
   "metadata": {
    "execution": {
     "iopub.execute_input": "2022-06-22T10:55:46.318693Z",
     "iopub.status.busy": "2022-06-22T10:55:46.318217Z",
     "iopub.status.idle": "2022-06-22T10:55:46.347054Z",
     "shell.execute_reply": "2022-06-22T10:55:46.346302Z"
    },
    "papermill": {
     "duration": 0.060158,
     "end_time": "2022-06-22T10:55:46.349096",
     "exception": false,
     "start_time": "2022-06-22T10:55:46.288938",
     "status": "completed"
    },
    "tags": []
   },
   "outputs": [
    {
     "data": {
      "text/html": [
       "<div>\n",
       "<style scoped>\n",
       "    .dataframe tbody tr th:only-of-type {\n",
       "        vertical-align: middle;\n",
       "    }\n",
       "\n",
       "    .dataframe tbody tr th {\n",
       "        vertical-align: top;\n",
       "    }\n",
       "\n",
       "    .dataframe thead th {\n",
       "        text-align: right;\n",
       "    }\n",
       "</style>\n",
       "<table border=\"1\" class=\"dataframe\">\n",
       "  <thead>\n",
       "    <tr style=\"text-align: right;\">\n",
       "      <th></th>\n",
       "      <th>DATE</th>\n",
       "      <th>PROVINCE</th>\n",
       "      <th>REGION</th>\n",
       "      <th>AGEGROUP</th>\n",
       "      <th>SEX</th>\n",
       "      <th>CASES</th>\n",
       "    </tr>\n",
       "  </thead>\n",
       "  <tbody>\n",
       "    <tr>\n",
       "      <th>105</th>\n",
       "      <td>2020-03-04</td>\n",
       "      <td>NaN</td>\n",
       "      <td>NaN</td>\n",
       "      <td>0-9</td>\n",
       "      <td>F</td>\n",
       "      <td>1</td>\n",
       "    </tr>\n",
       "    <tr>\n",
       "      <th>106</th>\n",
       "      <td>2020-03-04</td>\n",
       "      <td>NaN</td>\n",
       "      <td>NaN</td>\n",
       "      <td>10-19</td>\n",
       "      <td>F</td>\n",
       "      <td>1</td>\n",
       "    </tr>\n",
       "    <tr>\n",
       "      <th>107</th>\n",
       "      <td>2020-03-04</td>\n",
       "      <td>NaN</td>\n",
       "      <td>NaN</td>\n",
       "      <td>10-19</td>\n",
       "      <td>M</td>\n",
       "      <td>2</td>\n",
       "    </tr>\n",
       "    <tr>\n",
       "      <th>108</th>\n",
       "      <td>2020-03-04</td>\n",
       "      <td>NaN</td>\n",
       "      <td>NaN</td>\n",
       "      <td>20-29</td>\n",
       "      <td>F</td>\n",
       "      <td>1</td>\n",
       "    </tr>\n",
       "    <tr>\n",
       "      <th>109</th>\n",
       "      <td>2020-03-04</td>\n",
       "      <td>NaN</td>\n",
       "      <td>NaN</td>\n",
       "      <td>40-49</td>\n",
       "      <td>M</td>\n",
       "      <td>1</td>\n",
       "    </tr>\n",
       "    <tr>\n",
       "      <th>...</th>\n",
       "      <td>...</td>\n",
       "      <td>...</td>\n",
       "      <td>...</td>\n",
       "      <td>...</td>\n",
       "      <td>...</td>\n",
       "      <td>...</td>\n",
       "    </tr>\n",
       "    <tr>\n",
       "      <th>168142</th>\n",
       "      <td>2022-06-08</td>\n",
       "      <td>NaN</td>\n",
       "      <td>NaN</td>\n",
       "      <td>70-79</td>\n",
       "      <td>F</td>\n",
       "      <td>1</td>\n",
       "    </tr>\n",
       "    <tr>\n",
       "      <th>168143</th>\n",
       "      <td>2022-06-08</td>\n",
       "      <td>NaN</td>\n",
       "      <td>NaN</td>\n",
       "      <td>70-79</td>\n",
       "      <td>M</td>\n",
       "      <td>1</td>\n",
       "    </tr>\n",
       "    <tr>\n",
       "      <th>168144</th>\n",
       "      <td>2022-06-08</td>\n",
       "      <td>NaN</td>\n",
       "      <td>NaN</td>\n",
       "      <td>80-89</td>\n",
       "      <td>M</td>\n",
       "      <td>1</td>\n",
       "    </tr>\n",
       "    <tr>\n",
       "      <th>168145</th>\n",
       "      <td>2022-06-08</td>\n",
       "      <td>NaN</td>\n",
       "      <td>NaN</td>\n",
       "      <td>NaN</td>\n",
       "      <td>M</td>\n",
       "      <td>5</td>\n",
       "    </tr>\n",
       "    <tr>\n",
       "      <th>168146</th>\n",
       "      <td>2022-06-08</td>\n",
       "      <td>NaN</td>\n",
       "      <td>NaN</td>\n",
       "      <td>NaN</td>\n",
       "      <td>NaN</td>\n",
       "      <td>3</td>\n",
       "    </tr>\n",
       "  </tbody>\n",
       "</table>\n",
       "<p>11810 rows × 6 columns</p>\n",
       "</div>"
      ],
      "text/plain": [
       "             DATE PROVINCE REGION AGEGROUP  SEX  CASES\n",
       "105    2020-03-04      NaN    NaN      0-9    F      1\n",
       "106    2020-03-04      NaN    NaN    10-19    F      1\n",
       "107    2020-03-04      NaN    NaN    10-19    M      2\n",
       "108    2020-03-04      NaN    NaN    20-29    F      1\n",
       "109    2020-03-04      NaN    NaN    40-49    M      1\n",
       "...           ...      ...    ...      ...  ...    ...\n",
       "168142 2022-06-08      NaN    NaN    70-79    F      1\n",
       "168143 2022-06-08      NaN    NaN    70-79    M      1\n",
       "168144 2022-06-08      NaN    NaN    80-89    M      1\n",
       "168145 2022-06-08      NaN    NaN      NaN    M      5\n",
       "168146 2022-06-08      NaN    NaN      NaN  NaN      3\n",
       "\n",
       "[11810 rows x 6 columns]"
      ]
     },
     "execution_count": 12,
     "metadata": {},
     "output_type": "execute_result"
    }
   ],
   "source": [
    "df_age_sex[df_age_sex['PROVINCE'].isnull()] #null values"
   ]
  },
  {
   "cell_type": "code",
   "execution_count": 13,
   "id": "b0dc5c44",
   "metadata": {
    "execution": {
     "iopub.execute_input": "2022-06-22T10:55:46.406364Z",
     "iopub.status.busy": "2022-06-22T10:55:46.405226Z",
     "iopub.status.idle": "2022-06-22T10:55:46.420048Z",
     "shell.execute_reply": "2022-06-22T10:55:46.418786Z"
    },
    "papermill": {
     "duration": 0.045966,
     "end_time": "2022-06-22T10:55:46.422322",
     "exception": false,
     "start_time": "2022-06-22T10:55:46.376356",
     "status": "completed"
    },
    "tags": []
   },
   "outputs": [],
   "source": [
    "null_index = df_age_sex[df_age_sex['PROVINCE'].isnull()].index   #extracting index of null values"
   ]
  },
  {
   "cell_type": "code",
   "execution_count": 14,
   "id": "c8d6ccbb",
   "metadata": {
    "execution": {
     "iopub.execute_input": "2022-06-22T10:55:46.482108Z",
     "iopub.status.busy": "2022-06-22T10:55:46.481159Z",
     "iopub.status.idle": "2022-06-22T10:55:46.505141Z",
     "shell.execute_reply": "2022-06-22T10:55:46.503861Z"
    },
    "papermill": {
     "duration": 0.056896,
     "end_time": "2022-06-22T10:55:46.507810",
     "exception": false,
     "start_time": "2022-06-22T10:55:46.450914",
     "status": "completed"
    },
    "tags": []
   },
   "outputs": [],
   "source": [
    " #droping null values as we can not add that data to perticular region or province as it may tamper the data.\n",
    "df_age_sex = df_age_sex.drop(null_index)"
   ]
  },
  {
   "cell_type": "code",
   "execution_count": 15,
   "id": "d7a27808",
   "metadata": {
    "execution": {
     "iopub.execute_input": "2022-06-22T10:55:46.564632Z",
     "iopub.status.busy": "2022-06-22T10:55:46.563708Z",
     "iopub.status.idle": "2022-06-22T10:55:46.570436Z",
     "shell.execute_reply": "2022-06-22T10:55:46.569687Z"
    },
    "papermill": {
     "duration": 0.037442,
     "end_time": "2022-06-22T10:55:46.572663",
     "exception": false,
     "start_time": "2022-06-22T10:55:46.535221",
     "status": "completed"
    },
    "tags": []
   },
   "outputs": [
    {
     "data": {
      "text/plain": [
       "(156346, 6)"
      ]
     },
     "execution_count": 15,
     "metadata": {},
     "output_type": "execute_result"
    }
   ],
   "source": [
    "df_age_sex.shape"
   ]
  },
  {
   "cell_type": "code",
   "execution_count": 16,
   "id": "b36fbf8e",
   "metadata": {
    "execution": {
     "iopub.execute_input": "2022-06-22T10:55:46.632899Z",
     "iopub.status.busy": "2022-06-22T10:55:46.631567Z",
     "iopub.status.idle": "2022-06-22T10:55:46.671153Z",
     "shell.execute_reply": "2022-06-22T10:55:46.669656Z"
    },
    "papermill": {
     "duration": 0.072718,
     "end_time": "2022-06-22T10:55:46.673830",
     "exception": false,
     "start_time": "2022-06-22T10:55:46.601112",
     "status": "completed"
    },
    "tags": []
   },
   "outputs": [
    {
     "data": {
      "text/plain": [
       "DATE           0\n",
       "PROVINCE       0\n",
       "REGION         0\n",
       "AGEGROUP    5535\n",
       "SEX         3192\n",
       "CASES          0\n",
       "dtype: int64"
      ]
     },
     "execution_count": 16,
     "metadata": {},
     "output_type": "execute_result"
    }
   ],
   "source": [
    "df_age_sex.isnull().sum() #checking null values"
   ]
  },
  {
   "cell_type": "code",
   "execution_count": null,
   "id": "68b59828",
   "metadata": {
    "papermill": {
     "duration": 0.029439,
     "end_time": "2022-06-22T10:55:46.733035",
     "exception": false,
     "start_time": "2022-06-22T10:55:46.703596",
     "status": "completed"
    },
    "tags": []
   },
   "outputs": [],
   "source": []
  },
  {
   "cell_type": "code",
   "execution_count": 17,
   "id": "ff8695f1",
   "metadata": {
    "execution": {
     "iopub.execute_input": "2022-06-22T10:55:46.792793Z",
     "iopub.status.busy": "2022-06-22T10:55:46.792065Z",
     "iopub.status.idle": "2022-06-22T10:55:46.806658Z",
     "shell.execute_reply": "2022-06-22T10:55:46.805538Z"
    },
    "papermill": {
     "duration": 0.046722,
     "end_time": "2022-06-22T10:55:46.808867",
     "exception": false,
     "start_time": "2022-06-22T10:55:46.762145",
     "status": "completed"
    },
    "tags": []
   },
   "outputs": [
    {
     "data": {
      "text/plain": [
       "array(['40-49', '10-19', '20-29', '30-39', '50-59', '70-79', '60-69',\n",
       "       '0-9', '90+', '80-89', nan], dtype=object)"
      ]
     },
     "execution_count": 17,
     "metadata": {},
     "output_type": "execute_result"
    }
   ],
   "source": [
    "df_age_sex['AGEGROUP'].unique()  # identifying how many unique agegroup"
   ]
  },
  {
   "cell_type": "code",
   "execution_count": 18,
   "id": "e846fb80",
   "metadata": {
    "execution": {
     "iopub.execute_input": "2022-06-22T10:55:46.872243Z",
     "iopub.status.busy": "2022-06-22T10:55:46.871418Z",
     "iopub.status.idle": "2022-06-22T10:55:46.887886Z",
     "shell.execute_reply": "2022-06-22T10:55:46.886832Z"
    },
    "papermill": {
     "duration": 0.051456,
     "end_time": "2022-06-22T10:55:46.890014",
     "exception": false,
     "start_time": "2022-06-22T10:55:46.838558",
     "status": "completed"
    },
    "tags": []
   },
   "outputs": [
    {
     "data": {
      "text/plain": [
       "20-29    17132\n",
       "30-39    17020\n",
       "40-49    16891\n",
       "50-59    16623\n",
       "10-19    15652\n",
       "60-69    15539\n",
       "70-79    14428\n",
       "0-9      14134\n",
       "80-89    13572\n",
       "90+       9820\n",
       "Name: AGEGROUP, dtype: int64"
      ]
     },
     "execution_count": 18,
     "metadata": {},
     "output_type": "execute_result"
    }
   ],
   "source": [
    "df_age_sex['AGEGROUP'].value_counts()"
   ]
  },
  {
   "cell_type": "code",
   "execution_count": 19,
   "id": "4b2a908e",
   "metadata": {
    "execution": {
     "iopub.execute_input": "2022-06-22T10:55:46.952976Z",
     "iopub.status.busy": "2022-06-22T10:55:46.952185Z",
     "iopub.status.idle": "2022-06-22T10:55:46.979349Z",
     "shell.execute_reply": "2022-06-22T10:55:46.978244Z"
    },
    "papermill": {
     "duration": 0.062728,
     "end_time": "2022-06-22T10:55:46.982103",
     "exception": false,
     "start_time": "2022-06-22T10:55:46.919375",
     "status": "completed"
    },
    "tags": []
   },
   "outputs": [
    {
     "data": {
      "text/html": [
       "<div>\n",
       "<style scoped>\n",
       "    .dataframe tbody tr th:only-of-type {\n",
       "        vertical-align: middle;\n",
       "    }\n",
       "\n",
       "    .dataframe tbody tr th {\n",
       "        vertical-align: top;\n",
       "    }\n",
       "\n",
       "    .dataframe thead th {\n",
       "        text-align: right;\n",
       "    }\n",
       "</style>\n",
       "<table border=\"1\" class=\"dataframe\">\n",
       "  <thead>\n",
       "    <tr style=\"text-align: right;\">\n",
       "      <th></th>\n",
       "      <th>DATE</th>\n",
       "      <th>PROVINCE</th>\n",
       "      <th>REGION</th>\n",
       "      <th>AGEGROUP</th>\n",
       "      <th>SEX</th>\n",
       "      <th>CASES</th>\n",
       "    </tr>\n",
       "  </thead>\n",
       "  <tbody>\n",
       "    <tr>\n",
       "      <th>103</th>\n",
       "      <td>2020-03-04</td>\n",
       "      <td>VlaamsBrabant</td>\n",
       "      <td>Flanders</td>\n",
       "      <td>NaN</td>\n",
       "      <td>M</td>\n",
       "      <td>1</td>\n",
       "    </tr>\n",
       "    <tr>\n",
       "      <th>302</th>\n",
       "      <td>2020-03-08</td>\n",
       "      <td>WestVlaanderen</td>\n",
       "      <td>Flanders</td>\n",
       "      <td>NaN</td>\n",
       "      <td>NaN</td>\n",
       "      <td>1</td>\n",
       "    </tr>\n",
       "    <tr>\n",
       "      <th>322</th>\n",
       "      <td>2020-03-09</td>\n",
       "      <td>Brussels</td>\n",
       "      <td>Brussels</td>\n",
       "      <td>NaN</td>\n",
       "      <td>F</td>\n",
       "      <td>1</td>\n",
       "    </tr>\n",
       "    <tr>\n",
       "      <th>518</th>\n",
       "      <td>2020-03-11</td>\n",
       "      <td>VlaamsBrabant</td>\n",
       "      <td>Flanders</td>\n",
       "      <td>NaN</td>\n",
       "      <td>M</td>\n",
       "      <td>2</td>\n",
       "    </tr>\n",
       "    <tr>\n",
       "      <th>564</th>\n",
       "      <td>2020-03-12</td>\n",
       "      <td>Brussels</td>\n",
       "      <td>Brussels</td>\n",
       "      <td>NaN</td>\n",
       "      <td>M</td>\n",
       "      <td>2</td>\n",
       "    </tr>\n",
       "    <tr>\n",
       "      <th>...</th>\n",
       "      <td>...</td>\n",
       "      <td>...</td>\n",
       "      <td>...</td>\n",
       "      <td>...</td>\n",
       "      <td>...</td>\n",
       "      <td>...</td>\n",
       "    </tr>\n",
       "    <tr>\n",
       "      <th>168054</th>\n",
       "      <td>2022-06-08</td>\n",
       "      <td>Luxembourg</td>\n",
       "      <td>Wallonia</td>\n",
       "      <td>NaN</td>\n",
       "      <td>F</td>\n",
       "      <td>2</td>\n",
       "    </tr>\n",
       "    <tr>\n",
       "      <th>168070</th>\n",
       "      <td>2022-06-08</td>\n",
       "      <td>Namur</td>\n",
       "      <td>Wallonia</td>\n",
       "      <td>NaN</td>\n",
       "      <td>M</td>\n",
       "      <td>1</td>\n",
       "    </tr>\n",
       "    <tr>\n",
       "      <th>168111</th>\n",
       "      <td>2022-06-08</td>\n",
       "      <td>VlaamsBrabant</td>\n",
       "      <td>Flanders</td>\n",
       "      <td>NaN</td>\n",
       "      <td>F</td>\n",
       "      <td>1</td>\n",
       "    </tr>\n",
       "    <tr>\n",
       "      <th>168112</th>\n",
       "      <td>2022-06-08</td>\n",
       "      <td>VlaamsBrabant</td>\n",
       "      <td>Flanders</td>\n",
       "      <td>NaN</td>\n",
       "      <td>NaN</td>\n",
       "      <td>1</td>\n",
       "    </tr>\n",
       "    <tr>\n",
       "      <th>168133</th>\n",
       "      <td>2022-06-08</td>\n",
       "      <td>WestVlaanderen</td>\n",
       "      <td>Flanders</td>\n",
       "      <td>NaN</td>\n",
       "      <td>F</td>\n",
       "      <td>1</td>\n",
       "    </tr>\n",
       "  </tbody>\n",
       "</table>\n",
       "<p>5535 rows × 6 columns</p>\n",
       "</div>"
      ],
      "text/plain": [
       "             DATE        PROVINCE    REGION AGEGROUP  SEX  CASES\n",
       "103    2020-03-04   VlaamsBrabant  Flanders      NaN    M      1\n",
       "302    2020-03-08  WestVlaanderen  Flanders      NaN  NaN      1\n",
       "322    2020-03-09        Brussels  Brussels      NaN    F      1\n",
       "518    2020-03-11   VlaamsBrabant  Flanders      NaN    M      2\n",
       "564    2020-03-12        Brussels  Brussels      NaN    M      2\n",
       "...           ...             ...       ...      ...  ...    ...\n",
       "168054 2022-06-08      Luxembourg  Wallonia      NaN    F      2\n",
       "168070 2022-06-08           Namur  Wallonia      NaN    M      1\n",
       "168111 2022-06-08   VlaamsBrabant  Flanders      NaN    F      1\n",
       "168112 2022-06-08   VlaamsBrabant  Flanders      NaN  NaN      1\n",
       "168133 2022-06-08  WestVlaanderen  Flanders      NaN    F      1\n",
       "\n",
       "[5535 rows x 6 columns]"
      ]
     },
     "execution_count": 19,
     "metadata": {},
     "output_type": "execute_result"
    }
   ],
   "source": [
    "df_age_sex[df_age_sex['AGEGROUP'].isnull()] #null values"
   ]
  },
  {
   "cell_type": "code",
   "execution_count": 20,
   "id": "87d31209",
   "metadata": {
    "execution": {
     "iopub.execute_input": "2022-06-22T10:55:47.045022Z",
     "iopub.status.busy": "2022-06-22T10:55:47.044277Z",
     "iopub.status.idle": "2022-06-22T10:55:47.060136Z",
     "shell.execute_reply": "2022-06-22T10:55:47.058867Z"
    },
    "papermill": {
     "duration": 0.050225,
     "end_time": "2022-06-22T10:55:47.062780",
     "exception": false,
     "start_time": "2022-06-22T10:55:47.012555",
     "status": "completed"
    },
    "tags": []
   },
   "outputs": [],
   "source": [
    "null_agegroup = df_age_sex[df_age_sex['AGEGROUP'].isnull()].index"
   ]
  },
  {
   "cell_type": "code",
   "execution_count": 21,
   "id": "265c08f6",
   "metadata": {
    "execution": {
     "iopub.execute_input": "2022-06-22T10:55:47.124383Z",
     "iopub.status.busy": "2022-06-22T10:55:47.123989Z",
     "iopub.status.idle": "2022-06-22T10:55:47.157938Z",
     "shell.execute_reply": "2022-06-22T10:55:47.156720Z"
    },
    "papermill": {
     "duration": 0.068083,
     "end_time": "2022-06-22T10:55:47.160357",
     "exception": false,
     "start_time": "2022-06-22T10:55:47.092274",
     "status": "completed"
    },
    "tags": []
   },
   "outputs": [],
   "source": [
    "df_age_sex.drop(null_agegroup, inplace=True)"
   ]
  },
  {
   "cell_type": "code",
   "execution_count": 22,
   "id": "248f6e7b",
   "metadata": {
    "execution": {
     "iopub.execute_input": "2022-06-22T10:55:47.221171Z",
     "iopub.status.busy": "2022-06-22T10:55:47.220766Z",
     "iopub.status.idle": "2022-06-22T10:55:47.259342Z",
     "shell.execute_reply": "2022-06-22T10:55:47.258164Z"
    },
    "papermill": {
     "duration": 0.071938,
     "end_time": "2022-06-22T10:55:47.262019",
     "exception": false,
     "start_time": "2022-06-22T10:55:47.190081",
     "status": "completed"
    },
    "tags": []
   },
   "outputs": [
    {
     "data": {
      "text/plain": [
       "DATE           0\n",
       "PROVINCE       0\n",
       "REGION         0\n",
       "AGEGROUP       0\n",
       "SEX         2732\n",
       "CASES          0\n",
       "dtype: int64"
      ]
     },
     "execution_count": 22,
     "metadata": {},
     "output_type": "execute_result"
    }
   ],
   "source": [
    "df_age_sex.isnull().sum() "
   ]
  },
  {
   "cell_type": "code",
   "execution_count": 23,
   "id": "1fe0a7bb",
   "metadata": {
    "execution": {
     "iopub.execute_input": "2022-06-22T10:55:47.320865Z",
     "iopub.status.busy": "2022-06-22T10:55:47.320480Z",
     "iopub.status.idle": "2022-06-22T10:55:47.324718Z",
     "shell.execute_reply": "2022-06-22T10:55:47.323709Z"
    },
    "papermill": {
     "duration": 0.036177,
     "end_time": "2022-06-22T10:55:47.326680",
     "exception": false,
     "start_time": "2022-06-22T10:55:47.290503",
     "status": "completed"
    },
    "tags": []
   },
   "outputs": [],
   "source": [
    "## following same procedure for other columns"
   ]
  },
  {
   "cell_type": "code",
   "execution_count": 24,
   "id": "e5d29b7d",
   "metadata": {
    "execution": {
     "iopub.execute_input": "2022-06-22T10:55:47.388176Z",
     "iopub.status.busy": "2022-06-22T10:55:47.387601Z",
     "iopub.status.idle": "2022-06-22T10:55:47.404440Z",
     "shell.execute_reply": "2022-06-22T10:55:47.403338Z"
    },
    "papermill": {
     "duration": 0.049922,
     "end_time": "2022-06-22T10:55:47.406630",
     "exception": false,
     "start_time": "2022-06-22T10:55:47.356708",
     "status": "completed"
    },
    "tags": []
   },
   "outputs": [
    {
     "data": {
      "text/plain": [
       "F    75246\n",
       "M    72833\n",
       "Name: SEX, dtype: int64"
      ]
     },
     "execution_count": 24,
     "metadata": {},
     "output_type": "execute_result"
    }
   ],
   "source": [
    "df_age_sex['SEX'].value_counts()  "
   ]
  },
  {
   "cell_type": "code",
   "execution_count": null,
   "id": "276c77e2",
   "metadata": {
    "papermill": {
     "duration": 0.028166,
     "end_time": "2022-06-22T10:55:47.463822",
     "exception": false,
     "start_time": "2022-06-22T10:55:47.435656",
     "status": "completed"
    },
    "tags": []
   },
   "outputs": [],
   "source": []
  },
  {
   "cell_type": "code",
   "execution_count": 25,
   "id": "edb0f541",
   "metadata": {
    "execution": {
     "iopub.execute_input": "2022-06-22T10:55:47.523210Z",
     "iopub.status.busy": "2022-06-22T10:55:47.522873Z",
     "iopub.status.idle": "2022-06-22T10:55:47.551784Z",
     "shell.execute_reply": "2022-06-22T10:55:47.550517Z"
    },
    "papermill": {
     "duration": 0.062725,
     "end_time": "2022-06-22T10:55:47.554868",
     "exception": false,
     "start_time": "2022-06-22T10:55:47.492143",
     "status": "completed"
    },
    "tags": []
   },
   "outputs": [],
   "source": [
    "df_age_sex['SEX'] = df_age_sex['SEX'].fillna(df_age_sex['SEX'].mode())"
   ]
  },
  {
   "cell_type": "code",
   "execution_count": 26,
   "id": "cef73753",
   "metadata": {
    "execution": {
     "iopub.execute_input": "2022-06-22T10:55:47.617782Z",
     "iopub.status.busy": "2022-06-22T10:55:47.617365Z",
     "iopub.status.idle": "2022-06-22T10:55:47.654925Z",
     "shell.execute_reply": "2022-06-22T10:55:47.653861Z"
    },
    "papermill": {
     "duration": 0.071838,
     "end_time": "2022-06-22T10:55:47.657413",
     "exception": false,
     "start_time": "2022-06-22T10:55:47.585575",
     "status": "completed"
    },
    "tags": []
   },
   "outputs": [
    {
     "data": {
      "text/plain": [
       "DATE           0\n",
       "PROVINCE       0\n",
       "REGION         0\n",
       "AGEGROUP       0\n",
       "SEX         2732\n",
       "CASES          0\n",
       "dtype: int64"
      ]
     },
     "execution_count": 26,
     "metadata": {},
     "output_type": "execute_result"
    }
   ],
   "source": [
    "df_age_sex.isnull().sum()"
   ]
  },
  {
   "cell_type": "code",
   "execution_count": 27,
   "id": "c6289bb6",
   "metadata": {
    "execution": {
     "iopub.execute_input": "2022-06-22T10:55:47.721030Z",
     "iopub.status.busy": "2022-06-22T10:55:47.720180Z",
     "iopub.status.idle": "2022-06-22T10:55:47.760933Z",
     "shell.execute_reply": "2022-06-22T10:55:47.759619Z"
    },
    "papermill": {
     "duration": 0.074574,
     "end_time": "2022-06-22T10:55:47.763284",
     "exception": false,
     "start_time": "2022-06-22T10:55:47.688710",
     "status": "completed"
    },
    "tags": []
   },
   "outputs": [
    {
     "name": "stdout",
     "output_type": "stream",
     "text": [
      "<class 'pandas.core.frame.DataFrame'>\n",
      "Int64Index: 150811 entries, 0 to 168155\n",
      "Data columns (total 6 columns):\n",
      " #   Column    Non-Null Count   Dtype         \n",
      "---  ------    --------------   -----         \n",
      " 0   DATE      150811 non-null  datetime64[ns]\n",
      " 1   PROVINCE  150811 non-null  object        \n",
      " 2   REGION    150811 non-null  object        \n",
      " 3   AGEGROUP  150811 non-null  object        \n",
      " 4   SEX       148079 non-null  object        \n",
      " 5   CASES     150811 non-null  int64         \n",
      "dtypes: datetime64[ns](1), int64(1), object(4)\n",
      "memory usage: 8.1+ MB\n"
     ]
    }
   ],
   "source": [
    "df_age_sex.info() #checking its datatype."
   ]
  },
  {
   "cell_type": "code",
   "execution_count": 28,
   "id": "92604874",
   "metadata": {
    "execution": {
     "iopub.execute_input": "2022-06-22T10:55:47.825847Z",
     "iopub.status.busy": "2022-06-22T10:55:47.825011Z",
     "iopub.status.idle": "2022-06-22T10:55:47.839467Z",
     "shell.execute_reply": "2022-06-22T10:55:47.838649Z"
    },
    "papermill": {
     "duration": 0.047475,
     "end_time": "2022-06-22T10:55:47.841423",
     "exception": false,
     "start_time": "2022-06-22T10:55:47.793948",
     "status": "completed"
    },
    "tags": []
   },
   "outputs": [
    {
     "data": {
      "text/html": [
       "<div>\n",
       "<style scoped>\n",
       "    .dataframe tbody tr th:only-of-type {\n",
       "        vertical-align: middle;\n",
       "    }\n",
       "\n",
       "    .dataframe tbody tr th {\n",
       "        vertical-align: top;\n",
       "    }\n",
       "\n",
       "    .dataframe thead th {\n",
       "        text-align: right;\n",
       "    }\n",
       "</style>\n",
       "<table border=\"1\" class=\"dataframe\">\n",
       "  <thead>\n",
       "    <tr style=\"text-align: right;\">\n",
       "      <th></th>\n",
       "      <th>DATE</th>\n",
       "      <th>PROVINCE</th>\n",
       "      <th>REGION</th>\n",
       "      <th>AGEGROUP</th>\n",
       "      <th>SEX</th>\n",
       "      <th>CASES</th>\n",
       "    </tr>\n",
       "  </thead>\n",
       "  <tbody>\n",
       "    <tr>\n",
       "      <th>0</th>\n",
       "      <td>2020-03-01</td>\n",
       "      <td>Antwerpen</td>\n",
       "      <td>Flanders</td>\n",
       "      <td>40-49</td>\n",
       "      <td>M</td>\n",
       "      <td>1</td>\n",
       "    </tr>\n",
       "    <tr>\n",
       "      <th>1</th>\n",
       "      <td>2020-03-01</td>\n",
       "      <td>Brussels</td>\n",
       "      <td>Brussels</td>\n",
       "      <td>10-19</td>\n",
       "      <td>F</td>\n",
       "      <td>1</td>\n",
       "    </tr>\n",
       "    <tr>\n",
       "      <th>2</th>\n",
       "      <td>2020-03-01</td>\n",
       "      <td>Brussels</td>\n",
       "      <td>Brussels</td>\n",
       "      <td>10-19</td>\n",
       "      <td>M</td>\n",
       "      <td>1</td>\n",
       "    </tr>\n",
       "    <tr>\n",
       "      <th>3</th>\n",
       "      <td>2020-03-01</td>\n",
       "      <td>Brussels</td>\n",
       "      <td>Brussels</td>\n",
       "      <td>20-29</td>\n",
       "      <td>M</td>\n",
       "      <td>1</td>\n",
       "    </tr>\n",
       "    <tr>\n",
       "      <th>4</th>\n",
       "      <td>2020-03-01</td>\n",
       "      <td>Brussels</td>\n",
       "      <td>Brussels</td>\n",
       "      <td>30-39</td>\n",
       "      <td>F</td>\n",
       "      <td>1</td>\n",
       "    </tr>\n",
       "    <tr>\n",
       "      <th>...</th>\n",
       "      <td>...</td>\n",
       "      <td>...</td>\n",
       "      <td>...</td>\n",
       "      <td>...</td>\n",
       "      <td>...</td>\n",
       "      <td>...</td>\n",
       "    </tr>\n",
       "    <tr>\n",
       "      <th>168151</th>\n",
       "      <td>2022-06-09</td>\n",
       "      <td>Limburg</td>\n",
       "      <td>Flanders</td>\n",
       "      <td>50-59</td>\n",
       "      <td>F</td>\n",
       "      <td>1</td>\n",
       "    </tr>\n",
       "    <tr>\n",
       "      <th>168152</th>\n",
       "      <td>2022-06-09</td>\n",
       "      <td>Limburg</td>\n",
       "      <td>Flanders</td>\n",
       "      <td>60-69</td>\n",
       "      <td>M</td>\n",
       "      <td>1</td>\n",
       "    </tr>\n",
       "    <tr>\n",
       "      <th>168153</th>\n",
       "      <td>2022-06-09</td>\n",
       "      <td>OostVlaanderen</td>\n",
       "      <td>Flanders</td>\n",
       "      <td>70-79</td>\n",
       "      <td>F</td>\n",
       "      <td>1</td>\n",
       "    </tr>\n",
       "    <tr>\n",
       "      <th>168154</th>\n",
       "      <td>2022-06-09</td>\n",
       "      <td>VlaamsBrabant</td>\n",
       "      <td>Flanders</td>\n",
       "      <td>0-9</td>\n",
       "      <td>F</td>\n",
       "      <td>1</td>\n",
       "    </tr>\n",
       "    <tr>\n",
       "      <th>168155</th>\n",
       "      <td>2022-06-09</td>\n",
       "      <td>VlaamsBrabant</td>\n",
       "      <td>Flanders</td>\n",
       "      <td>20-29</td>\n",
       "      <td>M</td>\n",
       "      <td>1</td>\n",
       "    </tr>\n",
       "  </tbody>\n",
       "</table>\n",
       "<p>150811 rows × 6 columns</p>\n",
       "</div>"
      ],
      "text/plain": [
       "             DATE        PROVINCE    REGION AGEGROUP SEX  CASES\n",
       "0      2020-03-01       Antwerpen  Flanders    40-49   M      1\n",
       "1      2020-03-01        Brussels  Brussels    10-19   F      1\n",
       "2      2020-03-01        Brussels  Brussels    10-19   M      1\n",
       "3      2020-03-01        Brussels  Brussels    20-29   M      1\n",
       "4      2020-03-01        Brussels  Brussels    30-39   F      1\n",
       "...           ...             ...       ...      ...  ..    ...\n",
       "168151 2022-06-09         Limburg  Flanders    50-59   F      1\n",
       "168152 2022-06-09         Limburg  Flanders    60-69   M      1\n",
       "168153 2022-06-09  OostVlaanderen  Flanders    70-79   F      1\n",
       "168154 2022-06-09   VlaamsBrabant  Flanders      0-9   F      1\n",
       "168155 2022-06-09   VlaamsBrabant  Flanders    20-29   M      1\n",
       "\n",
       "[150811 rows x 6 columns]"
      ]
     },
     "execution_count": 28,
     "metadata": {},
     "output_type": "execute_result"
    }
   ],
   "source": [
    "df_age_sex"
   ]
  },
  {
   "cell_type": "code",
   "execution_count": 29,
   "id": "38f2662f",
   "metadata": {
    "execution": {
     "iopub.execute_input": "2022-06-22T10:55:47.903616Z",
     "iopub.status.busy": "2022-06-22T10:55:47.902977Z",
     "iopub.status.idle": "2022-06-22T10:55:47.923933Z",
     "shell.execute_reply": "2022-06-22T10:55:47.922778Z"
    },
    "papermill": {
     "duration": 0.054572,
     "end_time": "2022-06-22T10:55:47.926415",
     "exception": false,
     "start_time": "2022-06-22T10:55:47.871843",
     "status": "completed"
    },
    "tags": []
   },
   "outputs": [],
   "source": [
    "cases_per_province = df_age_sex.groupby(['PROVINCE'], as_index=False)['CASES'].sum()\n",
    "#grouping by province and adding all cases."
   ]
  },
  {
   "cell_type": "code",
   "execution_count": 30,
   "id": "3082f92a",
   "metadata": {
    "execution": {
     "iopub.execute_input": "2022-06-22T10:55:47.988409Z",
     "iopub.status.busy": "2022-06-22T10:55:47.987303Z",
     "iopub.status.idle": "2022-06-22T10:55:47.997603Z",
     "shell.execute_reply": "2022-06-22T10:55:47.996329Z"
    },
    "papermill": {
     "duration": 0.044656,
     "end_time": "2022-06-22T10:55:48.000813",
     "exception": false,
     "start_time": "2022-06-22T10:55:47.956157",
     "status": "completed"
    },
    "tags": []
   },
   "outputs": [
    {
     "data": {
      "text/html": [
       "<div>\n",
       "<style scoped>\n",
       "    .dataframe tbody tr th:only-of-type {\n",
       "        vertical-align: middle;\n",
       "    }\n",
       "\n",
       "    .dataframe tbody tr th {\n",
       "        vertical-align: top;\n",
       "    }\n",
       "\n",
       "    .dataframe thead th {\n",
       "        text-align: right;\n",
       "    }\n",
       "</style>\n",
       "<table border=\"1\" class=\"dataframe\">\n",
       "  <thead>\n",
       "    <tr style=\"text-align: right;\">\n",
       "      <th></th>\n",
       "      <th>PROVINCE</th>\n",
       "      <th>CASES</th>\n",
       "    </tr>\n",
       "  </thead>\n",
       "  <tbody>\n",
       "    <tr>\n",
       "      <th>0</th>\n",
       "      <td>Antwerpen</td>\n",
       "      <td>664867</td>\n",
       "    </tr>\n",
       "    <tr>\n",
       "      <th>1</th>\n",
       "      <td>BrabantWallon</td>\n",
       "      <td>152459</td>\n",
       "    </tr>\n",
       "    <tr>\n",
       "      <th>2</th>\n",
       "      <td>Brussels</td>\n",
       "      <td>447955</td>\n",
       "    </tr>\n",
       "    <tr>\n",
       "      <th>3</th>\n",
       "      <td>Hainaut</td>\n",
       "      <td>460131</td>\n",
       "    </tr>\n",
       "    <tr>\n",
       "      <th>4</th>\n",
       "      <td>Limburg</td>\n",
       "      <td>308551</td>\n",
       "    </tr>\n",
       "    <tr>\n",
       "      <th>5</th>\n",
       "      <td>Liège</td>\n",
       "      <td>377707</td>\n",
       "    </tr>\n",
       "    <tr>\n",
       "      <th>6</th>\n",
       "      <td>Luxembourg</td>\n",
       "      <td>107612</td>\n",
       "    </tr>\n",
       "    <tr>\n",
       "      <th>7</th>\n",
       "      <td>Namur</td>\n",
       "      <td>179155</td>\n",
       "    </tr>\n",
       "    <tr>\n",
       "      <th>8</th>\n",
       "      <td>OostVlaanderen</td>\n",
       "      <td>557088</td>\n",
       "    </tr>\n",
       "    <tr>\n",
       "      <th>9</th>\n",
       "      <td>VlaamsBrabant</td>\n",
       "      <td>402981</td>\n",
       "    </tr>\n",
       "    <tr>\n",
       "      <th>10</th>\n",
       "      <td>WestVlaanderen</td>\n",
       "      <td>440093</td>\n",
       "    </tr>\n",
       "  </tbody>\n",
       "</table>\n",
       "</div>"
      ],
      "text/plain": [
       "          PROVINCE   CASES\n",
       "0        Antwerpen  664867\n",
       "1    BrabantWallon  152459\n",
       "2         Brussels  447955\n",
       "3          Hainaut  460131\n",
       "4          Limburg  308551\n",
       "5            Liège  377707\n",
       "6       Luxembourg  107612\n",
       "7            Namur  179155\n",
       "8   OostVlaanderen  557088\n",
       "9    VlaamsBrabant  402981\n",
       "10  WestVlaanderen  440093"
      ]
     },
     "execution_count": 30,
     "metadata": {},
     "output_type": "execute_result"
    }
   ],
   "source": [
    "cases_per_province"
   ]
  },
  {
   "cell_type": "code",
   "execution_count": null,
   "id": "9b57e43c",
   "metadata": {
    "papermill": {
     "duration": 0.030035,
     "end_time": "2022-06-22T10:55:48.060915",
     "exception": false,
     "start_time": "2022-06-22T10:55:48.030880",
     "status": "completed"
    },
    "tags": []
   },
   "outputs": [],
   "source": []
  },
  {
   "cell_type": "code",
   "execution_count": 31,
   "id": "2b26ef05",
   "metadata": {
    "execution": {
     "iopub.execute_input": "2022-06-22T10:55:48.122850Z",
     "iopub.status.busy": "2022-06-22T10:55:48.122470Z",
     "iopub.status.idle": "2022-06-22T10:55:48.399464Z",
     "shell.execute_reply": "2022-06-22T10:55:48.398304Z"
    },
    "papermill": {
     "duration": 0.312047,
     "end_time": "2022-06-22T10:55:48.402592",
     "exception": false,
     "start_time": "2022-06-22T10:55:48.090545",
     "status": "completed"
    },
    "tags": []
   },
   "outputs": [
    {
     "data": {
      "text/plain": [
       "<AxesSubplot:xlabel='PROVINCE', ylabel='CASES'>"
      ]
     },
     "execution_count": 31,
     "metadata": {},
     "output_type": "execute_result"
    },
    {
     "data": {
      "image/png": "[encoded data removed]",
      "text/plain": [
       "<Figure size 864x504 with 1 Axes>"
      ]
     },
     "metadata": {
      "needs_background": "light"
     },
     "output_type": "display_data"
    }
   ],
   "source": [
    "plt.figure(figsize=(12,7))\n",
    "plt.xticks(rotation=45)\n",
    "sns.barplot(data=cases_per_province, x='PROVINCE',y='CASES')\n",
    "# displaying province wise data as graphical representation."
   ]
  },
  {
   "cell_type": "markdown",
   "id": "054271b8",
   "metadata": {
    "papermill": {
     "duration": 0.030706,
     "end_time": "2022-06-22T10:55:48.464270",
     "exception": false,
     "start_time": "2022-06-22T10:55:48.433564",
     "status": "completed"
    },
    "tags": []
   },
   "source": [
    "## Observation - \n",
    "1. Antwerpen has heighest number of cases followed by oostvlaanderen"
   ]
  },
  {
   "cell_type": "code",
   "execution_count": 32,
   "id": "d52b6cdc",
   "metadata": {
    "execution": {
     "iopub.execute_input": "2022-06-22T10:55:48.530424Z",
     "iopub.status.busy": "2022-06-22T10:55:48.529868Z",
     "iopub.status.idle": "2022-06-22T10:55:48.573740Z",
     "shell.execute_reply": "2022-06-22T10:55:48.572524Z"
    },
    "papermill": {
     "duration": 0.079953,
     "end_time": "2022-06-22T10:55:48.576280",
     "exception": false,
     "start_time": "2022-06-22T10:55:48.496327",
     "status": "completed"
    },
    "tags": []
   },
   "outputs": [],
   "source": [
    "age_wise_data = pd.DataFrame(df_age_sex.groupby(['PROVINCE','AGEGROUP','SEX'], as_index=False)['CASES'].sum())\n",
    "# grouping by multiple columns to get corelation between columns."
   ]
  },
  {
   "cell_type": "code",
   "execution_count": 33,
   "id": "71226f80",
   "metadata": {
    "execution": {
     "iopub.execute_input": "2022-06-22T10:55:48.640218Z",
     "iopub.status.busy": "2022-06-22T10:55:48.639519Z",
     "iopub.status.idle": "2022-06-22T10:55:48.653312Z",
     "shell.execute_reply": "2022-06-22T10:55:48.652377Z"
    },
    "papermill": {
     "duration": 0.048631,
     "end_time": "2022-06-22T10:55:48.655499",
     "exception": false,
     "start_time": "2022-06-22T10:55:48.606868",
     "status": "completed"
    },
    "tags": []
   },
   "outputs": [
    {
     "data": {
      "text/html": [
       "<div>\n",
       "<style scoped>\n",
       "    .dataframe tbody tr th:only-of-type {\n",
       "        vertical-align: middle;\n",
       "    }\n",
       "\n",
       "    .dataframe tbody tr th {\n",
       "        vertical-align: top;\n",
       "    }\n",
       "\n",
       "    .dataframe thead th {\n",
       "        text-align: right;\n",
       "    }\n",
       "</style>\n",
       "<table border=\"1\" class=\"dataframe\">\n",
       "  <thead>\n",
       "    <tr style=\"text-align: right;\">\n",
       "      <th></th>\n",
       "      <th>PROVINCE</th>\n",
       "      <th>AGEGROUP</th>\n",
       "      <th>SEX</th>\n",
       "      <th>CASES</th>\n",
       "    </tr>\n",
       "  </thead>\n",
       "  <tbody>\n",
       "    <tr>\n",
       "      <th>0</th>\n",
       "      <td>Antwerpen</td>\n",
       "      <td>0-9</td>\n",
       "      <td>F</td>\n",
       "      <td>27934</td>\n",
       "    </tr>\n",
       "    <tr>\n",
       "      <th>1</th>\n",
       "      <td>Antwerpen</td>\n",
       "      <td>0-9</td>\n",
       "      <td>M</td>\n",
       "      <td>29600</td>\n",
       "    </tr>\n",
       "    <tr>\n",
       "      <th>2</th>\n",
       "      <td>Antwerpen</td>\n",
       "      <td>10-19</td>\n",
       "      <td>F</td>\n",
       "      <td>52136</td>\n",
       "    </tr>\n",
       "    <tr>\n",
       "      <th>3</th>\n",
       "      <td>Antwerpen</td>\n",
       "      <td>10-19</td>\n",
       "      <td>M</td>\n",
       "      <td>52069</td>\n",
       "    </tr>\n",
       "    <tr>\n",
       "      <th>4</th>\n",
       "      <td>Antwerpen</td>\n",
       "      <td>20-29</td>\n",
       "      <td>F</td>\n",
       "      <td>54607</td>\n",
       "    </tr>\n",
       "    <tr>\n",
       "      <th>...</th>\n",
       "      <td>...</td>\n",
       "      <td>...</td>\n",
       "      <td>...</td>\n",
       "      <td>...</td>\n",
       "    </tr>\n",
       "    <tr>\n",
       "      <th>215</th>\n",
       "      <td>WestVlaanderen</td>\n",
       "      <td>70-79</td>\n",
       "      <td>M</td>\n",
       "      <td>12121</td>\n",
       "    </tr>\n",
       "    <tr>\n",
       "      <th>216</th>\n",
       "      <td>WestVlaanderen</td>\n",
       "      <td>80-89</td>\n",
       "      <td>F</td>\n",
       "      <td>12760</td>\n",
       "    </tr>\n",
       "    <tr>\n",
       "      <th>217</th>\n",
       "      <td>WestVlaanderen</td>\n",
       "      <td>80-89</td>\n",
       "      <td>M</td>\n",
       "      <td>8525</td>\n",
       "    </tr>\n",
       "    <tr>\n",
       "      <th>218</th>\n",
       "      <td>WestVlaanderen</td>\n",
       "      <td>90+</td>\n",
       "      <td>F</td>\n",
       "      <td>5814</td>\n",
       "    </tr>\n",
       "    <tr>\n",
       "      <th>219</th>\n",
       "      <td>WestVlaanderen</td>\n",
       "      <td>90+</td>\n",
       "      <td>M</td>\n",
       "      <td>2298</td>\n",
       "    </tr>\n",
       "  </tbody>\n",
       "</table>\n",
       "<p>220 rows × 4 columns</p>\n",
       "</div>"
      ],
      "text/plain": [
       "           PROVINCE AGEGROUP SEX  CASES\n",
       "0         Antwerpen      0-9   F  27934\n",
       "1         Antwerpen      0-9   M  29600\n",
       "2         Antwerpen    10-19   F  52136\n",
       "3         Antwerpen    10-19   M  52069\n",
       "4         Antwerpen    20-29   F  54607\n",
       "..              ...      ...  ..    ...\n",
       "215  WestVlaanderen    70-79   M  12121\n",
       "216  WestVlaanderen    80-89   F  12760\n",
       "217  WestVlaanderen    80-89   M   8525\n",
       "218  WestVlaanderen      90+   F   5814\n",
       "219  WestVlaanderen      90+   M   2298\n",
       "\n",
       "[220 rows x 4 columns]"
      ]
     },
     "execution_count": 33,
     "metadata": {},
     "output_type": "execute_result"
    }
   ],
   "source": [
    "age_wise_data"
   ]
  },
  {
   "cell_type": "code",
   "execution_count": 34,
   "id": "4c967e9a",
   "metadata": {
    "execution": {
     "iopub.execute_input": "2022-06-22T10:55:48.719328Z",
     "iopub.status.busy": "2022-06-22T10:55:48.718338Z",
     "iopub.status.idle": "2022-06-22T10:55:51.875525Z",
     "shell.execute_reply": "2022-06-22T10:55:51.874322Z"
    },
    "papermill": {
     "duration": 3.191601,
     "end_time": "2022-06-22T10:55:51.877830",
     "exception": false,
     "start_time": "2022-06-22T10:55:48.686229",
     "status": "completed"
    },
    "tags": []
   },
   "outputs": [
    {
     "data": {
      "text/plain": [
       "<AxesSubplot:xlabel='PROVINCE', ylabel='CASES'>"
      ]
     },
     "execution_count": 34,
     "metadata": {},
     "output_type": "execute_result"
    },
    {
     "data": {
      "image/png": "[encoded data removed]",
      "text/plain": [
       "<Figure size 1296x648 with 1 Axes>"
      ]
     },
     "metadata": {
      "needs_background": "light"
     },
     "output_type": "display_data"
    }
   ],
   "source": [
    "plt.figure(figsize=(18,9))\n",
    "plt.xticks(rotation=45)\n",
    "sns.barplot(data=age_wise_data, x='PROVINCE',y='CASES',hue='AGEGROUP',palette='Greens')"
   ]
  },
  {
   "cell_type": "markdown",
   "id": "8bb3a531",
   "metadata": {
    "papermill": {
     "duration": 0.031267,
     "end_time": "2022-06-22T10:55:51.941546",
     "exception": false,
     "start_time": "2022-06-22T10:55:51.910279",
     "status": "completed"
    },
    "tags": []
   },
   "source": [
    "## Observation -\n",
    "1. Data shows heighest cases were people from age group 30-39 followed by 40-49 and 20-29 age group.\n",
    "2. Most cases were from reported from Antwerpen."
   ]
  },
  {
   "cell_type": "code",
   "execution_count": 35,
   "id": "61f2c2af",
   "metadata": {
    "execution": {
     "iopub.execute_input": "2022-06-22T10:55:52.006308Z",
     "iopub.status.busy": "2022-06-22T10:55:52.005816Z",
     "iopub.status.idle": "2022-06-22T10:55:52.796782Z",
     "shell.execute_reply": "2022-06-22T10:55:52.795607Z"
    },
    "papermill": {
     "duration": 0.825927,
     "end_time": "2022-06-22T10:55:52.799109",
     "exception": false,
     "start_time": "2022-06-22T10:55:51.973182",
     "status": "completed"
    },
    "scrolled": true,
    "tags": []
   },
   "outputs": [
    {
     "data": {
      "text/plain": [
       "<AxesSubplot:xlabel='PROVINCE', ylabel='CASES'>"
      ]
     },
     "execution_count": 35,
     "metadata": {},
     "output_type": "execute_result"
    },
    {
     "data": {
      "image/png": "[encoded data removed]",
      "text/plain": [
       "<Figure size 864x576 with 1 Axes>"
      ]
     },
     "metadata": {
      "needs_background": "light"
     },
     "output_type": "display_data"
    }
   ],
   "source": [
    "plt.figure(figsize=(12,8))\n",
    "plt.xticks(rotation=45)\n",
    "sns.barplot(data=age_wise_data, x='PROVINCE',y='CASES',hue='SEX', palette='Reds')"
   ]
  },
  {
   "cell_type": "markdown",
   "id": "00f4594b",
   "metadata": {
    "papermill": {
     "duration": 0.031216,
     "end_time": "2022-06-22T10:55:52.862558",
     "exception": false,
     "start_time": "2022-06-22T10:55:52.831342",
     "status": "completed"
    },
    "tags": []
   },
   "source": [
    "## Observation - \n",
    "1. Female cases are greater than men in all provinces."
   ]
  },
  {
   "cell_type": "code",
   "execution_count": null,
   "id": "6a5009ec",
   "metadata": {
    "papermill": {
     "duration": 0.030525,
     "end_time": "2022-06-22T10:55:52.925219",
     "exception": false,
     "start_time": "2022-06-22T10:55:52.894694",
     "status": "completed"
    },
    "tags": []
   },
   "outputs": [],
   "source": []
  },
  {
   "cell_type": "markdown",
   "id": "1a4303c3",
   "metadata": {
    "papermill": {
     "duration": 0.030987,
     "end_time": "2022-06-22T10:55:52.987595",
     "exception": false,
     "start_time": "2022-06-22T10:55:52.956608",
     "status": "completed"
    },
    "tags": []
   },
   "source": [
    "## Hospital data\n",
    "This data contains number of total patients and on which kind of support system they are on , province wise data as well as region level."
   ]
  },
  {
   "cell_type": "code",
   "execution_count": 36,
   "id": "589fe18d",
   "metadata": {
    "execution": {
     "iopub.execute_input": "2022-06-22T10:55:53.052305Z",
     "iopub.status.busy": "2022-06-22T10:55:53.051366Z",
     "iopub.status.idle": "2022-06-22T10:55:53.090534Z",
     "shell.execute_reply": "2022-06-22T10:55:53.089416Z"
    },
    "papermill": {
     "duration": 0.074315,
     "end_time": "2022-06-22T10:55:53.092882",
     "exception": false,
     "start_time": "2022-06-22T10:55:53.018567",
     "status": "completed"
    },
    "tags": []
   },
   "outputs": [
    {
     "data": {
      "text/html": [
       "<div>\n",
       "<style scoped>\n",
       "    .dataframe tbody tr th:only-of-type {\n",
       "        vertical-align: middle;\n",
       "    }\n",
       "\n",
       "    .dataframe tbody tr th {\n",
       "        vertical-align: top;\n",
       "    }\n",
       "\n",
       "    .dataframe thead th {\n",
       "        text-align: right;\n",
       "    }\n",
       "</style>\n",
       "<table border=\"1\" class=\"dataframe\">\n",
       "  <thead>\n",
       "    <tr style=\"text-align: right;\">\n",
       "      <th></th>\n",
       "      <th>DATE</th>\n",
       "      <th>PROVINCE</th>\n",
       "      <th>REGION</th>\n",
       "      <th>NR_REPORTING</th>\n",
       "      <th>TOTAL_IN</th>\n",
       "      <th>TOTAL_IN_ICU</th>\n",
       "      <th>TOTAL_IN_RESP</th>\n",
       "      <th>TOTAL_IN_ECMO</th>\n",
       "      <th>NEW_IN</th>\n",
       "      <th>NEW_OUT</th>\n",
       "      <th>WARD</th>\n",
       "    </tr>\n",
       "  </thead>\n",
       "  <tbody>\n",
       "    <tr>\n",
       "      <th>0</th>\n",
       "      <td>15-03-2020</td>\n",
       "      <td>Antwerpen</td>\n",
       "      <td>Flanders</td>\n",
       "      <td>14</td>\n",
       "      <td>50</td>\n",
       "      <td>9</td>\n",
       "      <td>4</td>\n",
       "      <td>0</td>\n",
       "      <td>7</td>\n",
       "      <td>4</td>\n",
       "      <td>33</td>\n",
       "    </tr>\n",
       "    <tr>\n",
       "      <th>1</th>\n",
       "      <td>15-03-2020</td>\n",
       "      <td>BrabantWallon</td>\n",
       "      <td>Wallonia</td>\n",
       "      <td>2</td>\n",
       "      <td>5</td>\n",
       "      <td>2</td>\n",
       "      <td>2</td>\n",
       "      <td>0</td>\n",
       "      <td>1</td>\n",
       "      <td>0</td>\n",
       "      <td>1</td>\n",
       "    </tr>\n",
       "    <tr>\n",
       "      <th>2</th>\n",
       "      <td>15-03-2020</td>\n",
       "      <td>Brussels</td>\n",
       "      <td>Brussels</td>\n",
       "      <td>15</td>\n",
       "      <td>58</td>\n",
       "      <td>11</td>\n",
       "      <td>8</td>\n",
       "      <td>0</td>\n",
       "      <td>7</td>\n",
       "      <td>2</td>\n",
       "      <td>37</td>\n",
       "    </tr>\n",
       "    <tr>\n",
       "      <th>3</th>\n",
       "      <td>15-03-2020</td>\n",
       "      <td>Hainaut</td>\n",
       "      <td>Wallonia</td>\n",
       "      <td>14</td>\n",
       "      <td>54</td>\n",
       "      <td>12</td>\n",
       "      <td>10</td>\n",
       "      <td>1</td>\n",
       "      <td>26</td>\n",
       "      <td>1</td>\n",
       "      <td>30</td>\n",
       "    </tr>\n",
       "    <tr>\n",
       "      <th>4</th>\n",
       "      <td>15-03-2020</td>\n",
       "      <td>Limburg</td>\n",
       "      <td>Flanders</td>\n",
       "      <td>7</td>\n",
       "      <td>20</td>\n",
       "      <td>6</td>\n",
       "      <td>3</td>\n",
       "      <td>0</td>\n",
       "      <td>9</td>\n",
       "      <td>3</td>\n",
       "      <td>8</td>\n",
       "    </tr>\n",
       "    <tr>\n",
       "      <th>...</th>\n",
       "      <td>...</td>\n",
       "      <td>...</td>\n",
       "      <td>...</td>\n",
       "      <td>...</td>\n",
       "      <td>...</td>\n",
       "      <td>...</td>\n",
       "      <td>...</td>\n",
       "      <td>...</td>\n",
       "      <td>...</td>\n",
       "      <td>...</td>\n",
       "      <td>...</td>\n",
       "    </tr>\n",
       "    <tr>\n",
       "      <th>8982</th>\n",
       "      <td>09-06-2022</td>\n",
       "      <td>Luxembourg</td>\n",
       "      <td>Wallonia</td>\n",
       "      <td>3</td>\n",
       "      <td>19</td>\n",
       "      <td>3</td>\n",
       "      <td>1</td>\n",
       "      <td>0</td>\n",
       "      <td>0</td>\n",
       "      <td>0</td>\n",
       "      <td>15</td>\n",
       "    </tr>\n",
       "    <tr>\n",
       "      <th>8983</th>\n",
       "      <td>09-06-2022</td>\n",
       "      <td>Namur</td>\n",
       "      <td>Wallonia</td>\n",
       "      <td>6</td>\n",
       "      <td>30</td>\n",
       "      <td>0</td>\n",
       "      <td>0</td>\n",
       "      <td>0</td>\n",
       "      <td>1</td>\n",
       "      <td>1</td>\n",
       "      <td>29</td>\n",
       "    </tr>\n",
       "    <tr>\n",
       "      <th>8984</th>\n",
       "      <td>09-06-2022</td>\n",
       "      <td>OostVlaanderen</td>\n",
       "      <td>Flanders</td>\n",
       "      <td>13</td>\n",
       "      <td>146</td>\n",
       "      <td>6</td>\n",
       "      <td>2</td>\n",
       "      <td>0</td>\n",
       "      <td>14</td>\n",
       "      <td>16</td>\n",
       "      <td>122</td>\n",
       "    </tr>\n",
       "    <tr>\n",
       "      <th>8985</th>\n",
       "      <td>09-06-2022</td>\n",
       "      <td>VlaamsBrabant</td>\n",
       "      <td>Flanders</td>\n",
       "      <td>6</td>\n",
       "      <td>84</td>\n",
       "      <td>7</td>\n",
       "      <td>4</td>\n",
       "      <td>0</td>\n",
       "      <td>2</td>\n",
       "      <td>10</td>\n",
       "      <td>63</td>\n",
       "    </tr>\n",
       "    <tr>\n",
       "      <th>8986</th>\n",
       "      <td>09-06-2022</td>\n",
       "      <td>WestVlaanderen</td>\n",
       "      <td>Flanders</td>\n",
       "      <td>11</td>\n",
       "      <td>118</td>\n",
       "      <td>3</td>\n",
       "      <td>2</td>\n",
       "      <td>0</td>\n",
       "      <td>8</td>\n",
       "      <td>14</td>\n",
       "      <td>99</td>\n",
       "    </tr>\n",
       "  </tbody>\n",
       "</table>\n",
       "<p>8987 rows × 11 columns</p>\n",
       "</div>"
      ],
      "text/plain": [
       "            DATE        PROVINCE    REGION  NR_REPORTING  TOTAL_IN  \\\n",
       "0     15-03-2020       Antwerpen  Flanders            14        50   \n",
       "1     15-03-2020   BrabantWallon  Wallonia             2         5   \n",
       "2     15-03-2020        Brussels  Brussels            15        58   \n",
       "3     15-03-2020         Hainaut  Wallonia            14        54   \n",
       "4     15-03-2020         Limburg  Flanders             7        20   \n",
       "...          ...             ...       ...           ...       ...   \n",
       "8982  09-06-2022      Luxembourg  Wallonia             3        19   \n",
       "8983  09-06-2022           Namur  Wallonia             6        30   \n",
       "8984  09-06-2022  OostVlaanderen  Flanders            13       146   \n",
       "8985  09-06-2022   VlaamsBrabant  Flanders             6        84   \n",
       "8986  09-06-2022  WestVlaanderen  Flanders            11       118   \n",
       "\n",
       "      TOTAL_IN_ICU  TOTAL_IN_RESP  TOTAL_IN_ECMO  NEW_IN  NEW_OUT  WARD  \n",
       "0                9              4              0       7        4    33  \n",
       "1                2              2              0       1        0     1  \n",
       "2               11              8              0       7        2    37  \n",
       "3               12             10              1      26        1    30  \n",
       "4                6              3              0       9        3     8  \n",
       "...            ...            ...            ...     ...      ...   ...  \n",
       "8982             3              1              0       0        0    15  \n",
       "8983             0              0              0       1        1    29  \n",
       "8984             6              2              0      14       16   122  \n",
       "8985             7              4              0       2       10    63  \n",
       "8986             3              2              0       8       14    99  \n",
       "\n",
       "[8987 rows x 11 columns]"
      ]
     },
     "execution_count": 36,
     "metadata": {},
     "output_type": "execute_result"
    }
   ],
   "source": [
    "# reading the data with appropriate encoding.\n",
    "df_hosp = pd.read_csv('../input/covid19-belgium/HOSP.csv', encoding='ISO-8859-1')\n",
    "df_hosp"
   ]
  },
  {
   "cell_type": "code",
   "execution_count": 37,
   "id": "6e4d7261",
   "metadata": {
    "execution": {
     "iopub.execute_input": "2022-06-22T10:55:53.157801Z",
     "iopub.status.busy": "2022-06-22T10:55:53.157053Z",
     "iopub.status.idle": "2022-06-22T10:55:53.170426Z",
     "shell.execute_reply": "2022-06-22T10:55:53.169486Z"
    },
    "papermill": {
     "duration": 0.048073,
     "end_time": "2022-06-22T10:55:53.172644",
     "exception": false,
     "start_time": "2022-06-22T10:55:53.124571",
     "status": "completed"
    },
    "tags": []
   },
   "outputs": [
    {
     "data": {
      "text/plain": [
       "0"
      ]
     },
     "execution_count": 37,
     "metadata": {},
     "output_type": "execute_result"
    }
   ],
   "source": [
    "df_hosp.duplicated().sum()  # checking for duplicated data"
   ]
  },
  {
   "cell_type": "code",
   "execution_count": 38,
   "id": "036fbf21",
   "metadata": {
    "execution": {
     "iopub.execute_input": "2022-06-22T10:55:53.238064Z",
     "iopub.status.busy": "2022-06-22T10:55:53.237331Z",
     "iopub.status.idle": "2022-06-22T10:55:53.247695Z",
     "shell.execute_reply": "2022-06-22T10:55:53.246663Z"
    },
    "papermill": {
     "duration": 0.04522,
     "end_time": "2022-06-22T10:55:53.249747",
     "exception": false,
     "start_time": "2022-06-22T10:55:53.204527",
     "status": "completed"
    },
    "tags": []
   },
   "outputs": [
    {
     "data": {
      "text/plain": [
       "DATE             0\n",
       "PROVINCE         0\n",
       "REGION           0\n",
       "NR_REPORTING     0\n",
       "TOTAL_IN         0\n",
       "TOTAL_IN_ICU     0\n",
       "TOTAL_IN_RESP    0\n",
       "TOTAL_IN_ECMO    0\n",
       "NEW_IN           0\n",
       "NEW_OUT          0\n",
       "WARD             0\n",
       "dtype: int64"
      ]
     },
     "execution_count": 38,
     "metadata": {},
     "output_type": "execute_result"
    }
   ],
   "source": [
    "df_hosp.isnull().sum() # checking for null values"
   ]
  },
  {
   "cell_type": "code",
   "execution_count": 39,
   "id": "d3084bc9",
   "metadata": {
    "execution": {
     "iopub.execute_input": "2022-06-22T10:55:53.314522Z",
     "iopub.status.busy": "2022-06-22T10:55:53.313795Z",
     "iopub.status.idle": "2022-06-22T10:55:53.333508Z",
     "shell.execute_reply": "2022-06-22T10:55:53.332428Z"
    },
    "papermill": {
     "duration": 0.054698,
     "end_time": "2022-06-22T10:55:53.335690",
     "exception": false,
     "start_time": "2022-06-22T10:55:53.280992",
     "status": "completed"
    },
    "tags": []
   },
   "outputs": [
    {
     "data": {
      "text/html": [
       "<div>\n",
       "<style scoped>\n",
       "    .dataframe tbody tr th:only-of-type {\n",
       "        vertical-align: middle;\n",
       "    }\n",
       "\n",
       "    .dataframe tbody tr th {\n",
       "        vertical-align: top;\n",
       "    }\n",
       "\n",
       "    .dataframe thead th {\n",
       "        text-align: right;\n",
       "    }\n",
       "</style>\n",
       "<table border=\"1\" class=\"dataframe\">\n",
       "  <thead>\n",
       "    <tr style=\"text-align: right;\">\n",
       "      <th></th>\n",
       "      <th>TOTAL_IN</th>\n",
       "      <th>TOTAL_IN_ICU</th>\n",
       "      <th>TOTAL_IN_RESP</th>\n",
       "      <th>TOTAL_IN_ECMO</th>\n",
       "      <th>NEW_OUT</th>\n",
       "      <th>WARD</th>\n",
       "    </tr>\n",
       "    <tr>\n",
       "      <th>PROVINCE</th>\n",
       "      <th></th>\n",
       "      <th></th>\n",
       "      <th></th>\n",
       "      <th></th>\n",
       "      <th></th>\n",
       "      <th></th>\n",
       "    </tr>\n",
       "  </thead>\n",
       "  <tbody>\n",
       "    <tr>\n",
       "      <th>Antwerpen</th>\n",
       "      <td>241979</td>\n",
       "      <td>47860</td>\n",
       "      <td>27303</td>\n",
       "      <td>2492</td>\n",
       "      <td>22254</td>\n",
       "      <td>142070</td>\n",
       "    </tr>\n",
       "    <tr>\n",
       "      <th>BrabantWallon</th>\n",
       "      <td>21562</td>\n",
       "      <td>3967</td>\n",
       "      <td>2578</td>\n",
       "      <td>55</td>\n",
       "      <td>2346</td>\n",
       "      <td>12616</td>\n",
       "    </tr>\n",
       "    <tr>\n",
       "      <th>Brussels</th>\n",
       "      <td>254648</td>\n",
       "      <td>56158</td>\n",
       "      <td>35646</td>\n",
       "      <td>6937</td>\n",
       "      <td>22305</td>\n",
       "      <td>133602</td>\n",
       "    </tr>\n",
       "    <tr>\n",
       "      <th>Hainaut</th>\n",
       "      <td>240472</td>\n",
       "      <td>44864</td>\n",
       "      <td>29623</td>\n",
       "      <td>4119</td>\n",
       "      <td>18959</td>\n",
       "      <td>142907</td>\n",
       "    </tr>\n",
       "    <tr>\n",
       "      <th>Limburg</th>\n",
       "      <td>99154</td>\n",
       "      <td>20126</td>\n",
       "      <td>10637</td>\n",
       "      <td>1147</td>\n",
       "      <td>9648</td>\n",
       "      <td>57596</td>\n",
       "    </tr>\n",
       "    <tr>\n",
       "      <th>Liège</th>\n",
       "      <td>181659</td>\n",
       "      <td>35783</td>\n",
       "      <td>21601</td>\n",
       "      <td>1099</td>\n",
       "      <td>15077</td>\n",
       "      <td>108099</td>\n",
       "    </tr>\n",
       "    <tr>\n",
       "      <th>Luxembourg</th>\n",
       "      <td>31489</td>\n",
       "      <td>6780</td>\n",
       "      <td>3749</td>\n",
       "      <td>99</td>\n",
       "      <td>2116</td>\n",
       "      <td>18745</td>\n",
       "    </tr>\n",
       "    <tr>\n",
       "      <th>Namur</th>\n",
       "      <td>64801</td>\n",
       "      <td>15651</td>\n",
       "      <td>9495</td>\n",
       "      <td>1332</td>\n",
       "      <td>5005</td>\n",
       "      <td>33318</td>\n",
       "    </tr>\n",
       "    <tr>\n",
       "      <th>OostVlaanderen</th>\n",
       "      <td>207501</td>\n",
       "      <td>41163</td>\n",
       "      <td>19655</td>\n",
       "      <td>2110</td>\n",
       "      <td>20433</td>\n",
       "      <td>124140</td>\n",
       "    </tr>\n",
       "    <tr>\n",
       "      <th>VlaamsBrabant</th>\n",
       "      <td>86607</td>\n",
       "      <td>17757</td>\n",
       "      <td>9804</td>\n",
       "      <td>1236</td>\n",
       "      <td>6548</td>\n",
       "      <td>51262</td>\n",
       "    </tr>\n",
       "    <tr>\n",
       "      <th>WestVlaanderen</th>\n",
       "      <td>185717</td>\n",
       "      <td>31761</td>\n",
       "      <td>16172</td>\n",
       "      <td>1226</td>\n",
       "      <td>17980</td>\n",
       "      <td>118578</td>\n",
       "    </tr>\n",
       "  </tbody>\n",
       "</table>\n",
       "</div>"
      ],
      "text/plain": [
       "                TOTAL_IN  TOTAL_IN_ICU  TOTAL_IN_RESP  TOTAL_IN_ECMO  NEW_OUT  \\\n",
       "PROVINCE                                                                        \n",
       "Antwerpen         241979         47860          27303           2492    22254   \n",
       "BrabantWallon      21562          3967           2578             55     2346   \n",
       "Brussels          254648         56158          35646           6937    22305   \n",
       "Hainaut           240472         44864          29623           4119    18959   \n",
       "Limburg            99154         20126          10637           1147     9648   \n",
       "Liège             181659         35783          21601           1099    15077   \n",
       "Luxembourg         31489          6780           3749             99     2116   \n",
       "Namur              64801         15651           9495           1332     5005   \n",
       "OostVlaanderen    207501         41163          19655           2110    20433   \n",
       "VlaamsBrabant      86607         17757           9804           1236     6548   \n",
       "WestVlaanderen    185717         31761          16172           1226    17980   \n",
       "\n",
       "                  WARD  \n",
       "PROVINCE                \n",
       "Antwerpen       142070  \n",
       "BrabantWallon    12616  \n",
       "Brussels        133602  \n",
       "Hainaut         142907  \n",
       "Limburg          57596  \n",
       "Liège           108099  \n",
       "Luxembourg       18745  \n",
       "Namur            33318  \n",
       "OostVlaanderen  124140  \n",
       "VlaamsBrabant    51262  \n",
       "WestVlaanderen  118578  "
      ]
     },
     "execution_count": 39,
     "metadata": {},
     "output_type": "execute_result"
    }
   ],
   "source": [
    "# grouping by province with adding all required numerical column\n",
    "hosp_province = df_hosp.groupby(['PROVINCE'])[['TOTAL_IN','TOTAL_IN_ICU','TOTAL_IN_RESP','TOTAL_IN_ECMO','NEW_OUT','WARD']].sum()\n",
    "hosp_province"
   ]
  },
  {
   "cell_type": "code",
   "execution_count": 40,
   "id": "b5556125",
   "metadata": {
    "execution": {
     "iopub.execute_input": "2022-06-22T10:55:53.401487Z",
     "iopub.status.busy": "2022-06-22T10:55:53.401093Z",
     "iopub.status.idle": "2022-06-22T10:55:53.408316Z",
     "shell.execute_reply": "2022-06-22T10:55:53.406991Z"
    },
    "papermill": {
     "duration": 0.043064,
     "end_time": "2022-06-22T10:55:53.410704",
     "exception": false,
     "start_time": "2022-06-22T10:55:53.367640",
     "status": "completed"
    },
    "tags": []
   },
   "outputs": [
    {
     "data": {
      "text/plain": [
       "Index(['TOTAL_IN', 'TOTAL_IN_ICU', 'TOTAL_IN_RESP', 'TOTAL_IN_ECMO', 'NEW_OUT',\n",
       "       'WARD'],\n",
       "      dtype='object')"
      ]
     },
     "execution_count": 40,
     "metadata": {},
     "output_type": "execute_result"
    }
   ],
   "source": [
    "hosp_province.columns"
   ]
  },
  {
   "cell_type": "code",
   "execution_count": 41,
   "id": "c930bc95",
   "metadata": {
    "execution": {
     "iopub.execute_input": "2022-06-22T10:55:53.477217Z",
     "iopub.status.busy": "2022-06-22T10:55:53.476476Z",
     "iopub.status.idle": "2022-06-22T10:55:53.859374Z",
     "shell.execute_reply": "2022-06-22T10:55:53.857884Z"
    },
    "papermill": {
     "duration": 0.418572,
     "end_time": "2022-06-22T10:55:53.861834",
     "exception": false,
     "start_time": "2022-06-22T10:55:53.443262",
     "status": "completed"
    },
    "tags": []
   },
   "outputs": [
    {
     "data": {
      "text/plain": [
       "<AxesSubplot:xlabel='PROVINCE'>"
      ]
     },
     "execution_count": 41,
     "metadata": {},
     "output_type": "execute_result"
    },
    {
     "data": {
      "image/png": "[encoded data removed]",
      "text/plain": [
       "<Figure size 864x504 with 1 Axes>"
      ]
     },
     "metadata": {
      "needs_background": "light"
     },
     "output_type": "display_data"
    }
   ],
   "source": [
    "hosp_province.plot(kind='bar', stacked=True, color=['lightgreen', 'red', 'orange','yellow','green','purple'],figsize=(12,7))"
   ]
  },
  {
   "cell_type": "markdown",
   "id": "c5c1bfe1",
   "metadata": {
    "papermill": {
     "duration": 0.034604,
     "end_time": "2022-06-22T10:55:53.929722",
     "exception": false,
     "start_time": "2022-06-22T10:55:53.895118",
     "status": "completed"
    },
    "tags": []
   },
   "source": [
    "## Observation-\n",
    "1. Brussels have most no. of patients in ICU.\n",
    "2. Majority of patiens are in ward shows the have only mildly cold or very few symtoms.\n",
    "3. Recoverd and discharched patients are way less compare to incoming patients."
   ]
  },
  {
   "cell_type": "code",
   "execution_count": 42,
   "id": "a3f02a11",
   "metadata": {
    "execution": {
     "iopub.execute_input": "2022-06-22T10:55:53.997590Z",
     "iopub.status.busy": "2022-06-22T10:55:53.996918Z",
     "iopub.status.idle": "2022-06-22T10:55:54.011725Z",
     "shell.execute_reply": "2022-06-22T10:55:54.010968Z"
    },
    "papermill": {
     "duration": 0.050453,
     "end_time": "2022-06-22T10:55:54.013562",
     "exception": false,
     "start_time": "2022-06-22T10:55:53.963109",
     "status": "completed"
    },
    "tags": []
   },
   "outputs": [
    {
     "data": {
      "text/html": [
       "<div>\n",
       "<style scoped>\n",
       "    .dataframe tbody tr th:only-of-type {\n",
       "        vertical-align: middle;\n",
       "    }\n",
       "\n",
       "    .dataframe tbody tr th {\n",
       "        vertical-align: top;\n",
       "    }\n",
       "\n",
       "    .dataframe thead th {\n",
       "        text-align: right;\n",
       "    }\n",
       "</style>\n",
       "<table border=\"1\" class=\"dataframe\">\n",
       "  <thead>\n",
       "    <tr style=\"text-align: right;\">\n",
       "      <th></th>\n",
       "      <th>TOTAL_IN</th>\n",
       "      <th>TOTAL_IN_ICU</th>\n",
       "      <th>TOTAL_IN_RESP</th>\n",
       "      <th>TOTAL_IN_ECMO</th>\n",
       "      <th>NEW_OUT</th>\n",
       "      <th>WARD</th>\n",
       "    </tr>\n",
       "    <tr>\n",
       "      <th>REGION</th>\n",
       "      <th></th>\n",
       "      <th></th>\n",
       "      <th></th>\n",
       "      <th></th>\n",
       "      <th></th>\n",
       "      <th></th>\n",
       "    </tr>\n",
       "  </thead>\n",
       "  <tbody>\n",
       "    <tr>\n",
       "      <th>Brussels</th>\n",
       "      <td>254648</td>\n",
       "      <td>56158</td>\n",
       "      <td>35646</td>\n",
       "      <td>6937</td>\n",
       "      <td>22305</td>\n",
       "      <td>133602</td>\n",
       "    </tr>\n",
       "    <tr>\n",
       "      <th>Flanders</th>\n",
       "      <td>820958</td>\n",
       "      <td>158667</td>\n",
       "      <td>83571</td>\n",
       "      <td>8211</td>\n",
       "      <td>76863</td>\n",
       "      <td>493646</td>\n",
       "    </tr>\n",
       "    <tr>\n",
       "      <th>Wallonia</th>\n",
       "      <td>539983</td>\n",
       "      <td>107045</td>\n",
       "      <td>67046</td>\n",
       "      <td>6704</td>\n",
       "      <td>43503</td>\n",
       "      <td>315685</td>\n",
       "    </tr>\n",
       "  </tbody>\n",
       "</table>\n",
       "</div>"
      ],
      "text/plain": [
       "          TOTAL_IN  TOTAL_IN_ICU  TOTAL_IN_RESP  TOTAL_IN_ECMO  NEW_OUT  \\\n",
       "REGION                                                                    \n",
       "Brussels    254648         56158          35646           6937    22305   \n",
       "Flanders    820958        158667          83571           8211    76863   \n",
       "Wallonia    539983        107045          67046           6704    43503   \n",
       "\n",
       "            WARD  \n",
       "REGION            \n",
       "Brussels  133602  \n",
       "Flanders  493646  \n",
       "Wallonia  315685  "
      ]
     },
     "execution_count": 42,
     "metadata": {},
     "output_type": "execute_result"
    }
   ],
   "source": [
    "# Grouping the data region wise\n",
    "hosp_region = df_hosp.groupby(['REGION'])[['TOTAL_IN','TOTAL_IN_ICU','TOTAL_IN_RESP','TOTAL_IN_ECMO','NEW_OUT','WARD']].sum()\n",
    "hosp_region"
   ]
  },
  {
   "cell_type": "code",
   "execution_count": 43,
   "id": "366688dc",
   "metadata": {
    "execution": {
     "iopub.execute_input": "2022-06-22T10:55:54.082242Z",
     "iopub.status.busy": "2022-06-22T10:55:54.081593Z",
     "iopub.status.idle": "2022-06-22T10:55:54.332363Z",
     "shell.execute_reply": "2022-06-22T10:55:54.331169Z"
    },
    "papermill": {
     "duration": 0.288085,
     "end_time": "2022-06-22T10:55:54.334802",
     "exception": false,
     "start_time": "2022-06-22T10:55:54.046717",
     "status": "completed"
    },
    "tags": []
   },
   "outputs": [
    {
     "data": {
      "text/plain": [
       "<AxesSubplot:xlabel='REGION'>"
      ]
     },
     "execution_count": 43,
     "metadata": {},
     "output_type": "execute_result"
    },
    {
     "data": {
      "image/png": "[encoded data removed]",
      "text/plain": [
       "<Figure size 864x504 with 1 Axes>"
      ]
     },
     "metadata": {
      "needs_background": "light"
     },
     "output_type": "display_data"
    }
   ],
   "source": [
    "hosp_region.plot(kind='bar', stacked=True, color=['lightgreen', 'red', 'orange','yellow','green','purple'],figsize=(12,7))"
   ]
  },
  {
   "cell_type": "markdown",
   "id": "9fdff424",
   "metadata": {
    "papermill": {
     "duration": 0.034174,
     "end_time": "2022-06-22T10:55:54.402978",
     "exception": false,
     "start_time": "2022-06-22T10:55:54.368804",
     "status": "completed"
    },
    "tags": []
   },
   "source": [
    "## Observations-\n",
    "1. For every sector Flanders region is struggling with heighest number of cases."
   ]
  },
  {
   "cell_type": "code",
   "execution_count": null,
   "id": "ce87bf15",
   "metadata": {
    "papermill": {
     "duration": 0.035326,
     "end_time": "2022-06-22T10:55:54.471999",
     "exception": false,
     "start_time": "2022-06-22T10:55:54.436673",
     "status": "completed"
    },
    "tags": []
   },
   "outputs": [],
   "source": []
  },
  {
   "cell_type": "markdown",
   "id": "06be1586",
   "metadata": {
    "papermill": {
     "duration": 0.035496,
     "end_time": "2022-06-22T10:55:54.544345",
     "exception": false,
     "start_time": "2022-06-22T10:55:54.508849",
     "status": "completed"
    },
    "tags": []
   },
   "source": [
    "## Mortuary data"
   ]
  },
  {
   "cell_type": "code",
   "execution_count": 44,
   "id": "b91f1fe5",
   "metadata": {
    "execution": {
     "iopub.execute_input": "2022-06-22T10:55:54.614339Z",
     "iopub.status.busy": "2022-06-22T10:55:54.613933Z",
     "iopub.status.idle": "2022-06-22T10:55:54.641123Z",
     "shell.execute_reply": "2022-06-22T10:55:54.640108Z"
    },
    "papermill": {
     "duration": 0.064097,
     "end_time": "2022-06-22T10:55:54.643300",
     "exception": false,
     "start_time": "2022-06-22T10:55:54.579203",
     "status": "completed"
    },
    "tags": []
   },
   "outputs": [
    {
     "data": {
      "text/html": [
       "<div>\n",
       "<style scoped>\n",
       "    .dataframe tbody tr th:only-of-type {\n",
       "        vertical-align: middle;\n",
       "    }\n",
       "\n",
       "    .dataframe tbody tr th {\n",
       "        vertical-align: top;\n",
       "    }\n",
       "\n",
       "    .dataframe thead th {\n",
       "        text-align: right;\n",
       "    }\n",
       "</style>\n",
       "<table border=\"1\" class=\"dataframe\">\n",
       "  <thead>\n",
       "    <tr style=\"text-align: right;\">\n",
       "      <th></th>\n",
       "      <th>DATE</th>\n",
       "      <th>REGION</th>\n",
       "      <th>AGEGROUP</th>\n",
       "      <th>SEX</th>\n",
       "      <th>DEATHS</th>\n",
       "    </tr>\n",
       "  </thead>\n",
       "  <tbody>\n",
       "    <tr>\n",
       "      <th>0</th>\n",
       "      <td>2020-03-07</td>\n",
       "      <td>Brussels</td>\n",
       "      <td>75-84</td>\n",
       "      <td>M</td>\n",
       "      <td>1</td>\n",
       "    </tr>\n",
       "    <tr>\n",
       "      <th>1</th>\n",
       "      <td>2020-03-10</td>\n",
       "      <td>Brussels</td>\n",
       "      <td>85+</td>\n",
       "      <td>F</td>\n",
       "      <td>1</td>\n",
       "    </tr>\n",
       "    <tr>\n",
       "      <th>2</th>\n",
       "      <td>2020-03-11</td>\n",
       "      <td>Flanders</td>\n",
       "      <td>85+</td>\n",
       "      <td>M</td>\n",
       "      <td>1</td>\n",
       "    </tr>\n",
       "    <tr>\n",
       "      <th>3</th>\n",
       "      <td>2020-03-11</td>\n",
       "      <td>Brussels</td>\n",
       "      <td>65-74</td>\n",
       "      <td>M</td>\n",
       "      <td>1</td>\n",
       "    </tr>\n",
       "    <tr>\n",
       "      <th>4</th>\n",
       "      <td>2020-03-11</td>\n",
       "      <td>Brussels</td>\n",
       "      <td>85+</td>\n",
       "      <td>F</td>\n",
       "      <td>1</td>\n",
       "    </tr>\n",
       "    <tr>\n",
       "      <th>...</th>\n",
       "      <td>...</td>\n",
       "      <td>...</td>\n",
       "      <td>...</td>\n",
       "      <td>...</td>\n",
       "      <td>...</td>\n",
       "    </tr>\n",
       "    <tr>\n",
       "      <th>9544</th>\n",
       "      <td>2022-06-08</td>\n",
       "      <td>Wallonia</td>\n",
       "      <td>75-84</td>\n",
       "      <td>M</td>\n",
       "      <td>1</td>\n",
       "    </tr>\n",
       "    <tr>\n",
       "      <th>9545</th>\n",
       "      <td>2022-06-08</td>\n",
       "      <td>Wallonia</td>\n",
       "      <td>85+</td>\n",
       "      <td>F</td>\n",
       "      <td>1</td>\n",
       "    </tr>\n",
       "    <tr>\n",
       "      <th>9546</th>\n",
       "      <td>2022-06-08</td>\n",
       "      <td>Flanders</td>\n",
       "      <td>75-84</td>\n",
       "      <td>M</td>\n",
       "      <td>1</td>\n",
       "    </tr>\n",
       "    <tr>\n",
       "      <th>9547</th>\n",
       "      <td>2022-06-08</td>\n",
       "      <td>Flanders</td>\n",
       "      <td>85+</td>\n",
       "      <td>M</td>\n",
       "      <td>1</td>\n",
       "    </tr>\n",
       "    <tr>\n",
       "      <th>9548</th>\n",
       "      <td>2022-06-09</td>\n",
       "      <td>Flanders</td>\n",
       "      <td>75-84</td>\n",
       "      <td>F</td>\n",
       "      <td>1</td>\n",
       "    </tr>\n",
       "  </tbody>\n",
       "</table>\n",
       "<p>9549 rows × 5 columns</p>\n",
       "</div>"
      ],
      "text/plain": [
       "            DATE    REGION AGEGROUP SEX  DEATHS\n",
       "0     2020-03-07  Brussels    75-84   M       1\n",
       "1     2020-03-10  Brussels      85+   F       1\n",
       "2     2020-03-11  Flanders      85+   M       1\n",
       "3     2020-03-11  Brussels    65-74   M       1\n",
       "4     2020-03-11  Brussels      85+   F       1\n",
       "...          ...       ...      ...  ..     ...\n",
       "9544  2022-06-08  Wallonia    75-84   M       1\n",
       "9545  2022-06-08  Wallonia      85+   F       1\n",
       "9546  2022-06-08  Flanders    75-84   M       1\n",
       "9547  2022-06-08  Flanders      85+   M       1\n",
       "9548  2022-06-09  Flanders    75-84   F       1\n",
       "\n",
       "[9549 rows x 5 columns]"
      ]
     },
     "execution_count": 44,
     "metadata": {},
     "output_type": "execute_result"
    }
   ],
   "source": [
    "# reading the data with appropriate encoding.\n",
    "df_mort = pd.read_csv('../input/covid19-belgium/MORT.csv', encoding='ISO-8859-1' ,parse_dates=True)\n",
    "df_mort"
   ]
  },
  {
   "cell_type": "code",
   "execution_count": 45,
   "id": "1c62a906",
   "metadata": {
    "execution": {
     "iopub.execute_input": "2022-06-22T10:55:54.714919Z",
     "iopub.status.busy": "2022-06-22T10:55:54.714221Z",
     "iopub.status.idle": "2022-06-22T10:55:54.728217Z",
     "shell.execute_reply": "2022-06-22T10:55:54.726657Z"
    },
    "papermill": {
     "duration": 0.05254,
     "end_time": "2022-06-22T10:55:54.730716",
     "exception": false,
     "start_time": "2022-06-22T10:55:54.678176",
     "status": "completed"
    },
    "tags": []
   },
   "outputs": [
    {
     "name": "stdout",
     "output_type": "stream",
     "text": [
      "<class 'pandas.core.frame.DataFrame'>\n",
      "RangeIndex: 9549 entries, 0 to 9548\n",
      "Data columns (total 5 columns):\n",
      " #   Column    Non-Null Count  Dtype \n",
      "---  ------    --------------  ----- \n",
      " 0   DATE      9549 non-null   object\n",
      " 1   REGION    9549 non-null   object\n",
      " 2   AGEGROUP  9522 non-null   object\n",
      " 3   SEX       9529 non-null   object\n",
      " 4   DEATHS    9549 non-null   int64 \n",
      "dtypes: int64(1), object(4)\n",
      "memory usage: 373.1+ KB\n"
     ]
    }
   ],
   "source": [
    "df_mort.info() "
   ]
  },
  {
   "cell_type": "code",
   "execution_count": 46,
   "id": "9be44593",
   "metadata": {
    "execution": {
     "iopub.execute_input": "2022-06-22T10:55:54.807235Z",
     "iopub.status.busy": "2022-06-22T10:55:54.806870Z",
     "iopub.status.idle": "2022-06-22T10:55:54.826254Z",
     "shell.execute_reply": "2022-06-22T10:55:54.824872Z"
    },
    "papermill": {
     "duration": 0.062113,
     "end_time": "2022-06-22T10:55:54.828807",
     "exception": false,
     "start_time": "2022-06-22T10:55:54.766694",
     "status": "completed"
    },
    "tags": []
   },
   "outputs": [
    {
     "name": "stdout",
     "output_type": "stream",
     "text": [
      "<class 'pandas.core.frame.DataFrame'>\n",
      "RangeIndex: 9549 entries, 0 to 9548\n",
      "Data columns (total 5 columns):\n",
      " #   Column    Non-Null Count  Dtype         \n",
      "---  ------    --------------  -----         \n",
      " 0   DATE      9549 non-null   datetime64[ns]\n",
      " 1   REGION    9549 non-null   object        \n",
      " 2   AGEGROUP  9522 non-null   object        \n",
      " 3   SEX       9529 non-null   object        \n",
      " 4   DEATHS    9549 non-null   int64         \n",
      "dtypes: datetime64[ns](1), int64(1), object(3)\n",
      "memory usage: 373.1+ KB\n"
     ]
    }
   ],
   "source": [
    "df_mort['DATE'] = pd.to_datetime(df_mort['DATE'])\n",
    "df_mort.info() #correcting the datatype"
   ]
  },
  {
   "cell_type": "code",
   "execution_count": 47,
   "id": "8afcacd8",
   "metadata": {
    "execution": {
     "iopub.execute_input": "2022-06-22T10:55:54.919902Z",
     "iopub.status.busy": "2022-06-22T10:55:54.919436Z",
     "iopub.status.idle": "2022-06-22T10:55:54.931244Z",
     "shell.execute_reply": "2022-06-22T10:55:54.930464Z"
    },
    "papermill": {
     "duration": 0.060456,
     "end_time": "2022-06-22T10:55:54.933191",
     "exception": false,
     "start_time": "2022-06-22T10:55:54.872735",
     "status": "completed"
    },
    "tags": []
   },
   "outputs": [
    {
     "data": {
      "text/plain": [
       "0"
      ]
     },
     "execution_count": 47,
     "metadata": {},
     "output_type": "execute_result"
    }
   ],
   "source": [
    "df_mort.duplicated().sum() #checking for duplicated value"
   ]
  },
  {
   "cell_type": "code",
   "execution_count": 48,
   "id": "118bc1e6",
   "metadata": {
    "execution": {
     "iopub.execute_input": "2022-06-22T10:55:55.003804Z",
     "iopub.status.busy": "2022-06-22T10:55:55.003164Z",
     "iopub.status.idle": "2022-06-22T10:55:55.012746Z",
     "shell.execute_reply": "2022-06-22T10:55:55.011919Z"
    },
    "papermill": {
     "duration": 0.047443,
     "end_time": "2022-06-22T10:55:55.014633",
     "exception": false,
     "start_time": "2022-06-22T10:55:54.967190",
     "status": "completed"
    },
    "tags": []
   },
   "outputs": [
    {
     "data": {
      "text/plain": [
       "DATE         0\n",
       "REGION       0\n",
       "AGEGROUP    27\n",
       "SEX         20\n",
       "DEATHS       0\n",
       "dtype: int64"
      ]
     },
     "execution_count": 48,
     "metadata": {},
     "output_type": "execute_result"
    }
   ],
   "source": [
    "df_mort.isnull().sum() #checking for null value."
   ]
  },
  {
   "cell_type": "code",
   "execution_count": 49,
   "id": "a9c58028",
   "metadata": {
    "execution": {
     "iopub.execute_input": "2022-06-22T10:55:55.087109Z",
     "iopub.status.busy": "2022-06-22T10:55:55.086471Z",
     "iopub.status.idle": "2022-06-22T10:55:55.094466Z",
     "shell.execute_reply": "2022-06-22T10:55:55.093656Z"
    },
    "papermill": {
     "duration": 0.046226,
     "end_time": "2022-06-22T10:55:55.096502",
     "exception": false,
     "start_time": "2022-06-22T10:55:55.050276",
     "status": "completed"
    },
    "tags": []
   },
   "outputs": [
    {
     "data": {
      "text/plain": [
       "85+      2983\n",
       "75-84    2708\n",
       "65-74    2127\n",
       "45-64    1498\n",
       "25-44     190\n",
       "0-24       16\n",
       "Name: AGEGROUP, dtype: int64"
      ]
     },
     "execution_count": 49,
     "metadata": {},
     "output_type": "execute_result"
    }
   ],
   "source": [
    "df_mort['AGEGROUP'].value_counts() # deaths according to agegroup"
   ]
  },
  {
   "cell_type": "code",
   "execution_count": 50,
   "id": "0a030650",
   "metadata": {
    "execution": {
     "iopub.execute_input": "2022-06-22T10:55:55.238608Z",
     "iopub.status.busy": "2022-06-22T10:55:55.237669Z",
     "iopub.status.idle": "2022-06-22T10:55:55.244299Z",
     "shell.execute_reply": "2022-06-22T10:55:55.243516Z"
    },
    "papermill": {
     "duration": 0.043762,
     "end_time": "2022-06-22T10:55:55.246397",
     "exception": false,
     "start_time": "2022-06-22T10:55:55.202635",
     "status": "completed"
    },
    "tags": []
   },
   "outputs": [],
   "source": [
    "# filling the data with mode \n",
    "df_mort['AGEGROUP'] = df_mort['AGEGROUP'].fillna(df_mort['AGEGROUP'].mode()[0])"
   ]
  },
  {
   "cell_type": "code",
   "execution_count": 51,
   "id": "058addd7",
   "metadata": {
    "execution": {
     "iopub.execute_input": "2022-06-22T10:55:55.321033Z",
     "iopub.status.busy": "2022-06-22T10:55:55.320046Z",
     "iopub.status.idle": "2022-06-22T10:55:55.330507Z",
     "shell.execute_reply": "2022-06-22T10:55:55.329618Z"
    },
    "papermill": {
     "duration": 0.051124,
     "end_time": "2022-06-22T10:55:55.332802",
     "exception": false,
     "start_time": "2022-06-22T10:55:55.281678",
     "status": "completed"
    },
    "tags": []
   },
   "outputs": [
    {
     "data": {
      "text/plain": [
       "DATE         0\n",
       "REGION       0\n",
       "AGEGROUP     0\n",
       "SEX         20\n",
       "DEATHS       0\n",
       "dtype: int64"
      ]
     },
     "execution_count": 51,
     "metadata": {},
     "output_type": "execute_result"
    }
   ],
   "source": [
    "df_mort.isnull().sum() #checking its null value"
   ]
  },
  {
   "cell_type": "code",
   "execution_count": 52,
   "id": "d4d519f2",
   "metadata": {
    "execution": {
     "iopub.execute_input": "2022-06-22T10:55:55.409205Z",
     "iopub.status.busy": "2022-06-22T10:55:55.408187Z",
     "iopub.status.idle": "2022-06-22T10:55:55.417066Z",
     "shell.execute_reply": "2022-06-22T10:55:55.415933Z"
    },
    "papermill": {
     "duration": 0.049275,
     "end_time": "2022-06-22T10:55:55.419249",
     "exception": false,
     "start_time": "2022-06-22T10:55:55.369974",
     "status": "completed"
    },
    "tags": []
   },
   "outputs": [
    {
     "data": {
      "text/plain": [
       "M    5157\n",
       "F    4372\n",
       "Name: SEX, dtype: int64"
      ]
     },
     "execution_count": 52,
     "metadata": {},
     "output_type": "execute_result"
    }
   ],
   "source": [
    "df_mort['SEX'].value_counts() # deaths according to gender."
   ]
  },
  {
   "cell_type": "code",
   "execution_count": 53,
   "id": "7250f2f1",
   "metadata": {
    "execution": {
     "iopub.execute_input": "2022-06-22T10:55:55.491696Z",
     "iopub.status.busy": "2022-06-22T10:55:55.491229Z",
     "iopub.status.idle": "2022-06-22T10:55:55.498372Z",
     "shell.execute_reply": "2022-06-22T10:55:55.497629Z"
    },
    "papermill": {
     "duration": 0.046745,
     "end_time": "2022-06-22T10:55:55.500259",
     "exception": false,
     "start_time": "2022-06-22T10:55:55.453514",
     "status": "completed"
    },
    "tags": []
   },
   "outputs": [
    {
     "data": {
      "text/plain": [
       "'M'"
      ]
     },
     "execution_count": 53,
     "metadata": {},
     "output_type": "execute_result"
    }
   ],
   "source": [
    "df_mort['SEX'].mode()[0] #finding mode"
   ]
  },
  {
   "cell_type": "code",
   "execution_count": 54,
   "id": "37ef210e",
   "metadata": {
    "execution": {
     "iopub.execute_input": "2022-06-22T10:55:55.574003Z",
     "iopub.status.busy": "2022-06-22T10:55:55.573226Z",
     "iopub.status.idle": "2022-06-22T10:55:55.580852Z",
     "shell.execute_reply": "2022-06-22T10:55:55.579916Z"
    },
    "papermill": {
     "duration": 0.048394,
     "end_time": "2022-06-22T10:55:55.583080",
     "exception": false,
     "start_time": "2022-06-22T10:55:55.534686",
     "status": "completed"
    },
    "tags": []
   },
   "outputs": [],
   "source": [
    "# filling the data with mode \n",
    "df_mort['SEX'] = df_mort['SEX'].fillna(df_mort['SEX'].mode()[0])"
   ]
  },
  {
   "cell_type": "code",
   "execution_count": 55,
   "id": "7f72c392",
   "metadata": {
    "execution": {
     "iopub.execute_input": "2022-06-22T10:55:55.656642Z",
     "iopub.status.busy": "2022-06-22T10:55:55.655494Z",
     "iopub.status.idle": "2022-06-22T10:55:55.665803Z",
     "shell.execute_reply": "2022-06-22T10:55:55.664715Z"
    },
    "papermill": {
     "duration": 0.049498,
     "end_time": "2022-06-22T10:55:55.668153",
     "exception": false,
     "start_time": "2022-06-22T10:55:55.618655",
     "status": "completed"
    },
    "tags": []
   },
   "outputs": [
    {
     "data": {
      "text/plain": [
       "DATE        0\n",
       "REGION      0\n",
       "AGEGROUP    0\n",
       "SEX         0\n",
       "DEATHS      0\n",
       "dtype: int64"
      ]
     },
     "execution_count": 55,
     "metadata": {},
     "output_type": "execute_result"
    }
   ],
   "source": [
    "df_mort.isnull().sum()"
   ]
  },
  {
   "cell_type": "code",
   "execution_count": 56,
   "id": "60b65dd3",
   "metadata": {
    "execution": {
     "iopub.execute_input": "2022-06-22T10:55:55.740620Z",
     "iopub.status.busy": "2022-06-22T10:55:55.739930Z",
     "iopub.status.idle": "2022-06-22T10:55:55.750630Z",
     "shell.execute_reply": "2022-06-22T10:55:55.749699Z"
    },
    "papermill": {
     "duration": 0.050055,
     "end_time": "2022-06-22T10:55:55.753273",
     "exception": false,
     "start_time": "2022-06-22T10:55:55.703218",
     "status": "completed"
    },
    "tags": []
   },
   "outputs": [],
   "source": [
    "#grouping the data based on region and gender.\n",
    "mort_data = df_mort.groupby(['REGION','SEX'],as_index=False)['DEATHS'].sum()\n"
   ]
  },
  {
   "cell_type": "code",
   "execution_count": 57,
   "id": "baa45560",
   "metadata": {
    "execution": {
     "iopub.execute_input": "2022-06-22T10:55:55.826304Z",
     "iopub.status.busy": "2022-06-22T10:55:55.825603Z",
     "iopub.status.idle": "2022-06-22T10:55:55.835354Z",
     "shell.execute_reply": "2022-06-22T10:55:55.834536Z"
    },
    "papermill": {
     "duration": 0.048104,
     "end_time": "2022-06-22T10:55:55.837306",
     "exception": false,
     "start_time": "2022-06-22T10:55:55.789202",
     "status": "completed"
    },
    "tags": []
   },
   "outputs": [
    {
     "data": {
      "text/html": [
       "<div>\n",
       "<style scoped>\n",
       "    .dataframe tbody tr th:only-of-type {\n",
       "        vertical-align: middle;\n",
       "    }\n",
       "\n",
       "    .dataframe tbody tr th {\n",
       "        vertical-align: top;\n",
       "    }\n",
       "\n",
       "    .dataframe thead th {\n",
       "        text-align: right;\n",
       "    }\n",
       "</style>\n",
       "<table border=\"1\" class=\"dataframe\">\n",
       "  <thead>\n",
       "    <tr style=\"text-align: right;\">\n",
       "      <th></th>\n",
       "      <th>REGION</th>\n",
       "      <th>SEX</th>\n",
       "      <th>DEATHS</th>\n",
       "    </tr>\n",
       "  </thead>\n",
       "  <tbody>\n",
       "    <tr>\n",
       "      <th>0</th>\n",
       "      <td>Brussels</td>\n",
       "      <td>F</td>\n",
       "      <td>1934</td>\n",
       "    </tr>\n",
       "    <tr>\n",
       "      <th>1</th>\n",
       "      <td>Brussels</td>\n",
       "      <td>M</td>\n",
       "      <td>2249</td>\n",
       "    </tr>\n",
       "    <tr>\n",
       "      <th>2</th>\n",
       "      <td>Flanders</td>\n",
       "      <td>F</td>\n",
       "      <td>7691</td>\n",
       "    </tr>\n",
       "    <tr>\n",
       "      <th>3</th>\n",
       "      <td>Flanders</td>\n",
       "      <td>M</td>\n",
       "      <td>8552</td>\n",
       "    </tr>\n",
       "    <tr>\n",
       "      <th>4</th>\n",
       "      <td>Wallonia</td>\n",
       "      <td>F</td>\n",
       "      <td>5600</td>\n",
       "    </tr>\n",
       "    <tr>\n",
       "      <th>5</th>\n",
       "      <td>Wallonia</td>\n",
       "      <td>M</td>\n",
       "      <td>5790</td>\n",
       "    </tr>\n",
       "  </tbody>\n",
       "</table>\n",
       "</div>"
      ],
      "text/plain": [
       "     REGION SEX  DEATHS\n",
       "0  Brussels   F    1934\n",
       "1  Brussels   M    2249\n",
       "2  Flanders   F    7691\n",
       "3  Flanders   M    8552\n",
       "4  Wallonia   F    5600\n",
       "5  Wallonia   M    5790"
      ]
     },
     "execution_count": 57,
     "metadata": {},
     "output_type": "execute_result"
    }
   ],
   "source": [
    "mort_data"
   ]
  },
  {
   "cell_type": "code",
   "execution_count": null,
   "id": "2c53329a",
   "metadata": {
    "papermill": {
     "duration": 0.03501,
     "end_time": "2022-06-22T10:55:55.907947",
     "exception": false,
     "start_time": "2022-06-22T10:55:55.872937",
     "status": "completed"
    },
    "tags": []
   },
   "outputs": [],
   "source": []
  },
  {
   "cell_type": "code",
   "execution_count": 58,
   "id": "99d21e86",
   "metadata": {
    "execution": {
     "iopub.execute_input": "2022-06-22T10:55:55.983957Z",
     "iopub.status.busy": "2022-06-22T10:55:55.983184Z",
     "iopub.status.idle": "2022-06-22T10:55:56.201322Z",
     "shell.execute_reply": "2022-06-22T10:55:56.200199Z"
    },
    "papermill": {
     "duration": 0.258561,
     "end_time": "2022-06-22T10:55:56.203635",
     "exception": false,
     "start_time": "2022-06-22T10:55:55.945074",
     "status": "completed"
    },
    "tags": []
   },
   "outputs": [
    {
     "data": {
      "text/plain": [
       "<AxesSubplot:xlabel='REGION', ylabel='DEATHS'>"
      ]
     },
     "execution_count": 58,
     "metadata": {},
     "output_type": "execute_result"
    },
    {
     "data": {
      "image/png": "[encoded data removed]",
      "text/plain": [
       "<Figure size 720x432 with 1 Axes>"
      ]
     },
     "metadata": {
      "needs_background": "light"
     },
     "output_type": "display_data"
    }
   ],
   "source": [
    "plt.figure(figsize=(10,6))\n",
    "sns.barplot(data=mort_data, x='REGION',y='DEATHS',hue='SEX')"
   ]
  },
  {
   "cell_type": "markdown",
   "id": "3cb3c2fb",
   "metadata": {
    "papermill": {
     "duration": 0.036333,
     "end_time": "2022-06-22T10:55:56.275575",
     "exception": false,
     "start_time": "2022-06-22T10:55:56.239242",
     "status": "completed"
    },
    "tags": []
   },
   "source": [
    "## Observation -\n",
    "1. Flanders have the heighest death rate.\n",
    "2. Males in all region has heigher death rate even cases are more in females but death rate is less than male."
   ]
  },
  {
   "cell_type": "code",
   "execution_count": 59,
   "id": "d2e39946",
   "metadata": {
    "execution": {
     "iopub.execute_input": "2022-06-22T10:55:56.347517Z",
     "iopub.status.busy": "2022-06-22T10:55:56.346731Z",
     "iopub.status.idle": "2022-06-22T10:55:56.368818Z",
     "shell.execute_reply": "2022-06-22T10:55:56.367719Z"
    },
    "papermill": {
     "duration": 0.060923,
     "end_time": "2022-06-22T10:55:56.371401",
     "exception": false,
     "start_time": "2022-06-22T10:55:56.310478",
     "status": "completed"
    },
    "tags": []
   },
   "outputs": [
    {
     "data": {
      "text/html": [
       "<div>\n",
       "<style scoped>\n",
       "    .dataframe tbody tr th:only-of-type {\n",
       "        vertical-align: middle;\n",
       "    }\n",
       "\n",
       "    .dataframe tbody tr th {\n",
       "        vertical-align: top;\n",
       "    }\n",
       "\n",
       "    .dataframe thead th {\n",
       "        text-align: right;\n",
       "    }\n",
       "</style>\n",
       "<table border=\"1\" class=\"dataframe\">\n",
       "  <thead>\n",
       "    <tr style=\"text-align: right;\">\n",
       "      <th></th>\n",
       "      <th>REGION</th>\n",
       "      <th>SEX</th>\n",
       "      <th>AGEGROUP</th>\n",
       "      <th>DEATHS</th>\n",
       "    </tr>\n",
       "  </thead>\n",
       "  <tbody>\n",
       "    <tr>\n",
       "      <th>0</th>\n",
       "      <td>Brussels</td>\n",
       "      <td>F</td>\n",
       "      <td>0-24</td>\n",
       "      <td>4</td>\n",
       "    </tr>\n",
       "    <tr>\n",
       "      <th>1</th>\n",
       "      <td>Brussels</td>\n",
       "      <td>F</td>\n",
       "      <td>25-44</td>\n",
       "      <td>30</td>\n",
       "    </tr>\n",
       "    <tr>\n",
       "      <th>2</th>\n",
       "      <td>Brussels</td>\n",
       "      <td>F</td>\n",
       "      <td>45-64</td>\n",
       "      <td>159</td>\n",
       "    </tr>\n",
       "    <tr>\n",
       "      <th>3</th>\n",
       "      <td>Brussels</td>\n",
       "      <td>F</td>\n",
       "      <td>65-74</td>\n",
       "      <td>234</td>\n",
       "    </tr>\n",
       "    <tr>\n",
       "      <th>4</th>\n",
       "      <td>Brussels</td>\n",
       "      <td>F</td>\n",
       "      <td>75-84</td>\n",
       "      <td>526</td>\n",
       "    </tr>\n",
       "    <tr>\n",
       "      <th>5</th>\n",
       "      <td>Brussels</td>\n",
       "      <td>F</td>\n",
       "      <td>85+</td>\n",
       "      <td>981</td>\n",
       "    </tr>\n",
       "    <tr>\n",
       "      <th>6</th>\n",
       "      <td>Brussels</td>\n",
       "      <td>M</td>\n",
       "      <td>0-24</td>\n",
       "      <td>4</td>\n",
       "    </tr>\n",
       "    <tr>\n",
       "      <th>7</th>\n",
       "      <td>Brussels</td>\n",
       "      <td>M</td>\n",
       "      <td>25-44</td>\n",
       "      <td>36</td>\n",
       "    </tr>\n",
       "    <tr>\n",
       "      <th>8</th>\n",
       "      <td>Brussels</td>\n",
       "      <td>M</td>\n",
       "      <td>45-64</td>\n",
       "      <td>332</td>\n",
       "    </tr>\n",
       "    <tr>\n",
       "      <th>9</th>\n",
       "      <td>Brussels</td>\n",
       "      <td>M</td>\n",
       "      <td>65-74</td>\n",
       "      <td>420</td>\n",
       "    </tr>\n",
       "    <tr>\n",
       "      <th>10</th>\n",
       "      <td>Brussels</td>\n",
       "      <td>M</td>\n",
       "      <td>75-84</td>\n",
       "      <td>740</td>\n",
       "    </tr>\n",
       "    <tr>\n",
       "      <th>11</th>\n",
       "      <td>Brussels</td>\n",
       "      <td>M</td>\n",
       "      <td>85+</td>\n",
       "      <td>717</td>\n",
       "    </tr>\n",
       "    <tr>\n",
       "      <th>12</th>\n",
       "      <td>Flanders</td>\n",
       "      <td>F</td>\n",
       "      <td>0-24</td>\n",
       "      <td>4</td>\n",
       "    </tr>\n",
       "    <tr>\n",
       "      <th>13</th>\n",
       "      <td>Flanders</td>\n",
       "      <td>F</td>\n",
       "      <td>25-44</td>\n",
       "      <td>31</td>\n",
       "    </tr>\n",
       "    <tr>\n",
       "      <th>14</th>\n",
       "      <td>Flanders</td>\n",
       "      <td>F</td>\n",
       "      <td>45-64</td>\n",
       "      <td>301</td>\n",
       "    </tr>\n",
       "    <tr>\n",
       "      <th>15</th>\n",
       "      <td>Flanders</td>\n",
       "      <td>F</td>\n",
       "      <td>65-74</td>\n",
       "      <td>683</td>\n",
       "    </tr>\n",
       "    <tr>\n",
       "      <th>16</th>\n",
       "      <td>Flanders</td>\n",
       "      <td>F</td>\n",
       "      <td>75-84</td>\n",
       "      <td>2027</td>\n",
       "    </tr>\n",
       "    <tr>\n",
       "      <th>17</th>\n",
       "      <td>Flanders</td>\n",
       "      <td>F</td>\n",
       "      <td>85+</td>\n",
       "      <td>4645</td>\n",
       "    </tr>\n",
       "    <tr>\n",
       "      <th>18</th>\n",
       "      <td>Flanders</td>\n",
       "      <td>M</td>\n",
       "      <td>0-24</td>\n",
       "      <td>2</td>\n",
       "    </tr>\n",
       "    <tr>\n",
       "      <th>19</th>\n",
       "      <td>Flanders</td>\n",
       "      <td>M</td>\n",
       "      <td>25-44</td>\n",
       "      <td>43</td>\n",
       "    </tr>\n",
       "    <tr>\n",
       "      <th>20</th>\n",
       "      <td>Flanders</td>\n",
       "      <td>M</td>\n",
       "      <td>45-64</td>\n",
       "      <td>583</td>\n",
       "    </tr>\n",
       "    <tr>\n",
       "      <th>21</th>\n",
       "      <td>Flanders</td>\n",
       "      <td>M</td>\n",
       "      <td>65-74</td>\n",
       "      <td>1280</td>\n",
       "    </tr>\n",
       "    <tr>\n",
       "      <th>22</th>\n",
       "      <td>Flanders</td>\n",
       "      <td>M</td>\n",
       "      <td>75-84</td>\n",
       "      <td>2839</td>\n",
       "    </tr>\n",
       "    <tr>\n",
       "      <th>23</th>\n",
       "      <td>Flanders</td>\n",
       "      <td>M</td>\n",
       "      <td>85+</td>\n",
       "      <td>3805</td>\n",
       "    </tr>\n",
       "    <tr>\n",
       "      <th>24</th>\n",
       "      <td>Wallonia</td>\n",
       "      <td>F</td>\n",
       "      <td>0-24</td>\n",
       "      <td>1</td>\n",
       "    </tr>\n",
       "    <tr>\n",
       "      <th>25</th>\n",
       "      <td>Wallonia</td>\n",
       "      <td>F</td>\n",
       "      <td>25-44</td>\n",
       "      <td>20</td>\n",
       "    </tr>\n",
       "    <tr>\n",
       "      <th>26</th>\n",
       "      <td>Wallonia</td>\n",
       "      <td>F</td>\n",
       "      <td>45-64</td>\n",
       "      <td>340</td>\n",
       "    </tr>\n",
       "    <tr>\n",
       "      <th>27</th>\n",
       "      <td>Wallonia</td>\n",
       "      <td>F</td>\n",
       "      <td>65-74</td>\n",
       "      <td>692</td>\n",
       "    </tr>\n",
       "    <tr>\n",
       "      <th>28</th>\n",
       "      <td>Wallonia</td>\n",
       "      <td>F</td>\n",
       "      <td>75-84</td>\n",
       "      <td>1492</td>\n",
       "    </tr>\n",
       "    <tr>\n",
       "      <th>29</th>\n",
       "      <td>Wallonia</td>\n",
       "      <td>F</td>\n",
       "      <td>85+</td>\n",
       "      <td>3055</td>\n",
       "    </tr>\n",
       "    <tr>\n",
       "      <th>30</th>\n",
       "      <td>Wallonia</td>\n",
       "      <td>M</td>\n",
       "      <td>0-24</td>\n",
       "      <td>1</td>\n",
       "    </tr>\n",
       "    <tr>\n",
       "      <th>31</th>\n",
       "      <td>Wallonia</td>\n",
       "      <td>M</td>\n",
       "      <td>25-44</td>\n",
       "      <td>37</td>\n",
       "    </tr>\n",
       "    <tr>\n",
       "      <th>32</th>\n",
       "      <td>Wallonia</td>\n",
       "      <td>M</td>\n",
       "      <td>45-64</td>\n",
       "      <td>644</td>\n",
       "    </tr>\n",
       "    <tr>\n",
       "      <th>33</th>\n",
       "      <td>Wallonia</td>\n",
       "      <td>M</td>\n",
       "      <td>65-74</td>\n",
       "      <td>1311</td>\n",
       "    </tr>\n",
       "    <tr>\n",
       "      <th>34</th>\n",
       "      <td>Wallonia</td>\n",
       "      <td>M</td>\n",
       "      <td>75-84</td>\n",
       "      <td>1830</td>\n",
       "    </tr>\n",
       "    <tr>\n",
       "      <th>35</th>\n",
       "      <td>Wallonia</td>\n",
       "      <td>M</td>\n",
       "      <td>85+</td>\n",
       "      <td>1967</td>\n",
       "    </tr>\n",
       "  </tbody>\n",
       "</table>\n",
       "</div>"
      ],
      "text/plain": [
       "      REGION SEX AGEGROUP  DEATHS\n",
       "0   Brussels   F     0-24       4\n",
       "1   Brussels   F    25-44      30\n",
       "2   Brussels   F    45-64     159\n",
       "3   Brussels   F    65-74     234\n",
       "4   Brussels   F    75-84     526\n",
       "5   Brussels   F      85+     981\n",
       "6   Brussels   M     0-24       4\n",
       "7   Brussels   M    25-44      36\n",
       "8   Brussels   M    45-64     332\n",
       "9   Brussels   M    65-74     420\n",
       "10  Brussels   M    75-84     740\n",
       "11  Brussels   M      85+     717\n",
       "12  Flanders   F     0-24       4\n",
       "13  Flanders   F    25-44      31\n",
       "14  Flanders   F    45-64     301\n",
       "15  Flanders   F    65-74     683\n",
       "16  Flanders   F    75-84    2027\n",
       "17  Flanders   F      85+    4645\n",
       "18  Flanders   M     0-24       2\n",
       "19  Flanders   M    25-44      43\n",
       "20  Flanders   M    45-64     583\n",
       "21  Flanders   M    65-74    1280\n",
       "22  Flanders   M    75-84    2839\n",
       "23  Flanders   M      85+    3805\n",
       "24  Wallonia   F     0-24       1\n",
       "25  Wallonia   F    25-44      20\n",
       "26  Wallonia   F    45-64     340\n",
       "27  Wallonia   F    65-74     692\n",
       "28  Wallonia   F    75-84    1492\n",
       "29  Wallonia   F      85+    3055\n",
       "30  Wallonia   M     0-24       1\n",
       "31  Wallonia   M    25-44      37\n",
       "32  Wallonia   M    45-64     644\n",
       "33  Wallonia   M    65-74    1311\n",
       "34  Wallonia   M    75-84    1830\n",
       "35  Wallonia   M      85+    1967"
      ]
     },
     "execution_count": 59,
     "metadata": {},
     "output_type": "execute_result"
    }
   ],
   "source": [
    "# grouping the data region,gender and agegroup wise.\n",
    "mort_data1 = df_mort.groupby(['REGION','SEX','AGEGROUP'],as_index=False)['DEATHS'].sum()\n",
    "mort_data1"
   ]
  },
  {
   "cell_type": "code",
   "execution_count": 60,
   "id": "5fee1c2a",
   "metadata": {
    "execution": {
     "iopub.execute_input": "2022-06-22T10:55:56.445497Z",
     "iopub.status.busy": "2022-06-22T10:55:56.444878Z",
     "iopub.status.idle": "2022-06-22T10:55:56.937930Z",
     "shell.execute_reply": "2022-06-22T10:55:56.936722Z"
    },
    "papermill": {
     "duration": 0.533096,
     "end_time": "2022-06-22T10:55:56.940356",
     "exception": false,
     "start_time": "2022-06-22T10:55:56.407260",
     "status": "completed"
    },
    "tags": []
   },
   "outputs": [
    {
     "data": {
      "text/plain": [
       "<AxesSubplot:xlabel='AGEGROUP', ylabel='DEATHS'>"
      ]
     },
     "execution_count": 60,
     "metadata": {},
     "output_type": "execute_result"
    },
    {
     "data": {
      "image/png": "[encoded data removed]",
      "text/plain": [
       "<Figure size 720x432 with 1 Axes>"
      ]
     },
     "metadata": {
      "needs_background": "light"
     },
     "output_type": "display_data"
    }
   ],
   "source": [
    "plt.figure(figsize=(10,6))\n",
    "sns.boxplot(data=mort_data1, x='AGEGROUP',y='DEATHS',hue='SEX')"
   ]
  },
  {
   "cell_type": "markdown",
   "id": "4a9f10d5",
   "metadata": {
    "papermill": {
     "duration": 0.035348,
     "end_time": "2022-06-22T10:55:57.011904",
     "exception": false,
     "start_time": "2022-06-22T10:55:56.976556",
     "status": "completed"
    },
    "tags": []
   },
   "source": [
    "## Observation\n",
    "1. older person have higher death rate as compare to young ones.\n",
    "2. 85+ has the heighest death rate and is only agegroup to have female death rate heigher than men."
   ]
  },
  {
   "cell_type": "code",
   "execution_count": 61,
   "id": "efcc4649",
   "metadata": {
    "execution": {
     "iopub.execute_input": "2022-06-22T10:55:57.085509Z",
     "iopub.status.busy": "2022-06-22T10:55:57.085058Z",
     "iopub.status.idle": "2022-06-22T10:55:57.734865Z",
     "shell.execute_reply": "2022-06-22T10:55:57.733717Z"
    },
    "papermill": {
     "duration": 0.690295,
     "end_time": "2022-06-22T10:55:57.737903",
     "exception": false,
     "start_time": "2022-06-22T10:55:57.047608",
     "status": "completed"
    },
    "tags": []
   },
   "outputs": [
    {
     "data": {
      "text/plain": [
       "<AxesSubplot:xlabel='REGION', ylabel='DEATHS'>"
      ]
     },
     "execution_count": 61,
     "metadata": {},
     "output_type": "execute_result"
    },
    {
     "data": {
      "image/png": "[encoded data removed]",
      "text/plain": [
       "<Figure size 720x432 with 1 Axes>"
      ]
     },
     "metadata": {
      "needs_background": "light"
     },
     "output_type": "display_data"
    }
   ],
   "source": [
    "plt.figure(figsize=(10,6))\n",
    "sns.barplot(data=mort_data1, x='REGION',y='DEATHS',hue='AGEGROUP',palette='Blues')"
   ]
  },
  {
   "cell_type": "code",
   "execution_count": 62,
   "id": "b2aff74d",
   "metadata": {
    "execution": {
     "iopub.execute_input": "2022-06-22T10:55:57.817464Z",
     "iopub.status.busy": "2022-06-22T10:55:57.817102Z",
     "iopub.status.idle": "2022-06-22T10:55:57.822720Z",
     "shell.execute_reply": "2022-06-22T10:55:57.821763Z"
    },
    "papermill": {
     "duration": 0.047623,
     "end_time": "2022-06-22T10:55:57.824761",
     "exception": false,
     "start_time": "2022-06-22T10:55:57.777138",
     "status": "completed"
    },
    "tags": []
   },
   "outputs": [],
   "source": [
    "## same data shown in barplot."
   ]
  },
  {
   "cell_type": "code",
   "execution_count": null,
   "id": "f9fcccac",
   "metadata": {
    "papermill": {
     "duration": 0.036032,
     "end_time": "2022-06-22T10:55:57.897860",
     "exception": false,
     "start_time": "2022-06-22T10:55:57.861828",
     "status": "completed"
    },
    "tags": []
   },
   "outputs": [],
   "source": []
  },
  {
   "cell_type": "markdown",
   "id": "00fe029f",
   "metadata": {
    "papermill": {
     "duration": 0.037896,
     "end_time": "2022-06-22T10:55:57.972774",
     "exception": false,
     "start_time": "2022-06-22T10:55:57.934878",
     "status": "completed"
    },
    "tags": []
   },
   "source": [
    "## Test data"
   ]
  },
  {
   "cell_type": "code",
   "execution_count": 63,
   "id": "a10ff5d2",
   "metadata": {
    "execution": {
     "iopub.execute_input": "2022-06-22T10:55:58.047047Z",
     "iopub.status.busy": "2022-06-22T10:55:58.046336Z",
     "iopub.status.idle": "2022-06-22T10:55:58.077354Z",
     "shell.execute_reply": "2022-06-22T10:55:58.076638Z"
    },
    "papermill": {
     "duration": 0.070746,
     "end_time": "2022-06-22T10:55:58.079361",
     "exception": false,
     "start_time": "2022-06-22T10:55:58.008615",
     "status": "completed"
    },
    "tags": []
   },
   "outputs": [
    {
     "data": {
      "text/html": [
       "<div>\n",
       "<style scoped>\n",
       "    .dataframe tbody tr th:only-of-type {\n",
       "        vertical-align: middle;\n",
       "    }\n",
       "\n",
       "    .dataframe tbody tr th {\n",
       "        vertical-align: top;\n",
       "    }\n",
       "\n",
       "    .dataframe thead th {\n",
       "        text-align: right;\n",
       "    }\n",
       "</style>\n",
       "<table border=\"1\" class=\"dataframe\">\n",
       "  <thead>\n",
       "    <tr style=\"text-align: right;\">\n",
       "      <th></th>\n",
       "      <th>DATE</th>\n",
       "      <th>PROVINCE</th>\n",
       "      <th>REGION</th>\n",
       "      <th>TESTS_ALL</th>\n",
       "      <th>TESTS_ALL_POS</th>\n",
       "    </tr>\n",
       "  </thead>\n",
       "  <tbody>\n",
       "    <tr>\n",
       "      <th>0</th>\n",
       "      <td>2020-03-01</td>\n",
       "      <td>Antwerpen</td>\n",
       "      <td>Flanders</td>\n",
       "      <td>18</td>\n",
       "      <td>0</td>\n",
       "    </tr>\n",
       "    <tr>\n",
       "      <th>1</th>\n",
       "      <td>2020-03-01</td>\n",
       "      <td>BrabantWallon</td>\n",
       "      <td>Wallonia</td>\n",
       "      <td>8</td>\n",
       "      <td>0</td>\n",
       "    </tr>\n",
       "    <tr>\n",
       "      <th>2</th>\n",
       "      <td>2020-03-01</td>\n",
       "      <td>Brussels</td>\n",
       "      <td>Brussels</td>\n",
       "      <td>4</td>\n",
       "      <td>0</td>\n",
       "    </tr>\n",
       "    <tr>\n",
       "      <th>3</th>\n",
       "      <td>2020-03-01</td>\n",
       "      <td>Hainaut</td>\n",
       "      <td>Wallonia</td>\n",
       "      <td>5</td>\n",
       "      <td>0</td>\n",
       "    </tr>\n",
       "    <tr>\n",
       "      <th>4</th>\n",
       "      <td>2020-03-01</td>\n",
       "      <td>Limburg</td>\n",
       "      <td>Flanders</td>\n",
       "      <td>7</td>\n",
       "      <td>0</td>\n",
       "    </tr>\n",
       "    <tr>\n",
       "      <th>...</th>\n",
       "      <td>...</td>\n",
       "      <td>...</td>\n",
       "      <td>...</td>\n",
       "      <td>...</td>\n",
       "      <td>...</td>\n",
       "    </tr>\n",
       "    <tr>\n",
       "      <th>9967</th>\n",
       "      <td>2022-06-09</td>\n",
       "      <td>Namur</td>\n",
       "      <td>Wallonia</td>\n",
       "      <td>3</td>\n",
       "      <td>0</td>\n",
       "    </tr>\n",
       "    <tr>\n",
       "      <th>9968</th>\n",
       "      <td>2022-06-09</td>\n",
       "      <td>OostVlaanderen</td>\n",
       "      <td>Flanders</td>\n",
       "      <td>24</td>\n",
       "      <td>5</td>\n",
       "    </tr>\n",
       "    <tr>\n",
       "      <th>9969</th>\n",
       "      <td>2022-06-09</td>\n",
       "      <td>VlaamsBrabant</td>\n",
       "      <td>Flanders</td>\n",
       "      <td>21</td>\n",
       "      <td>2</td>\n",
       "    </tr>\n",
       "    <tr>\n",
       "      <th>9970</th>\n",
       "      <td>2022-06-09</td>\n",
       "      <td>WestVlaanderen</td>\n",
       "      <td>Flanders</td>\n",
       "      <td>17</td>\n",
       "      <td>1</td>\n",
       "    </tr>\n",
       "    <tr>\n",
       "      <th>9971</th>\n",
       "      <td>2022-06-09</td>\n",
       "      <td>NaN</td>\n",
       "      <td>NaN</td>\n",
       "      <td>12</td>\n",
       "      <td>2</td>\n",
       "    </tr>\n",
       "  </tbody>\n",
       "</table>\n",
       "<p>9972 rows × 5 columns</p>\n",
       "</div>"
      ],
      "text/plain": [
       "            DATE        PROVINCE    REGION  TESTS_ALL  TESTS_ALL_POS\n",
       "0     2020-03-01       Antwerpen  Flanders         18              0\n",
       "1     2020-03-01   BrabantWallon  Wallonia          8              0\n",
       "2     2020-03-01        Brussels  Brussels          4              0\n",
       "3     2020-03-01         Hainaut  Wallonia          5              0\n",
       "4     2020-03-01         Limburg  Flanders          7              0\n",
       "...          ...             ...       ...        ...            ...\n",
       "9967  2022-06-09           Namur  Wallonia          3              0\n",
       "9968  2022-06-09  OostVlaanderen  Flanders         24              5\n",
       "9969  2022-06-09   VlaamsBrabant  Flanders         21              2\n",
       "9970  2022-06-09  WestVlaanderen  Flanders         17              1\n",
       "9971  2022-06-09             NaN       NaN         12              2\n",
       "\n",
       "[9972 rows x 5 columns]"
      ]
     },
     "execution_count": 63,
     "metadata": {},
     "output_type": "execute_result"
    }
   ],
   "source": [
    "# reading the data with appropriate encoding.\n",
    "df_tests = pd.read_csv('../input/covid19-belgium/TESTS.csv', encoding='ISO-8859-1' ,parse_dates=True)\n",
    "df_tests"
   ]
  },
  {
   "cell_type": "code",
   "execution_count": 64,
   "id": "f1648131",
   "metadata": {
    "execution": {
     "iopub.execute_input": "2022-06-22T10:55:58.153255Z",
     "iopub.status.busy": "2022-06-22T10:55:58.152686Z",
     "iopub.status.idle": "2022-06-22T10:55:58.165613Z",
     "shell.execute_reply": "2022-06-22T10:55:58.164558Z"
    },
    "papermill": {
     "duration": 0.052635,
     "end_time": "2022-06-22T10:55:58.167982",
     "exception": false,
     "start_time": "2022-06-22T10:55:58.115347",
     "status": "completed"
    },
    "tags": []
   },
   "outputs": [
    {
     "name": "stdout",
     "output_type": "stream",
     "text": [
      "<class 'pandas.core.frame.DataFrame'>\n",
      "RangeIndex: 9972 entries, 0 to 9971\n",
      "Data columns (total 5 columns):\n",
      " #   Column         Non-Null Count  Dtype \n",
      "---  ------         --------------  ----- \n",
      " 0   DATE           9972 non-null   object\n",
      " 1   PROVINCE       9141 non-null   object\n",
      " 2   REGION         9141 non-null   object\n",
      " 3   TESTS_ALL      9972 non-null   int64 \n",
      " 4   TESTS_ALL_POS  9972 non-null   int64 \n",
      "dtypes: int64(2), object(3)\n",
      "memory usage: 389.7+ KB\n"
     ]
    }
   ],
   "source": [
    "df_tests.info() #checking its data type"
   ]
  },
  {
   "cell_type": "code",
   "execution_count": 65,
   "id": "5ae6180c",
   "metadata": {
    "execution": {
     "iopub.execute_input": "2022-06-22T10:55:58.245177Z",
     "iopub.status.busy": "2022-06-22T10:55:58.244802Z",
     "iopub.status.idle": "2022-06-22T10:55:58.262837Z",
     "shell.execute_reply": "2022-06-22T10:55:58.261619Z"
    },
    "papermill": {
     "duration": 0.0614,
     "end_time": "2022-06-22T10:55:58.265254",
     "exception": false,
     "start_time": "2022-06-22T10:55:58.203854",
     "status": "completed"
    },
    "tags": []
   },
   "outputs": [
    {
     "name": "stdout",
     "output_type": "stream",
     "text": [
      "<class 'pandas.core.frame.DataFrame'>\n",
      "RangeIndex: 9972 entries, 0 to 9971\n",
      "Data columns (total 5 columns):\n",
      " #   Column         Non-Null Count  Dtype         \n",
      "---  ------         --------------  -----         \n",
      " 0   DATE           9972 non-null   datetime64[ns]\n",
      " 1   PROVINCE       9141 non-null   object        \n",
      " 2   REGION         9141 non-null   object        \n",
      " 3   TESTS_ALL      9972 non-null   int64         \n",
      " 4   TESTS_ALL_POS  9972 non-null   int64         \n",
      "dtypes: datetime64[ns](1), int64(2), object(2)\n",
      "memory usage: 389.7+ KB\n"
     ]
    }
   ],
   "source": [
    "df_tests['DATE'] = pd.to_datetime(df_tests['DATE'])\n",
    "df_tests.info()"
   ]
  },
  {
   "cell_type": "code",
   "execution_count": 66,
   "id": "120d546f",
   "metadata": {
    "execution": {
     "iopub.execute_input": "2022-06-22T10:55:58.341555Z",
     "iopub.status.busy": "2022-06-22T10:55:58.340883Z",
     "iopub.status.idle": "2022-06-22T10:55:58.351405Z",
     "shell.execute_reply": "2022-06-22T10:55:58.350370Z"
    },
    "papermill": {
     "duration": 0.049876,
     "end_time": "2022-06-22T10:55:58.353533",
     "exception": false,
     "start_time": "2022-06-22T10:55:58.303657",
     "status": "completed"
    },
    "tags": []
   },
   "outputs": [
    {
     "data": {
      "text/plain": [
       "0"
      ]
     },
     "execution_count": 66,
     "metadata": {},
     "output_type": "execute_result"
    }
   ],
   "source": [
    "df_tests.duplicated().sum() #checking duplicate value"
   ]
  },
  {
   "cell_type": "code",
   "execution_count": 67,
   "id": "ed258216",
   "metadata": {
    "execution": {
     "iopub.execute_input": "2022-06-22T10:55:58.430358Z",
     "iopub.status.busy": "2022-06-22T10:55:58.429607Z",
     "iopub.status.idle": "2022-06-22T10:55:58.440156Z",
     "shell.execute_reply": "2022-06-22T10:55:58.439198Z"
    },
    "papermill": {
     "duration": 0.051615,
     "end_time": "2022-06-22T10:55:58.442253",
     "exception": false,
     "start_time": "2022-06-22T10:55:58.390638",
     "status": "completed"
    },
    "tags": []
   },
   "outputs": [
    {
     "data": {
      "text/plain": [
       "DATE               0\n",
       "PROVINCE         831\n",
       "REGION           831\n",
       "TESTS_ALL          0\n",
       "TESTS_ALL_POS      0\n",
       "dtype: int64"
      ]
     },
     "execution_count": 67,
     "metadata": {},
     "output_type": "execute_result"
    }
   ],
   "source": [
    "df_tests.isnull().sum() #checking null value"
   ]
  },
  {
   "cell_type": "code",
   "execution_count": 68,
   "id": "d3101c47",
   "metadata": {
    "execution": {
     "iopub.execute_input": "2022-06-22T10:55:58.519306Z",
     "iopub.status.busy": "2022-06-22T10:55:58.518953Z",
     "iopub.status.idle": "2022-06-22T10:55:58.527310Z",
     "shell.execute_reply": "2022-06-22T10:55:58.526505Z"
    },
    "papermill": {
     "duration": 0.048721,
     "end_time": "2022-06-22T10:55:58.529213",
     "exception": false,
     "start_time": "2022-06-22T10:55:58.480492",
     "status": "completed"
    },
    "tags": []
   },
   "outputs": [
    {
     "data": {
      "text/plain": [
       "Antwerpen         831\n",
       "BrabantWallon     831\n",
       "Brussels          831\n",
       "Hainaut           831\n",
       "Limburg           831\n",
       "Liège             831\n",
       "Luxembourg        831\n",
       "Namur             831\n",
       "OostVlaanderen    831\n",
       "VlaamsBrabant     831\n",
       "WestVlaanderen    831\n",
       "Name: PROVINCE, dtype: int64"
      ]
     },
     "execution_count": 68,
     "metadata": {},
     "output_type": "execute_result"
    }
   ],
   "source": [
    "df_tests['PROVINCE'].value_counts()"
   ]
  },
  {
   "cell_type": "code",
   "execution_count": 69,
   "id": "fcc4f078",
   "metadata": {
    "execution": {
     "iopub.execute_input": "2022-06-22T10:55:58.605842Z",
     "iopub.status.busy": "2022-06-22T10:55:58.604798Z",
     "iopub.status.idle": "2022-06-22T10:55:58.613870Z",
     "shell.execute_reply": "2022-06-22T10:55:58.612759Z"
    },
    "papermill": {
     "duration": 0.049615,
     "end_time": "2022-06-22T10:55:58.615966",
     "exception": false,
     "start_time": "2022-06-22T10:55:58.566351",
     "status": "completed"
    },
    "tags": []
   },
   "outputs": [
    {
     "data": {
      "text/plain": [
       "Flanders    4155\n",
       "Wallonia    4155\n",
       "Brussels     831\n",
       "Name: REGION, dtype: int64"
      ]
     },
     "execution_count": 69,
     "metadata": {},
     "output_type": "execute_result"
    }
   ],
   "source": [
    "df_tests['REGION'].value_counts()"
   ]
  },
  {
   "cell_type": "code",
   "execution_count": 70,
   "id": "82e56242",
   "metadata": {
    "execution": {
     "iopub.execute_input": "2022-06-22T10:55:58.691947Z",
     "iopub.status.busy": "2022-06-22T10:55:58.691375Z",
     "iopub.status.idle": "2022-06-22T10:55:58.696681Z",
     "shell.execute_reply": "2022-06-22T10:55:58.695627Z"
    },
    "papermill": {
     "duration": 0.046225,
     "end_time": "2022-06-22T10:55:58.698842",
     "exception": false,
     "start_time": "2022-06-22T10:55:58.652617",
     "status": "completed"
    },
    "tags": []
   },
   "outputs": [
    {
     "data": {
      "text/plain": [
       "(9972, 5)"
      ]
     },
     "execution_count": 70,
     "metadata": {},
     "output_type": "execute_result"
    }
   ],
   "source": [
    "df_tests.shape"
   ]
  },
  {
   "cell_type": "code",
   "execution_count": 71,
   "id": "65927889",
   "metadata": {
    "execution": {
     "iopub.execute_input": "2022-06-22T10:55:58.773844Z",
     "iopub.status.busy": "2022-06-22T10:55:58.773231Z",
     "iopub.status.idle": "2022-06-22T10:55:58.785634Z",
     "shell.execute_reply": "2022-06-22T10:55:58.784541Z"
    },
    "papermill": {
     "duration": 0.052887,
     "end_time": "2022-06-22T10:55:58.787977",
     "exception": false,
     "start_time": "2022-06-22T10:55:58.735090",
     "status": "completed"
    },
    "tags": []
   },
   "outputs": [
    {
     "data": {
      "text/plain": [
       "DATE             0\n",
       "PROVINCE         0\n",
       "REGION           0\n",
       "TESTS_ALL        0\n",
       "TESTS_ALL_POS    0\n",
       "dtype: int64"
      ]
     },
     "execution_count": 71,
     "metadata": {},
     "output_type": "execute_result"
    }
   ],
   "source": [
    "df_tests = df_tests.dropna()\n",
    "df_tests.isnull().sum()"
   ]
  },
  {
   "cell_type": "code",
   "execution_count": 72,
   "id": "fbf7b08e",
   "metadata": {
    "execution": {
     "iopub.execute_input": "2022-06-22T10:55:58.864074Z",
     "iopub.status.busy": "2022-06-22T10:55:58.863326Z",
     "iopub.status.idle": "2022-06-22T10:55:58.870533Z",
     "shell.execute_reply": "2022-06-22T10:55:58.869638Z"
    },
    "papermill": {
     "duration": 0.047984,
     "end_time": "2022-06-22T10:55:58.872747",
     "exception": false,
     "start_time": "2022-06-22T10:55:58.824763",
     "status": "completed"
    },
    "tags": []
   },
   "outputs": [
    {
     "data": {
      "text/plain": [
       "(9141, 5)"
      ]
     },
     "execution_count": 72,
     "metadata": {},
     "output_type": "execute_result"
    }
   ],
   "source": [
    "df_tests.shape"
   ]
  },
  {
   "cell_type": "code",
   "execution_count": 73,
   "id": "235b6224",
   "metadata": {
    "execution": {
     "iopub.execute_input": "2022-06-22T10:55:59.020975Z",
     "iopub.status.busy": "2022-06-22T10:55:59.019906Z",
     "iopub.status.idle": "2022-06-22T10:55:59.040290Z",
     "shell.execute_reply": "2022-06-22T10:55:59.038899Z"
    },
    "papermill": {
     "duration": 0.132333,
     "end_time": "2022-06-22T10:55:59.043936",
     "exception": false,
     "start_time": "2022-06-22T10:55:58.911603",
     "status": "completed"
    },
    "tags": []
   },
   "outputs": [
    {
     "data": {
      "text/html": [
       "<div>\n",
       "<style scoped>\n",
       "    .dataframe tbody tr th:only-of-type {\n",
       "        vertical-align: middle;\n",
       "    }\n",
       "\n",
       "    .dataframe tbody tr th {\n",
       "        vertical-align: top;\n",
       "    }\n",
       "\n",
       "    .dataframe thead th {\n",
       "        text-align: right;\n",
       "    }\n",
       "</style>\n",
       "<table border=\"1\" class=\"dataframe\">\n",
       "  <thead>\n",
       "    <tr style=\"text-align: right;\">\n",
       "      <th></th>\n",
       "      <th>REGION</th>\n",
       "      <th>TESTS_ALL</th>\n",
       "      <th>TESTS_ALL_POS</th>\n",
       "    </tr>\n",
       "  </thead>\n",
       "  <tbody>\n",
       "    <tr>\n",
       "      <th>0</th>\n",
       "      <td>Brussels</td>\n",
       "      <td>4060429</td>\n",
       "      <td>505954</td>\n",
       "    </tr>\n",
       "    <tr>\n",
       "      <th>1</th>\n",
       "      <td>Flanders</td>\n",
       "      <td>20129421</td>\n",
       "      <td>2607353</td>\n",
       "    </tr>\n",
       "    <tr>\n",
       "      <th>2</th>\n",
       "      <td>Wallonia</td>\n",
       "      <td>9152833</td>\n",
       "      <td>1390888</td>\n",
       "    </tr>\n",
       "  </tbody>\n",
       "</table>\n",
       "</div>"
      ],
      "text/plain": [
       "     REGION  TESTS_ALL  TESTS_ALL_POS\n",
       "0  Brussels    4060429         505954\n",
       "1  Flanders   20129421        2607353\n",
       "2  Wallonia    9152833        1390888"
      ]
     },
     "execution_count": 73,
     "metadata": {},
     "output_type": "execute_result"
    }
   ],
   "source": [
    "#grouping data according to region\n",
    "region_tests = df_tests.groupby(['REGION'], as_index=False)[['TESTS_ALL','TESTS_ALL_POS']].sum()\n",
    "region_tests"
   ]
  },
  {
   "cell_type": "code",
   "execution_count": 74,
   "id": "9cad9f35",
   "metadata": {
    "execution": {
     "iopub.execute_input": "2022-06-22T10:55:59.123116Z",
     "iopub.status.busy": "2022-06-22T10:55:59.122459Z",
     "iopub.status.idle": "2022-06-22T10:55:59.126778Z",
     "shell.execute_reply": "2022-06-22T10:55:59.125831Z"
    },
    "papermill": {
     "duration": 0.045402,
     "end_time": "2022-06-22T10:55:59.128763",
     "exception": false,
     "start_time": "2022-06-22T10:55:59.083361",
     "status": "completed"
    },
    "tags": []
   },
   "outputs": [],
   "source": [
    "region_tests_region = region_tests['REGION']"
   ]
  },
  {
   "cell_type": "code",
   "execution_count": null,
   "id": "b4f31439",
   "metadata": {
    "papermill": {
     "duration": 0.037778,
     "end_time": "2022-06-22T10:55:59.203717",
     "exception": false,
     "start_time": "2022-06-22T10:55:59.165939",
     "status": "completed"
    },
    "tags": []
   },
   "outputs": [],
   "source": []
  },
  {
   "cell_type": "code",
   "execution_count": 75,
   "id": "8ac8a5e1",
   "metadata": {
    "execution": {
     "iopub.execute_input": "2022-06-22T10:55:59.279411Z",
     "iopub.status.busy": "2022-06-22T10:55:59.278763Z",
     "iopub.status.idle": "2022-06-22T10:55:59.516360Z",
     "shell.execute_reply": "2022-06-22T10:55:59.515518Z"
    },
    "papermill": {
     "duration": 0.277883,
     "end_time": "2022-06-22T10:55:59.518512",
     "exception": false,
     "start_time": "2022-06-22T10:55:59.240629",
     "status": "completed"
    },
    "scrolled": true,
    "tags": []
   },
   "outputs": [
    {
     "data": {
      "text/plain": [
       "<matplotlib.legend.Legend at 0x7fc8073fbfd0>"
      ]
     },
     "execution_count": 75,
     "metadata": {},
     "output_type": "execute_result"
    },
    {
     "data": {
      "image/png": "[encoded data removed]",
      "text/plain": [
       "<Figure size 1008x504 with 1 Axes>"
      ]
     },
     "metadata": {
      "needs_background": "light"
     },
     "output_type": "display_data"
    }
   ],
   "source": [
    "plt.figure(figsize=(14,7))\n",
    "\n",
    "region_tests = df_tests.groupby(['REGION'])['TESTS_ALL'].sum().reset_index()\n",
    "\n",
    "c1 = sns.barplot(data=region_tests, x='REGION',y='TESTS_ALL',color='green')\n",
    "\n",
    "s = df_tests.groupby(['REGION'])['TESTS_ALL_POS'].sum().reset_index()\n",
    "\n",
    "c2 = sns.barplot(data=s, x='REGION',y='TESTS_ALL_POS',color='red', estimator=np.sum)\n",
    "\n",
    "colors = {'TESTS_ALL':'green', 'TESTS_ALL_POS':'red'}         \n",
    "labels = list(colors.keys())\n",
    "handles = [plt.Rectangle((0,0),1,1, color=colors[label]) for label in labels]\n",
    "plt.legend(handles, labels)\n"
   ]
  },
  {
   "cell_type": "markdown",
   "id": "20809e49",
   "metadata": {
    "papermill": {
     "duration": 0.039623,
     "end_time": "2022-06-22T10:55:59.597342",
     "exception": false,
     "start_time": "2022-06-22T10:55:59.557719",
     "status": "completed"
    },
    "tags": []
   },
   "source": [
    "## Observation-\n",
    "1. Flanders have heighest test rate as well as heighest number of covid positive pateints.\n",
    "2. Wallonia has heighest ratio of positive pateints."
   ]
  },
  {
   "cell_type": "code",
   "execution_count": 76,
   "id": "76690601",
   "metadata": {
    "execution": {
     "iopub.execute_input": "2022-06-22T10:55:59.674361Z",
     "iopub.status.busy": "2022-06-22T10:55:59.673589Z",
     "iopub.status.idle": "2022-06-22T10:55:59.687053Z",
     "shell.execute_reply": "2022-06-22T10:55:59.686349Z"
    },
    "papermill": {
     "duration": 0.053893,
     "end_time": "2022-06-22T10:55:59.688933",
     "exception": false,
     "start_time": "2022-06-22T10:55:59.635040",
     "status": "completed"
    },
    "tags": []
   },
   "outputs": [
    {
     "data": {
      "text/html": [
       "<div>\n",
       "<style scoped>\n",
       "    .dataframe tbody tr th:only-of-type {\n",
       "        vertical-align: middle;\n",
       "    }\n",
       "\n",
       "    .dataframe tbody tr th {\n",
       "        vertical-align: top;\n",
       "    }\n",
       "\n",
       "    .dataframe thead th {\n",
       "        text-align: right;\n",
       "    }\n",
       "</style>\n",
       "<table border=\"1\" class=\"dataframe\">\n",
       "  <thead>\n",
       "    <tr style=\"text-align: right;\">\n",
       "      <th></th>\n",
       "      <th>PROVINCE</th>\n",
       "      <th>TESTS_ALL</th>\n",
       "      <th>TESTS_ALL_POS</th>\n",
       "    </tr>\n",
       "  </thead>\n",
       "  <tbody>\n",
       "    <tr>\n",
       "      <th>0</th>\n",
       "      <td>Antwerpen</td>\n",
       "      <td>5490751</td>\n",
       "      <td>715073</td>\n",
       "    </tr>\n",
       "    <tr>\n",
       "      <th>1</th>\n",
       "      <td>BrabantWallon</td>\n",
       "      <td>1216088</td>\n",
       "      <td>166255</td>\n",
       "    </tr>\n",
       "    <tr>\n",
       "      <th>2</th>\n",
       "      <td>Brussels</td>\n",
       "      <td>4060429</td>\n",
       "      <td>505954</td>\n",
       "    </tr>\n",
       "    <tr>\n",
       "      <th>3</th>\n",
       "      <td>Hainaut</td>\n",
       "      <td>3298814</td>\n",
       "      <td>502998</td>\n",
       "    </tr>\n",
       "    <tr>\n",
       "      <th>4</th>\n",
       "      <td>Limburg</td>\n",
       "      <td>2457896</td>\n",
       "      <td>340339</td>\n",
       "    </tr>\n",
       "    <tr>\n",
       "      <th>5</th>\n",
       "      <td>Liège</td>\n",
       "      <td>2652383</td>\n",
       "      <td>416255</td>\n",
       "    </tr>\n",
       "    <tr>\n",
       "      <th>6</th>\n",
       "      <td>Luxembourg</td>\n",
       "      <td>761140</td>\n",
       "      <td>114792</td>\n",
       "    </tr>\n",
       "    <tr>\n",
       "      <th>7</th>\n",
       "      <td>Namur</td>\n",
       "      <td>1224408</td>\n",
       "      <td>190588</td>\n",
       "    </tr>\n",
       "    <tr>\n",
       "      <th>8</th>\n",
       "      <td>OostVlaanderen</td>\n",
       "      <td>4723984</td>\n",
       "      <td>611150</td>\n",
       "    </tr>\n",
       "    <tr>\n",
       "      <th>9</th>\n",
       "      <td>VlaamsBrabant</td>\n",
       "      <td>3561106</td>\n",
       "      <td>443415</td>\n",
       "    </tr>\n",
       "    <tr>\n",
       "      <th>10</th>\n",
       "      <td>WestVlaanderen</td>\n",
       "      <td>3895684</td>\n",
       "      <td>497376</td>\n",
       "    </tr>\n",
       "  </tbody>\n",
       "</table>\n",
       "</div>"
      ],
      "text/plain": [
       "          PROVINCE  TESTS_ALL  TESTS_ALL_POS\n",
       "0        Antwerpen    5490751         715073\n",
       "1    BrabantWallon    1216088         166255\n",
       "2         Brussels    4060429         505954\n",
       "3          Hainaut    3298814         502998\n",
       "4          Limburg    2457896         340339\n",
       "5            Liège    2652383         416255\n",
       "6       Luxembourg     761140         114792\n",
       "7            Namur    1224408         190588\n",
       "8   OostVlaanderen    4723984         611150\n",
       "9    VlaamsBrabant    3561106         443415\n",
       "10  WestVlaanderen    3895684         497376"
      ]
     },
     "execution_count": 76,
     "metadata": {},
     "output_type": "execute_result"
    }
   ],
   "source": [
    "#grouping province wise data.\n",
    "province_tests = df_tests.groupby(['PROVINCE'], as_index=False)[['TESTS_ALL','TESTS_ALL_POS']].sum()\n",
    "province_tests"
   ]
  },
  {
   "cell_type": "code",
   "execution_count": 77,
   "id": "19a88380",
   "metadata": {
    "execution": {
     "iopub.execute_input": "2022-06-22T10:55:59.766623Z",
     "iopub.status.busy": "2022-06-22T10:55:59.766058Z",
     "iopub.status.idle": "2022-06-22T10:56:00.036979Z",
     "shell.execute_reply": "2022-06-22T10:56:00.035717Z"
    },
    "papermill": {
     "duration": 0.313196,
     "end_time": "2022-06-22T10:56:00.039666",
     "exception": false,
     "start_time": "2022-06-22T10:55:59.726470",
     "status": "completed"
    },
    "tags": []
   },
   "outputs": [
    {
     "data": {
      "image/png": "[encoded data removed]",
      "text/plain": [
       "<Figure size 864x432 with 1 Axes>"
      ]
     },
     "metadata": {
      "needs_background": "light"
     },
     "output_type": "display_data"
    }
   ],
   "source": [
    "xaxis_region = province_tests['PROVINCE']\n",
    "y_no_of_tests = province_tests['TESTS_ALL']\n",
    "z_no_of_tests_positive = province_tests['TESTS_ALL_POS']\n",
    "x_axis = np.arange(len(xaxis_region))\n",
    "# Multi bar Chart\n",
    "plt.subplots(figsize=(12,6)) \n",
    "plt.bar(x_axis - 0.2, y_no_of_tests,label = 'no of tests done',width=0.4,color='green')\n",
    "plt.bar(x_axis - 0.2, z_no_of_tests_positive,label = 'no of tested positive',width=0.4,color='red')\n",
    "plt.xticks(x_axis,xaxis_region,rotation=45)\n",
    "plt.xlabel(\"Region\",fontsize=15)\n",
    "plt.ylabel(\"Number of Tests\",fontsize=15)\n",
    "plt.title(\"Number of Tests data per provinve\",fontsize=15)\n",
    "\n",
    "# Add legend\n",
    "plt.legend()\n",
    "\n",
    "# Display\n",
    "plt.show()"
   ]
  },
  {
   "cell_type": "markdown",
   "id": "9ffdc03b",
   "metadata": {
    "papermill": {
     "duration": 0.038979,
     "end_time": "2022-06-22T10:56:00.118647",
     "exception": false,
     "start_time": "2022-06-22T10:56:00.079668",
     "status": "completed"
    },
    "tags": []
   },
   "source": [
    "## Observation-\n",
    "1. Antwerpen have heighest test rate as well as heighest number of covid positive pateints followed by oostvlaaderen."
   ]
  },
  {
   "cell_type": "code",
   "execution_count": null,
   "id": "697f9ace",
   "metadata": {
    "papermill": {
     "duration": 0.03763,
     "end_time": "2022-06-22T10:56:00.194967",
     "exception": false,
     "start_time": "2022-06-22T10:56:00.157337",
     "status": "completed"
    },
    "tags": []
   },
   "outputs": [],
   "source": []
  },
  {
   "cell_type": "markdown",
   "id": "2589c7f1",
   "metadata": {
    "papermill": {
     "duration": 0.039027,
     "end_time": "2022-06-22T10:56:00.271774",
     "exception": false,
     "start_time": "2022-06-22T10:56:00.232747",
     "status": "completed"
    },
    "tags": []
   },
   "source": [
    "## Vaccine data"
   ]
  },
  {
   "cell_type": "code",
   "execution_count": 78,
   "id": "4e772ebb",
   "metadata": {
    "execution": {
     "iopub.execute_input": "2022-06-22T10:56:00.351246Z",
     "iopub.status.busy": "2022-06-22T10:56:00.350734Z",
     "iopub.status.idle": "2022-06-22T10:56:00.617338Z",
     "shell.execute_reply": "2022-06-22T10:56:00.616254Z"
    },
    "papermill": {
     "duration": 0.30912,
     "end_time": "2022-06-22T10:56:00.619777",
     "exception": false,
     "start_time": "2022-06-22T10:56:00.310657",
     "status": "completed"
    },
    "tags": []
   },
   "outputs": [
    {
     "data": {
      "text/html": [
       "<div>\n",
       "<style scoped>\n",
       "    .dataframe tbody tr th:only-of-type {\n",
       "        vertical-align: middle;\n",
       "    }\n",
       "\n",
       "    .dataframe tbody tr th {\n",
       "        vertical-align: top;\n",
       "    }\n",
       "\n",
       "    .dataframe thead th {\n",
       "        text-align: right;\n",
       "    }\n",
       "</style>\n",
       "<table border=\"1\" class=\"dataframe\">\n",
       "  <thead>\n",
       "    <tr style=\"text-align: right;\">\n",
       "      <th></th>\n",
       "      <th>DATE</th>\n",
       "      <th>REGION</th>\n",
       "      <th>AGEGROUP</th>\n",
       "      <th>SEX</th>\n",
       "      <th>BRAND</th>\n",
       "      <th>DOSE</th>\n",
       "      <th>COUNT</th>\n",
       "    </tr>\n",
       "  </thead>\n",
       "  <tbody>\n",
       "    <tr>\n",
       "      <th>0</th>\n",
       "      <td>2020-12-28</td>\n",
       "      <td>Brussels</td>\n",
       "      <td>25-34</td>\n",
       "      <td>F</td>\n",
       "      <td>Pfizer-BioNTech</td>\n",
       "      <td>A</td>\n",
       "      <td>1</td>\n",
       "    </tr>\n",
       "    <tr>\n",
       "      <th>1</th>\n",
       "      <td>2020-12-28</td>\n",
       "      <td>Brussels</td>\n",
       "      <td>25-34</td>\n",
       "      <td>M</td>\n",
       "      <td>Pfizer-BioNTech</td>\n",
       "      <td>A</td>\n",
       "      <td>2</td>\n",
       "    </tr>\n",
       "    <tr>\n",
       "      <th>2</th>\n",
       "      <td>2020-12-28</td>\n",
       "      <td>Brussels</td>\n",
       "      <td>35-44</td>\n",
       "      <td>M</td>\n",
       "      <td>Pfizer-BioNTech</td>\n",
       "      <td>A</td>\n",
       "      <td>2</td>\n",
       "    </tr>\n",
       "    <tr>\n",
       "      <th>3</th>\n",
       "      <td>2020-12-28</td>\n",
       "      <td>Brussels</td>\n",
       "      <td>45-54</td>\n",
       "      <td>F</td>\n",
       "      <td>Pfizer-BioNTech</td>\n",
       "      <td>A</td>\n",
       "      <td>2</td>\n",
       "    </tr>\n",
       "    <tr>\n",
       "      <th>4</th>\n",
       "      <td>2020-12-28</td>\n",
       "      <td>Brussels</td>\n",
       "      <td>45-54</td>\n",
       "      <td>M</td>\n",
       "      <td>Pfizer-BioNTech</td>\n",
       "      <td>A</td>\n",
       "      <td>1</td>\n",
       "    </tr>\n",
       "    <tr>\n",
       "      <th>...</th>\n",
       "      <td>...</td>\n",
       "      <td>...</td>\n",
       "      <td>...</td>\n",
       "      <td>...</td>\n",
       "      <td>...</td>\n",
       "      <td>...</td>\n",
       "      <td>...</td>\n",
       "    </tr>\n",
       "    <tr>\n",
       "      <th>188118</th>\n",
       "      <td>2022-06-07</td>\n",
       "      <td>Wallonia</td>\n",
       "      <td>65-74</td>\n",
       "      <td>M</td>\n",
       "      <td>Pfizer-BioNTech</td>\n",
       "      <td>E2</td>\n",
       "      <td>3</td>\n",
       "    </tr>\n",
       "    <tr>\n",
       "      <th>188119</th>\n",
       "      <td>2022-06-07</td>\n",
       "      <td>Wallonia</td>\n",
       "      <td>75-84</td>\n",
       "      <td>F</td>\n",
       "      <td>Pfizer-BioNTech</td>\n",
       "      <td>E</td>\n",
       "      <td>1</td>\n",
       "    </tr>\n",
       "    <tr>\n",
       "      <th>188120</th>\n",
       "      <td>2022-06-07</td>\n",
       "      <td>Wallonia</td>\n",
       "      <td>75-84</td>\n",
       "      <td>F</td>\n",
       "      <td>Pfizer-BioNTech</td>\n",
       "      <td>E2</td>\n",
       "      <td>2</td>\n",
       "    </tr>\n",
       "    <tr>\n",
       "      <th>188121</th>\n",
       "      <td>2022-06-07</td>\n",
       "      <td>Wallonia</td>\n",
       "      <td>75-84</td>\n",
       "      <td>M</td>\n",
       "      <td>Pfizer-BioNTech</td>\n",
       "      <td>E2</td>\n",
       "      <td>4</td>\n",
       "    </tr>\n",
       "    <tr>\n",
       "      <th>188122</th>\n",
       "      <td>2022-06-07</td>\n",
       "      <td>Wallonia</td>\n",
       "      <td>85+</td>\n",
       "      <td>F</td>\n",
       "      <td>Pfizer-BioNTech</td>\n",
       "      <td>E2</td>\n",
       "      <td>1</td>\n",
       "    </tr>\n",
       "  </tbody>\n",
       "</table>\n",
       "<p>188123 rows × 7 columns</p>\n",
       "</div>"
      ],
      "text/plain": [
       "              DATE    REGION AGEGROUP SEX            BRAND DOSE  COUNT\n",
       "0       2020-12-28  Brussels    25-34   F  Pfizer-BioNTech    A      1\n",
       "1       2020-12-28  Brussels    25-34   M  Pfizer-BioNTech    A      2\n",
       "2       2020-12-28  Brussels    35-44   M  Pfizer-BioNTech    A      2\n",
       "3       2020-12-28  Brussels    45-54   F  Pfizer-BioNTech    A      2\n",
       "4       2020-12-28  Brussels    45-54   M  Pfizer-BioNTech    A      1\n",
       "...            ...       ...      ...  ..              ...  ...    ...\n",
       "188118  2022-06-07  Wallonia    65-74   M  Pfizer-BioNTech   E2      3\n",
       "188119  2022-06-07  Wallonia    75-84   F  Pfizer-BioNTech    E      1\n",
       "188120  2022-06-07  Wallonia    75-84   F  Pfizer-BioNTech   E2      2\n",
       "188121  2022-06-07  Wallonia    75-84   M  Pfizer-BioNTech   E2      4\n",
       "188122  2022-06-07  Wallonia      85+   F  Pfizer-BioNTech   E2      1\n",
       "\n",
       "[188123 rows x 7 columns]"
      ]
     },
     "execution_count": 78,
     "metadata": {},
     "output_type": "execute_result"
    }
   ],
   "source": [
    "df_vacc = pd.read_csv('../input/covid19-belgium/VACC.csv')\n",
    "df_vacc"
   ]
  },
  {
   "cell_type": "code",
   "execution_count": 79,
   "id": "f2c7a5d1",
   "metadata": {
    "execution": {
     "iopub.execute_input": "2022-06-22T10:56:00.700061Z",
     "iopub.status.busy": "2022-06-22T10:56:00.699370Z",
     "iopub.status.idle": "2022-06-22T10:56:00.760198Z",
     "shell.execute_reply": "2022-06-22T10:56:00.759326Z"
    },
    "papermill": {
     "duration": 0.103531,
     "end_time": "2022-06-22T10:56:00.762520",
     "exception": false,
     "start_time": "2022-06-22T10:56:00.658989",
     "status": "completed"
    },
    "tags": []
   },
   "outputs": [
    {
     "name": "stdout",
     "output_type": "stream",
     "text": [
      "<class 'pandas.core.frame.DataFrame'>\n",
      "RangeIndex: 188123 entries, 0 to 188122\n",
      "Data columns (total 7 columns):\n",
      " #   Column    Non-Null Count   Dtype \n",
      "---  ------    --------------   ----- \n",
      " 0   DATE      188123 non-null  object\n",
      " 1   REGION    157327 non-null  object\n",
      " 2   AGEGROUP  188123 non-null  object\n",
      " 3   SEX       186866 non-null  object\n",
      " 4   BRAND     188123 non-null  object\n",
      " 5   DOSE      188123 non-null  object\n",
      " 6   COUNT     188123 non-null  int64 \n",
      "dtypes: int64(1), object(6)\n",
      "memory usage: 10.0+ MB\n"
     ]
    }
   ],
   "source": [
    "df_vacc.info() #checking its datatype."
   ]
  },
  {
   "cell_type": "code",
   "execution_count": 80,
   "id": "d44c2e55",
   "metadata": {
    "execution": {
     "iopub.execute_input": "2022-06-22T10:56:00.846094Z",
     "iopub.status.busy": "2022-06-22T10:56:00.845633Z",
     "iopub.status.idle": "2022-06-22T10:56:00.931322Z",
     "shell.execute_reply": "2022-06-22T10:56:00.930252Z"
    },
    "papermill": {
     "duration": 0.131015,
     "end_time": "2022-06-22T10:56:00.933852",
     "exception": false,
     "start_time": "2022-06-22T10:56:00.802837",
     "status": "completed"
    },
    "tags": []
   },
   "outputs": [
    {
     "name": "stdout",
     "output_type": "stream",
     "text": [
      "<class 'pandas.core.frame.DataFrame'>\n",
      "RangeIndex: 188123 entries, 0 to 188122\n",
      "Data columns (total 7 columns):\n",
      " #   Column    Non-Null Count   Dtype         \n",
      "---  ------    --------------   -----         \n",
      " 0   DATE      188123 non-null  datetime64[ns]\n",
      " 1   REGION    157327 non-null  object        \n",
      " 2   AGEGROUP  188123 non-null  object        \n",
      " 3   SEX       186866 non-null  object        \n",
      " 4   BRAND     188123 non-null  object        \n",
      " 5   DOSE      188123 non-null  object        \n",
      " 6   COUNT     188123 non-null  int64         \n",
      "dtypes: datetime64[ns](1), int64(1), object(5)\n",
      "memory usage: 10.0+ MB\n"
     ]
    }
   ],
   "source": [
    "df_vacc['DATE'] = pd.to_datetime(df_vacc['DATE'])\n",
    "df_vacc.info()"
   ]
  },
  {
   "cell_type": "code",
   "execution_count": null,
   "id": "1088ed39",
   "metadata": {
    "papermill": {
     "duration": 0.038182,
     "end_time": "2022-06-22T10:56:01.012044",
     "exception": false,
     "start_time": "2022-06-22T10:56:00.973862",
     "status": "completed"
    },
    "tags": []
   },
   "outputs": [],
   "source": []
  },
  {
   "cell_type": "code",
   "execution_count": 81,
   "id": "ffa0e6cd",
   "metadata": {
    "execution": {
     "iopub.execute_input": "2022-06-22T10:56:01.090888Z",
     "iopub.status.busy": "2022-06-22T10:56:01.090196Z",
     "iopub.status.idle": "2022-06-22T10:56:01.106998Z",
     "shell.execute_reply": "2022-06-22T10:56:01.106135Z"
    },
    "papermill": {
     "duration": 0.058231,
     "end_time": "2022-06-22T10:56:01.108910",
     "exception": false,
     "start_time": "2022-06-22T10:56:01.050679",
     "status": "completed"
    },
    "tags": []
   },
   "outputs": [
    {
     "data": {
      "text/plain": [
       "Pfizer-BioNTech       100886\n",
       "Moderna                45572\n",
       "AstraZeneca-Oxford     18326\n",
       "Johnson&Johnson        15465\n",
       "Other                   6590\n",
       "Novavax                 1284\n",
       "Name: BRAND, dtype: int64"
      ]
     },
     "execution_count": 81,
     "metadata": {},
     "output_type": "execute_result"
    }
   ],
   "source": [
    "df_vacc['BRAND'].value_counts() #types of vaccine and its counts"
   ]
  },
  {
   "cell_type": "code",
   "execution_count": 82,
   "id": "67bcdaec",
   "metadata": {
    "execution": {
     "iopub.execute_input": "2022-06-22T10:56:01.189528Z",
     "iopub.status.busy": "2022-06-22T10:56:01.188884Z",
     "iopub.status.idle": "2022-06-22T10:56:01.204503Z",
     "shell.execute_reply": "2022-06-22T10:56:01.203676Z"
    },
    "papermill": {
     "duration": 0.057995,
     "end_time": "2022-06-22T10:56:01.206679",
     "exception": false,
     "start_time": "2022-06-22T10:56:01.148684",
     "status": "completed"
    },
    "tags": []
   },
   "outputs": [
    {
     "data": {
      "text/plain": [
       "A     68661\n",
       "B     65735\n",
       "E     30992\n",
       "C     15139\n",
       "E2     7596\n",
       "Name: DOSE, dtype: int64"
      ]
     },
     "execution_count": 82,
     "metadata": {},
     "output_type": "execute_result"
    }
   ],
   "source": [
    "df_vacc['DOSE'].value_counts() #types of dose and its counts"
   ]
  },
  {
   "cell_type": "code",
   "execution_count": 83,
   "id": "4bf42cc1",
   "metadata": {
    "execution": {
     "iopub.execute_input": "2022-06-22T10:56:01.286277Z",
     "iopub.status.busy": "2022-06-22T10:56:01.285734Z",
     "iopub.status.idle": "2022-06-22T10:56:01.370089Z",
     "shell.execute_reply": "2022-06-22T10:56:01.369016Z"
    },
    "papermill": {
     "duration": 0.127442,
     "end_time": "2022-06-22T10:56:01.372411",
     "exception": false,
     "start_time": "2022-06-22T10:56:01.244969",
     "status": "completed"
    },
    "tags": []
   },
   "outputs": [
    {
     "data": {
      "text/plain": [
       "0"
      ]
     },
     "execution_count": 83,
     "metadata": {},
     "output_type": "execute_result"
    }
   ],
   "source": [
    "df_vacc.duplicated().sum()"
   ]
  },
  {
   "cell_type": "code",
   "execution_count": 84,
   "id": "843147c8",
   "metadata": {
    "execution": {
     "iopub.execute_input": "2022-06-22T10:56:01.452316Z",
     "iopub.status.busy": "2022-06-22T10:56:01.451618Z",
     "iopub.status.idle": "2022-06-22T10:56:01.501378Z",
     "shell.execute_reply": "2022-06-22T10:56:01.500168Z"
    },
    "papermill": {
     "duration": 0.092637,
     "end_time": "2022-06-22T10:56:01.503821",
     "exception": false,
     "start_time": "2022-06-22T10:56:01.411184",
     "status": "completed"
    },
    "tags": []
   },
   "outputs": [
    {
     "data": {
      "text/plain": [
       "DATE            0\n",
       "REGION      30796\n",
       "AGEGROUP        0\n",
       "SEX          1257\n",
       "BRAND           0\n",
       "DOSE            0\n",
       "COUNT           0\n",
       "dtype: int64"
      ]
     },
     "execution_count": 84,
     "metadata": {},
     "output_type": "execute_result"
    }
   ],
   "source": [
    "null_value = df_vacc.isnull().sum() #finding null values\n",
    "null_value"
   ]
  },
  {
   "cell_type": "code",
   "execution_count": 85,
   "id": "0005c81e",
   "metadata": {
    "execution": {
     "iopub.execute_input": "2022-06-22T10:56:01.583584Z",
     "iopub.status.busy": "2022-06-22T10:56:01.582724Z",
     "iopub.status.idle": "2022-06-22T10:56:01.588384Z",
     "shell.execute_reply": "2022-06-22T10:56:01.587642Z"
    },
    "papermill": {
     "duration": 0.047775,
     "end_time": "2022-06-22T10:56:01.590243",
     "exception": false,
     "start_time": "2022-06-22T10:56:01.542468",
     "status": "completed"
    },
    "tags": []
   },
   "outputs": [
    {
     "data": {
      "text/plain": [
       "30796"
      ]
     },
     "execution_count": 85,
     "metadata": {},
     "output_type": "execute_result"
    }
   ],
   "source": [
    "null_value['REGION']"
   ]
  },
  {
   "cell_type": "code",
   "execution_count": 86,
   "id": "c22db1bc",
   "metadata": {
    "execution": {
     "iopub.execute_input": "2022-06-22T10:56:01.671016Z",
     "iopub.status.busy": "2022-06-22T10:56:01.670439Z",
     "iopub.status.idle": "2022-06-22T10:56:01.675371Z",
     "shell.execute_reply": "2022-06-22T10:56:01.674633Z"
    },
    "papermill": {
     "duration": 0.047828,
     "end_time": "2022-06-22T10:56:01.677292",
     "exception": false,
     "start_time": "2022-06-22T10:56:01.629464",
     "status": "completed"
    },
    "tags": []
   },
   "outputs": [
    {
     "data": {
      "text/plain": [
       "(188123, 7)"
      ]
     },
     "execution_count": 86,
     "metadata": {},
     "output_type": "execute_result"
    }
   ],
   "source": [
    "df_vacc.shape"
   ]
  },
  {
   "cell_type": "code",
   "execution_count": 87,
   "id": "bc7252fd",
   "metadata": {
    "execution": {
     "iopub.execute_input": "2022-06-22T10:56:01.759709Z",
     "iopub.status.busy": "2022-06-22T10:56:01.759131Z",
     "iopub.status.idle": "2022-06-22T10:56:01.764488Z",
     "shell.execute_reply": "2022-06-22T10:56:01.763494Z"
    },
    "papermill": {
     "duration": 0.048534,
     "end_time": "2022-06-22T10:56:01.766396",
     "exception": false,
     "start_time": "2022-06-22T10:56:01.717862",
     "status": "completed"
    },
    "tags": []
   },
   "outputs": [
    {
     "data": {
      "text/plain": [
       "(188123,)"
      ]
     },
     "execution_count": 87,
     "metadata": {},
     "output_type": "execute_result"
    }
   ],
   "source": [
    "df_vacc['REGION'].shape"
   ]
  },
  {
   "cell_type": "code",
   "execution_count": 88,
   "id": "42ec8401",
   "metadata": {
    "execution": {
     "iopub.execute_input": "2022-06-22T10:56:01.857065Z",
     "iopub.status.busy": "2022-06-22T10:56:01.856471Z",
     "iopub.status.idle": "2022-06-22T10:56:01.872167Z",
     "shell.execute_reply": "2022-06-22T10:56:01.871457Z"
    },
    "papermill": {
     "duration": 0.06065,
     "end_time": "2022-06-22T10:56:01.874310",
     "exception": false,
     "start_time": "2022-06-22T10:56:01.813660",
     "status": "completed"
    },
    "tags": []
   },
   "outputs": [
    {
     "data": {
      "text/plain": [
       "Flanders      52773\n",
       "Brussels      48106\n",
       "Wallonia      41537\n",
       "Ostbelgien    14911\n",
       "Name: REGION, dtype: int64"
      ]
     },
     "execution_count": 88,
     "metadata": {},
     "output_type": "execute_result"
    }
   ],
   "source": [
    "region_values = df_vacc['REGION'].value_counts()\n",
    "region_values"
   ]
  },
  {
   "cell_type": "code",
   "execution_count": 89,
   "id": "ba87b117",
   "metadata": {
    "execution": {
     "iopub.execute_input": "2022-06-22T10:56:01.955105Z",
     "iopub.status.busy": "2022-06-22T10:56:01.953985Z",
     "iopub.status.idle": "2022-06-22T10:56:01.959480Z",
     "shell.execute_reply": "2022-06-22T10:56:01.958685Z"
    },
    "papermill": {
     "duration": 0.049113,
     "end_time": "2022-06-22T10:56:01.962645",
     "exception": false,
     "start_time": "2022-06-22T10:56:01.913532",
     "status": "completed"
    },
    "tags": []
   },
   "outputs": [],
   "source": [
    "# creating list of ratio so we can fill null values according to region and its present values.\n",
    "lst_of_num = []\n",
    "for i in region_values.values:\n",
    "    lst_of_num.append(round(i/(len(df_vacc)-(null_value['REGION'])),2))\n"
   ]
  },
  {
   "cell_type": "code",
   "execution_count": 90,
   "id": "79b02761",
   "metadata": {
    "execution": {
     "iopub.execute_input": "2022-06-22T10:56:02.042836Z",
     "iopub.status.busy": "2022-06-22T10:56:02.042465Z",
     "iopub.status.idle": "2022-06-22T10:56:02.048781Z",
     "shell.execute_reply": "2022-06-22T10:56:02.047679Z"
    },
    "papermill": {
     "duration": 0.048585,
     "end_time": "2022-06-22T10:56:02.050858",
     "exception": false,
     "start_time": "2022-06-22T10:56:02.002273",
     "status": "completed"
    },
    "tags": []
   },
   "outputs": [
    {
     "data": {
      "text/plain": [
       "[0.34, 0.31, 0.26, 0.09]"
      ]
     },
     "execution_count": 90,
     "metadata": {},
     "output_type": "execute_result"
    }
   ],
   "source": [
    "lst_of_num"
   ]
  },
  {
   "cell_type": "code",
   "execution_count": 91,
   "id": "68e714eb",
   "metadata": {
    "execution": {
     "iopub.execute_input": "2022-06-22T10:56:02.131919Z",
     "iopub.status.busy": "2022-06-22T10:56:02.130889Z",
     "iopub.status.idle": "2022-06-22T10:56:02.137412Z",
     "shell.execute_reply": "2022-06-22T10:56:02.136639Z"
    },
    "papermill": {
     "duration": 0.048895,
     "end_time": "2022-06-22T10:56:02.139511",
     "exception": false,
     "start_time": "2022-06-22T10:56:02.090616",
     "status": "completed"
    },
    "tags": []
   },
   "outputs": [
    {
     "data": {
      "text/plain": [
       "0.07926197222030268"
      ]
     },
     "execution_count": 91,
     "metadata": {},
     "output_type": "execute_result"
    }
   ],
   "source": [
    "14911/188123"
   ]
  },
  {
   "cell_type": "code",
   "execution_count": 92,
   "id": "93640c83",
   "metadata": {
    "execution": {
     "iopub.execute_input": "2022-06-22T10:56:02.222327Z",
     "iopub.status.busy": "2022-06-22T10:56:02.221572Z",
     "iopub.status.idle": "2022-06-22T10:56:02.228318Z",
     "shell.execute_reply": "2022-06-22T10:56:02.227499Z"
    },
    "papermill": {
     "duration": 0.050102,
     "end_time": "2022-06-22T10:56:02.230520",
     "exception": false,
     "start_time": "2022-06-22T10:56:02.180418",
     "status": "completed"
    },
    "tags": []
   },
   "outputs": [
    {
     "data": {
      "text/plain": [
       "0.16370140812128237"
      ]
     },
     "execution_count": 92,
     "metadata": {},
     "output_type": "execute_result"
    }
   ],
   "source": [
    "30796/188123"
   ]
  },
  {
   "cell_type": "code",
   "execution_count": 93,
   "id": "87aa2f01",
   "metadata": {
    "execution": {
     "iopub.execute_input": "2022-06-22T10:56:02.311960Z",
     "iopub.status.busy": "2022-06-22T10:56:02.310919Z",
     "iopub.status.idle": "2022-06-22T10:56:02.362724Z",
     "shell.execute_reply": "2022-06-22T10:56:02.361803Z"
    },
    "papermill": {
     "duration": 0.09445,
     "end_time": "2022-06-22T10:56:02.365079",
     "exception": false,
     "start_time": "2022-06-22T10:56:02.270629",
     "status": "completed"
    },
    "tags": []
   },
   "outputs": [],
   "source": [
    "# filling the data accordingly to the null values in there region.\n",
    "df_vacc['REGION'] = df_vacc['REGION'].fillna(pd.Series(np.random.choice(['Flanders', 'Brussels', 'Wallonia','Ostbelgien'], p=lst_of_num, size=len(df_vacc))))"
   ]
  },
  {
   "cell_type": "code",
   "execution_count": 94,
   "id": "10206a32",
   "metadata": {
    "execution": {
     "iopub.execute_input": "2022-06-22T10:56:02.447636Z",
     "iopub.status.busy": "2022-06-22T10:56:02.446936Z",
     "iopub.status.idle": "2022-06-22T10:56:02.497730Z",
     "shell.execute_reply": "2022-06-22T10:56:02.496425Z"
    },
    "papermill": {
     "duration": 0.095638,
     "end_time": "2022-06-22T10:56:02.500070",
     "exception": false,
     "start_time": "2022-06-22T10:56:02.404432",
     "status": "completed"
    },
    "tags": []
   },
   "outputs": [
    {
     "data": {
      "text/plain": [
       "DATE           0\n",
       "REGION         0\n",
       "AGEGROUP       0\n",
       "SEX         1257\n",
       "BRAND          0\n",
       "DOSE           0\n",
       "COUNT          0\n",
       "dtype: int64"
      ]
     },
     "execution_count": 94,
     "metadata": {},
     "output_type": "execute_result"
    }
   ],
   "source": [
    "df_vacc.isnull().sum()"
   ]
  },
  {
   "cell_type": "code",
   "execution_count": 95,
   "id": "d98da295",
   "metadata": {
    "execution": {
     "iopub.execute_input": "2022-06-22T10:56:02.582260Z",
     "iopub.status.busy": "2022-06-22T10:56:02.581506Z",
     "iopub.status.idle": "2022-06-22T10:56:02.598277Z",
     "shell.execute_reply": "2022-06-22T10:56:02.597276Z"
    },
    "papermill": {
     "duration": 0.060442,
     "end_time": "2022-06-22T10:56:02.600535",
     "exception": false,
     "start_time": "2022-06-22T10:56:02.540093",
     "status": "completed"
    },
    "tags": []
   },
   "outputs": [
    {
     "data": {
      "text/plain": [
       "F    93509\n",
       "M    93357\n",
       "Name: SEX, dtype: int64"
      ]
     },
     "execution_count": 95,
     "metadata": {},
     "output_type": "execute_result"
    }
   ],
   "source": [
    "vacc_values = df_vacc['SEX'].value_counts()\n",
    "vacc_values"
   ]
  },
  {
   "cell_type": "code",
   "execution_count": 96,
   "id": "3df706c4",
   "metadata": {
    "execution": {
     "iopub.execute_input": "2022-06-22T10:56:02.683654Z",
     "iopub.status.busy": "2022-06-22T10:56:02.683267Z",
     "iopub.status.idle": "2022-06-22T10:56:02.688438Z",
     "shell.execute_reply": "2022-06-22T10:56:02.687351Z"
    },
    "papermill": {
     "duration": 0.050397,
     "end_time": "2022-06-22T10:56:02.690559",
     "exception": false,
     "start_time": "2022-06-22T10:56:02.640162",
     "status": "completed"
    },
    "tags": []
   },
   "outputs": [],
   "source": [
    "# same with sex column\n",
    "lst_of_sex = []\n",
    "for i in vacc_values.values:\n",
    "    lst_of_sex.append(round(i/(len(df_vacc)-(null_value['SEX'])),5))"
   ]
  },
  {
   "cell_type": "code",
   "execution_count": 97,
   "id": "7b66790e",
   "metadata": {
    "execution": {
     "iopub.execute_input": "2022-06-22T10:56:02.770680Z",
     "iopub.status.busy": "2022-06-22T10:56:02.770293Z",
     "iopub.status.idle": "2022-06-22T10:56:02.775180Z",
     "shell.execute_reply": "2022-06-22T10:56:02.774489Z"
    },
    "papermill": {
     "duration": 0.047124,
     "end_time": "2022-06-22T10:56:02.776963",
     "exception": false,
     "start_time": "2022-06-22T10:56:02.729839",
     "status": "completed"
    },
    "tags": []
   },
   "outputs": [
    {
     "data": {
      "text/plain": [
       "[0.50041, 0.49959]"
      ]
     },
     "execution_count": 97,
     "metadata": {},
     "output_type": "execute_result"
    }
   ],
   "source": [
    "lst_of_sex"
   ]
  },
  {
   "cell_type": "code",
   "execution_count": 98,
   "id": "42e4e263",
   "metadata": {
    "execution": {
     "iopub.execute_input": "2022-06-22T10:56:02.910635Z",
     "iopub.status.busy": "2022-06-22T10:56:02.909872Z",
     "iopub.status.idle": "2022-06-22T10:56:02.936537Z",
     "shell.execute_reply": "2022-06-22T10:56:02.935469Z"
    },
    "papermill": {
     "duration": 0.122824,
     "end_time": "2022-06-22T10:56:02.939078",
     "exception": false,
     "start_time": "2022-06-22T10:56:02.816254",
     "status": "completed"
    },
    "tags": []
   },
   "outputs": [],
   "source": [
    "df_vacc['SEX'] = df_vacc['SEX'].fillna(pd.Series(np.random.choice(['F', 'M'], p=lst_of_sex, size=len(df_vacc))))"
   ]
  },
  {
   "cell_type": "code",
   "execution_count": 99,
   "id": "08c7de4c",
   "metadata": {
    "execution": {
     "iopub.execute_input": "2022-06-22T10:56:03.023030Z",
     "iopub.status.busy": "2022-06-22T10:56:03.022280Z",
     "iopub.status.idle": "2022-06-22T10:56:03.071814Z",
     "shell.execute_reply": "2022-06-22T10:56:03.070694Z"
    },
    "papermill": {
     "duration": 0.093733,
     "end_time": "2022-06-22T10:56:03.074171",
     "exception": false,
     "start_time": "2022-06-22T10:56:02.980438",
     "status": "completed"
    },
    "tags": []
   },
   "outputs": [
    {
     "data": {
      "text/plain": [
       "DATE        0\n",
       "REGION      0\n",
       "AGEGROUP    0\n",
       "SEX         0\n",
       "BRAND       0\n",
       "DOSE        0\n",
       "COUNT       0\n",
       "dtype: int64"
      ]
     },
     "execution_count": 99,
     "metadata": {},
     "output_type": "execute_result"
    }
   ],
   "source": [
    "df_vacc.isnull().sum()"
   ]
  },
  {
   "cell_type": "code",
   "execution_count": 100,
   "id": "99040c6f",
   "metadata": {
    "execution": {
     "iopub.execute_input": "2022-06-22T10:56:03.157697Z",
     "iopub.status.busy": "2022-06-22T10:56:03.156967Z",
     "iopub.status.idle": "2022-06-22T10:56:03.246359Z",
     "shell.execute_reply": "2022-06-22T10:56:03.245240Z"
    },
    "papermill": {
     "duration": 0.132936,
     "end_time": "2022-06-22T10:56:03.248591",
     "exception": false,
     "start_time": "2022-06-22T10:56:03.115655",
     "status": "completed"
    },
    "tags": []
   },
   "outputs": [
    {
     "data": {
      "text/html": [
       "<div>\n",
       "<style scoped>\n",
       "    .dataframe tbody tr th:only-of-type {\n",
       "        vertical-align: middle;\n",
       "    }\n",
       "\n",
       "    .dataframe tbody tr th {\n",
       "        vertical-align: top;\n",
       "    }\n",
       "\n",
       "    .dataframe thead th {\n",
       "        text-align: right;\n",
       "    }\n",
       "</style>\n",
       "<table border=\"1\" class=\"dataframe\">\n",
       "  <thead>\n",
       "    <tr style=\"text-align: right;\">\n",
       "      <th></th>\n",
       "      <th>REGION</th>\n",
       "      <th>AGEGROUP</th>\n",
       "      <th>SEX</th>\n",
       "      <th>BRAND</th>\n",
       "      <th>DOSE</th>\n",
       "      <th>COUNT</th>\n",
       "    </tr>\n",
       "  </thead>\n",
       "  <tbody>\n",
       "    <tr>\n",
       "      <th>0</th>\n",
       "      <td>Brussels</td>\n",
       "      <td>00-04</td>\n",
       "      <td>F</td>\n",
       "      <td>Moderna</td>\n",
       "      <td>A</td>\n",
       "      <td>1</td>\n",
       "    </tr>\n",
       "    <tr>\n",
       "      <th>1</th>\n",
       "      <td>Brussels</td>\n",
       "      <td>00-04</td>\n",
       "      <td>F</td>\n",
       "      <td>Moderna</td>\n",
       "      <td>B</td>\n",
       "      <td>1</td>\n",
       "    </tr>\n",
       "    <tr>\n",
       "      <th>2</th>\n",
       "      <td>Brussels</td>\n",
       "      <td>00-04</td>\n",
       "      <td>F</td>\n",
       "      <td>Other</td>\n",
       "      <td>A</td>\n",
       "      <td>1</td>\n",
       "    </tr>\n",
       "    <tr>\n",
       "      <th>3</th>\n",
       "      <td>Brussels</td>\n",
       "      <td>00-04</td>\n",
       "      <td>F</td>\n",
       "      <td>Other</td>\n",
       "      <td>B</td>\n",
       "      <td>1</td>\n",
       "    </tr>\n",
       "    <tr>\n",
       "      <th>4</th>\n",
       "      <td>Brussels</td>\n",
       "      <td>00-04</td>\n",
       "      <td>F</td>\n",
       "      <td>Pfizer-BioNTech</td>\n",
       "      <td>A</td>\n",
       "      <td>434</td>\n",
       "    </tr>\n",
       "    <tr>\n",
       "      <th>...</th>\n",
       "      <td>...</td>\n",
       "      <td>...</td>\n",
       "      <td>...</td>\n",
       "      <td>...</td>\n",
       "      <td>...</td>\n",
       "      <td>...</td>\n",
       "    </tr>\n",
       "    <tr>\n",
       "      <th>1331</th>\n",
       "      <td>Wallonia</td>\n",
       "      <td>85+</td>\n",
       "      <td>M</td>\n",
       "      <td>Novavax</td>\n",
       "      <td>E</td>\n",
       "      <td>2</td>\n",
       "    </tr>\n",
       "    <tr>\n",
       "      <th>1332</th>\n",
       "      <td>Wallonia</td>\n",
       "      <td>85+</td>\n",
       "      <td>M</td>\n",
       "      <td>Pfizer-BioNTech</td>\n",
       "      <td>A</td>\n",
       "      <td>14967</td>\n",
       "    </tr>\n",
       "    <tr>\n",
       "      <th>1333</th>\n",
       "      <td>Wallonia</td>\n",
       "      <td>85+</td>\n",
       "      <td>M</td>\n",
       "      <td>Pfizer-BioNTech</td>\n",
       "      <td>B</td>\n",
       "      <td>14605</td>\n",
       "    </tr>\n",
       "    <tr>\n",
       "      <th>1334</th>\n",
       "      <td>Wallonia</td>\n",
       "      <td>85+</td>\n",
       "      <td>M</td>\n",
       "      <td>Pfizer-BioNTech</td>\n",
       "      <td>E</td>\n",
       "      <td>21316</td>\n",
       "    </tr>\n",
       "    <tr>\n",
       "      <th>1335</th>\n",
       "      <td>Wallonia</td>\n",
       "      <td>85+</td>\n",
       "      <td>M</td>\n",
       "      <td>Pfizer-BioNTech</td>\n",
       "      <td>E2</td>\n",
       "      <td>778</td>\n",
       "    </tr>\n",
       "  </tbody>\n",
       "</table>\n",
       "<p>1336 rows × 6 columns</p>\n",
       "</div>"
      ],
      "text/plain": [
       "        REGION AGEGROUP SEX            BRAND DOSE  COUNT\n",
       "0     Brussels    00-04   F          Moderna    A      1\n",
       "1     Brussels    00-04   F          Moderna    B      1\n",
       "2     Brussels    00-04   F            Other    A      1\n",
       "3     Brussels    00-04   F            Other    B      1\n",
       "4     Brussels    00-04   F  Pfizer-BioNTech    A    434\n",
       "...        ...      ...  ..              ...  ...    ...\n",
       "1331  Wallonia      85+   M          Novavax    E      2\n",
       "1332  Wallonia      85+   M  Pfizer-BioNTech    A  14967\n",
       "1333  Wallonia      85+   M  Pfizer-BioNTech    B  14605\n",
       "1334  Wallonia      85+   M  Pfizer-BioNTech    E  21316\n",
       "1335  Wallonia      85+   M  Pfizer-BioNTech   E2    778\n",
       "\n",
       "[1336 rows x 6 columns]"
      ]
     },
     "execution_count": 100,
     "metadata": {},
     "output_type": "execute_result"
    }
   ],
   "source": [
    "#grouping by region, agegroup, sex, brand, dose.\n",
    "vaccine = df_vacc.groupby(['REGION','AGEGROUP','SEX','BRAND','DOSE'], as_index=False)['COUNT'].sum()\n",
    "vaccine"
   ]
  },
  {
   "cell_type": "code",
   "execution_count": 101,
   "id": "e973740e",
   "metadata": {
    "execution": {
     "iopub.execute_input": "2022-06-22T10:56:03.331111Z",
     "iopub.status.busy": "2022-06-22T10:56:03.330426Z",
     "iopub.status.idle": "2022-06-22T10:56:03.849667Z",
     "shell.execute_reply": "2022-06-22T10:56:03.848842Z"
    },
    "papermill": {
     "duration": 0.563069,
     "end_time": "2022-06-22T10:56:03.851756",
     "exception": false,
     "start_time": "2022-06-22T10:56:03.288687",
     "status": "completed"
    },
    "tags": []
   },
   "outputs": [
    {
     "data": {
      "text/plain": [
       "<AxesSubplot:xlabel='BRAND', ylabel='COUNT'>"
      ]
     },
     "execution_count": 101,
     "metadata": {},
     "output_type": "execute_result"
    },
    {
     "data": {
      "image/png": "[encoded data removed]",
      "text/plain": [
       "<Figure size 864x504 with 1 Axes>"
      ]
     },
     "metadata": {
      "needs_background": "light"
     },
     "output_type": "display_data"
    }
   ],
   "source": [
    "plt.figure(figsize=(12,7))\n",
    "sns.barplot(data=vaccine, x = 'BRAND',y='COUNT',hue='SEX',errwidth=0)"
   ]
  },
  {
   "cell_type": "markdown",
   "id": "2844e4dd",
   "metadata": {
    "papermill": {
     "duration": 0.041748,
     "end_time": "2022-06-22T10:56:03.934176",
     "exception": false,
     "start_time": "2022-06-22T10:56:03.892428",
     "status": "completed"
    },
    "tags": []
   },
   "source": [
    "## Observation\n",
    "1. Pfizer is mosty used among all vaccines.\n",
    "2. moderna is only vaccine which is provided to male more."
   ]
  },
  {
   "cell_type": "code",
   "execution_count": 102,
   "id": "1ed25a20",
   "metadata": {
    "execution": {
     "iopub.execute_input": "2022-06-22T10:56:04.079210Z",
     "iopub.status.busy": "2022-06-22T10:56:04.078818Z",
     "iopub.status.idle": "2022-06-22T10:56:06.103365Z",
     "shell.execute_reply": "2022-06-22T10:56:06.102218Z"
    },
    "papermill": {
     "duration": 2.072972,
     "end_time": "2022-06-22T10:56:06.105663",
     "exception": false,
     "start_time": "2022-06-22T10:56:04.032691",
     "status": "completed"
    },
    "tags": []
   },
   "outputs": [
    {
     "data": {
      "text/plain": [
       "<AxesSubplot:xlabel='AGEGROUP', ylabel='COUNT'>"
      ]
     },
     "execution_count": 102,
     "metadata": {},
     "output_type": "execute_result"
    },
    {
     "data": {
      "image/png": "[encoded data removed]",
      "text/plain": [
       "<Figure size 864x504 with 1 Axes>"
      ]
     },
     "metadata": {
      "needs_background": "light"
     },
     "output_type": "display_data"
    }
   ],
   "source": [
    "plt.figure(figsize=(12,7))\n",
    "sns.barplot(data=vaccine, x = 'AGEGROUP',y='COUNT',hue='BRAND',errwidth=0)"
   ]
  },
  {
   "cell_type": "markdown",
   "id": "5f298bf4",
   "metadata": {
    "papermill": {
     "duration": 0.042354,
     "end_time": "2022-06-22T10:56:06.191283",
     "exception": false,
     "start_time": "2022-06-22T10:56:06.148929",
     "status": "completed"
    },
    "tags": []
   },
   "source": [
    "## Observation-\n",
    "1. Pfizer is provided to majority of all age group followed by astrazeneca."
   ]
  },
  {
   "cell_type": "code",
   "execution_count": 103,
   "id": "78e66ed3",
   "metadata": {
    "execution": {
     "iopub.execute_input": "2022-06-22T10:56:06.274921Z",
     "iopub.status.busy": "2022-06-22T10:56:06.274029Z",
     "iopub.status.idle": "2022-06-22T10:56:07.030346Z",
     "shell.execute_reply": "2022-06-22T10:56:07.029272Z"
    },
    "papermill": {
     "duration": 0.801293,
     "end_time": "2022-06-22T10:56:07.033017",
     "exception": false,
     "start_time": "2022-06-22T10:56:06.231724",
     "status": "completed"
    },
    "tags": []
   },
   "outputs": [
    {
     "data": {
      "text/plain": [
       "<AxesSubplot:xlabel='DOSE', ylabel='COUNT'>"
      ]
     },
     "execution_count": 103,
     "metadata": {},
     "output_type": "execute_result"
    },
    {
     "data": {
      "image/png": "[encoded data removed]",
      "text/plain": [
       "<Figure size 864x504 with 1 Axes>"
      ]
     },
     "metadata": {
      "needs_background": "light"
     },
     "output_type": "display_data"
    }
   ],
   "source": [
    "plt.figure(figsize=(12,7))\n",
    "sns.barplot(data=vaccine, x = 'DOSE',y='COUNT',hue='BRAND',errwidth=0)"
   ]
  },
  {
   "cell_type": "code",
   "execution_count": 104,
   "id": "f29a1d9e",
   "metadata": {
    "execution": {
     "iopub.execute_input": "2022-06-22T10:56:07.121277Z",
     "iopub.status.busy": "2022-06-22T10:56:07.120887Z",
     "iopub.status.idle": "2022-06-22T10:56:07.125216Z",
     "shell.execute_reply": "2022-06-22T10:56:07.124002Z"
    },
    "papermill": {
     "duration": 0.05153,
     "end_time": "2022-06-22T10:56:07.127656",
     "exception": false,
     "start_time": "2022-06-22T10:56:07.076126",
     "status": "completed"
    },
    "tags": []
   },
   "outputs": [],
   "source": [
    "## Pfizer vaccine doses are most amoung all vaccines. "
   ]
  },
  {
   "cell_type": "code",
   "execution_count": 105,
   "id": "4ab019b6",
   "metadata": {
    "execution": {
     "iopub.execute_input": "2022-06-22T10:56:07.215716Z",
     "iopub.status.busy": "2022-06-22T10:56:07.215093Z",
     "iopub.status.idle": "2022-06-22T10:56:09.177040Z",
     "shell.execute_reply": "2022-06-22T10:56:09.175851Z"
    },
    "papermill": {
     "duration": 2.008022,
     "end_time": "2022-06-22T10:56:09.179588",
     "exception": false,
     "start_time": "2022-06-22T10:56:07.171566",
     "status": "completed"
    },
    "tags": []
   },
   "outputs": [
    {
     "data": {
      "text/plain": [
       "<AxesSubplot:xlabel='BRAND', ylabel='COUNT'>"
      ]
     },
     "execution_count": 105,
     "metadata": {},
     "output_type": "execute_result"
    },
    {
     "data": {
      "image/png": "[encoded data removed]",
      "text/plain": [
       "<Figure size 864x504 with 1 Axes>"
      ]
     },
     "metadata": {
      "needs_background": "light"
     },
     "output_type": "display_data"
    }
   ],
   "source": [
    "plt.figure(figsize=(12,7))\n",
    "sns.barplot(data=vaccine, x = 'BRAND',y='COUNT',hue='AGEGROUP',errwidth=0)"
   ]
  },
  {
   "cell_type": "code",
   "execution_count": 106,
   "id": "c4adbc39",
   "metadata": {
    "execution": {
     "iopub.execute_input": "2022-06-22T10:56:09.267256Z",
     "iopub.status.busy": "2022-06-22T10:56:09.266881Z",
     "iopub.status.idle": "2022-06-22T10:56:09.270990Z",
     "shell.execute_reply": "2022-06-22T10:56:09.270171Z"
    },
    "papermill": {
     "duration": 0.04913,
     "end_time": "2022-06-22T10:56:09.272881",
     "exception": false,
     "start_time": "2022-06-22T10:56:09.223751",
     "status": "completed"
    },
    "tags": []
   },
   "outputs": [],
   "source": [
    "## same data shown age group wise with respect to all the available vaccines."
   ]
  },
  {
   "cell_type": "code",
   "execution_count": 107,
   "id": "079c85dc",
   "metadata": {
    "execution": {
     "iopub.execute_input": "2022-06-22T10:56:09.358899Z",
     "iopub.status.busy": "2022-06-22T10:56:09.358044Z",
     "iopub.status.idle": "2022-06-22T10:56:11.045331Z",
     "shell.execute_reply": "2022-06-22T10:56:11.044224Z"
    },
    "papermill": {
     "duration": 1.73312,
     "end_time": "2022-06-22T10:56:11.047822",
     "exception": false,
     "start_time": "2022-06-22T10:56:09.314702",
     "status": "completed"
    },
    "tags": []
   },
   "outputs": [
    {
     "data": {
      "text/plain": [
       "<AxesSubplot:xlabel='AGEGROUP', ylabel='COUNT'>"
      ]
     },
     "execution_count": 107,
     "metadata": {},
     "output_type": "execute_result"
    },
    {
     "data": {
      "image/png": "[encoded data removed]",
      "text/plain": [
       "<Figure size 864x504 with 1 Axes>"
      ]
     },
     "metadata": {
      "needs_background": "light"
     },
     "output_type": "display_data"
    }
   ],
   "source": [
    "plt.figure(figsize=(12,7))\n",
    "sns.barplot(data=vaccine, x = 'AGEGROUP',y='COUNT',hue='DOSE',errwidth=0)"
   ]
  },
  {
   "cell_type": "markdown",
   "id": "829b6fbb",
   "metadata": {
    "papermill": {
     "duration": 0.044125,
     "end_time": "2022-06-22T10:56:11.139802",
     "exception": false,
     "start_time": "2022-06-22T10:56:11.095677",
     "status": "completed"
    },
    "tags": []
   },
   "source": [
    "## Observations-\n",
    "1. Age group 55-64 got heighest number of doses.\n",
    "2. E which means required extra booster dose after previous doses."
   ]
  },
  {
   "cell_type": "code",
   "execution_count": null,
   "id": "5e6242dd",
   "metadata": {
    "papermill": {
     "duration": 0.041864,
     "end_time": "2022-06-22T10:56:11.223904",
     "exception": false,
     "start_time": "2022-06-22T10:56:11.182040",
     "status": "completed"
    },
    "tags": []
   },
   "outputs": [],
   "source": []
  },
  {
   "cell_type": "markdown",
   "id": "4c7c5b4a",
   "metadata": {
    "papermill": {
     "duration": 0.041863,
     "end_time": "2022-06-22T10:56:11.308143",
     "exception": false,
     "start_time": "2022-06-22T10:56:11.266280",
     "status": "completed"
    },
    "tags": []
   },
   "source": [
    "## Nursing home data"
   ]
  },
  {
   "cell_type": "code",
   "execution_count": 108,
   "id": "eaaca3f9",
   "metadata": {
    "execution": {
     "iopub.execute_input": "2022-06-22T10:56:11.395220Z",
     "iopub.status.busy": "2022-06-22T10:56:11.394548Z",
     "iopub.status.idle": "2022-06-22T10:56:11.420047Z",
     "shell.execute_reply": "2022-06-22T10:56:11.419180Z"
    },
    "papermill": {
     "duration": 0.071483,
     "end_time": "2022-06-22T10:56:11.422003",
     "exception": false,
     "start_time": "2022-06-22T10:56:11.350520",
     "status": "completed"
    },
    "tags": []
   },
   "outputs": [
    {
     "data": {
      "text/html": [
       "<div>\n",
       "<style scoped>\n",
       "    .dataframe tbody tr th:only-of-type {\n",
       "        vertical-align: middle;\n",
       "    }\n",
       "\n",
       "    .dataframe tbody tr th {\n",
       "        vertical-align: top;\n",
       "    }\n",
       "\n",
       "    .dataframe thead th {\n",
       "        text-align: right;\n",
       "    }\n",
       "</style>\n",
       "<table border=\"1\" class=\"dataframe\">\n",
       "  <thead>\n",
       "    <tr style=\"text-align: right;\">\n",
       "      <th></th>\n",
       "      <th>YEAR_WEEK</th>\n",
       "      <th>REGION</th>\n",
       "      <th>PART_RATE_PERCENT</th>\n",
       "      <th>CASES_PER_100</th>\n",
       "      <th>NEW_IN_PER_100</th>\n",
       "      <th>DEATHS_PER_100</th>\n",
       "    </tr>\n",
       "  </thead>\n",
       "  <tbody>\n",
       "    <tr>\n",
       "      <th>0</th>\n",
       "      <td>20W10</td>\n",
       "      <td>Belgium</td>\n",
       "      <td>NaN</td>\n",
       "      <td>NaN</td>\n",
       "      <td>NaN</td>\n",
       "      <td>NaN</td>\n",
       "    </tr>\n",
       "    <tr>\n",
       "      <th>1</th>\n",
       "      <td>20W10</td>\n",
       "      <td>Brussels</td>\n",
       "      <td>NaN</td>\n",
       "      <td>NaN</td>\n",
       "      <td>NaN</td>\n",
       "      <td>NaN</td>\n",
       "    </tr>\n",
       "    <tr>\n",
       "      <th>2</th>\n",
       "      <td>20W10</td>\n",
       "      <td>Flanders</td>\n",
       "      <td>NaN</td>\n",
       "      <td>NaN</td>\n",
       "      <td>NaN</td>\n",
       "      <td>NaN</td>\n",
       "    </tr>\n",
       "    <tr>\n",
       "      <th>3</th>\n",
       "      <td>20W10</td>\n",
       "      <td>German speaking community</td>\n",
       "      <td>NaN</td>\n",
       "      <td>NaN</td>\n",
       "      <td>NaN</td>\n",
       "      <td>NaN</td>\n",
       "    </tr>\n",
       "    <tr>\n",
       "      <th>4</th>\n",
       "      <td>20W10</td>\n",
       "      <td>Wallonia</td>\n",
       "      <td>NaN</td>\n",
       "      <td>NaN</td>\n",
       "      <td>NaN</td>\n",
       "      <td>NaN</td>\n",
       "    </tr>\n",
       "    <tr>\n",
       "      <th>...</th>\n",
       "      <td>...</td>\n",
       "      <td>...</td>\n",
       "      <td>...</td>\n",
       "      <td>...</td>\n",
       "      <td>...</td>\n",
       "      <td>...</td>\n",
       "    </tr>\n",
       "    <tr>\n",
       "      <th>585</th>\n",
       "      <td>22W22</td>\n",
       "      <td>Belgium</td>\n",
       "      <td>63.0</td>\n",
       "      <td>0.16</td>\n",
       "      <td>0.01</td>\n",
       "      <td>0.01</td>\n",
       "    </tr>\n",
       "    <tr>\n",
       "      <th>586</th>\n",
       "      <td>22W22</td>\n",
       "      <td>Brussels</td>\n",
       "      <td>45.0</td>\n",
       "      <td>0.21</td>\n",
       "      <td>0.03</td>\n",
       "      <td>0.00</td>\n",
       "    </tr>\n",
       "    <tr>\n",
       "      <th>587</th>\n",
       "      <td>22W22</td>\n",
       "      <td>Flanders</td>\n",
       "      <td>65.0</td>\n",
       "      <td>0.21</td>\n",
       "      <td>0.01</td>\n",
       "      <td>0.01</td>\n",
       "    </tr>\n",
       "    <tr>\n",
       "      <th>588</th>\n",
       "      <td>22W22</td>\n",
       "      <td>German speaking community</td>\n",
       "      <td>22.0</td>\n",
       "      <td>0.00</td>\n",
       "      <td>0.00</td>\n",
       "      <td>0.00</td>\n",
       "    </tr>\n",
       "    <tr>\n",
       "      <th>589</th>\n",
       "      <td>22W22</td>\n",
       "      <td>Wallonia</td>\n",
       "      <td>66.0</td>\n",
       "      <td>0.09</td>\n",
       "      <td>0.00</td>\n",
       "      <td>0.00</td>\n",
       "    </tr>\n",
       "  </tbody>\n",
       "</table>\n",
       "<p>590 rows × 6 columns</p>\n",
       "</div>"
      ],
      "text/plain": [
       "    YEAR_WEEK                     REGION  PART_RATE_PERCENT  CASES_PER_100  \\\n",
       "0       20W10                    Belgium                NaN            NaN   \n",
       "1       20W10                   Brussels                NaN            NaN   \n",
       "2       20W10                   Flanders                NaN            NaN   \n",
       "3       20W10  German speaking community                NaN            NaN   \n",
       "4       20W10                   Wallonia                NaN            NaN   \n",
       "..        ...                        ...                ...            ...   \n",
       "585     22W22                    Belgium               63.0           0.16   \n",
       "586     22W22                   Brussels               45.0           0.21   \n",
       "587     22W22                   Flanders               65.0           0.21   \n",
       "588     22W22  German speaking community               22.0           0.00   \n",
       "589     22W22                   Wallonia               66.0           0.09   \n",
       "\n",
       "     NEW_IN_PER_100  DEATHS_PER_100  \n",
       "0               NaN             NaN  \n",
       "1               NaN             NaN  \n",
       "2               NaN             NaN  \n",
       "3               NaN             NaN  \n",
       "4               NaN             NaN  \n",
       "..              ...             ...  \n",
       "585            0.01            0.01  \n",
       "586            0.03            0.00  \n",
       "587            0.01            0.01  \n",
       "588            0.00            0.00  \n",
       "589            0.00            0.00  \n",
       "\n",
       "[590 rows x 6 columns]"
      ]
     },
     "execution_count": 108,
     "metadata": {},
     "output_type": "execute_result"
    }
   ],
   "source": [
    "# reading the data .\n",
    "df_nh = pd.read_csv('../input/covid19-belgium/NH.csv')\n",
    "df_nh"
   ]
  },
  {
   "cell_type": "code",
   "execution_count": 109,
   "id": "2377e543",
   "metadata": {
    "execution": {
     "iopub.execute_input": "2022-06-22T10:56:11.510088Z",
     "iopub.status.busy": "2022-06-22T10:56:11.509395Z",
     "iopub.status.idle": "2022-06-22T10:56:11.520897Z",
     "shell.execute_reply": "2022-06-22T10:56:11.519801Z"
    },
    "papermill": {
     "duration": 0.057904,
     "end_time": "2022-06-22T10:56:11.523206",
     "exception": false,
     "start_time": "2022-06-22T10:56:11.465302",
     "status": "completed"
    },
    "tags": []
   },
   "outputs": [
    {
     "name": "stdout",
     "output_type": "stream",
     "text": [
      "<class 'pandas.core.frame.DataFrame'>\n",
      "RangeIndex: 590 entries, 0 to 589\n",
      "Data columns (total 6 columns):\n",
      " #   Column             Non-Null Count  Dtype  \n",
      "---  ------             --------------  -----  \n",
      " 0   YEAR_WEEK          590 non-null    object \n",
      " 1   REGION             590 non-null    object \n",
      " 2   PART_RATE_PERCENT  540 non-null    float64\n",
      " 3   CASES_PER_100      540 non-null    float64\n",
      " 4   NEW_IN_PER_100     540 non-null    float64\n",
      " 5   DEATHS_PER_100     585 non-null    float64\n",
      "dtypes: float64(4), object(2)\n",
      "memory usage: 27.8+ KB\n"
     ]
    }
   ],
   "source": [
    "df_nh.info() #checking its datatype."
   ]
  },
  {
   "cell_type": "code",
   "execution_count": 110,
   "id": "8b95b0db",
   "metadata": {
    "execution": {
     "iopub.execute_input": "2022-06-22T10:56:11.609893Z",
     "iopub.status.busy": "2022-06-22T10:56:11.609210Z",
     "iopub.status.idle": "2022-06-22T10:56:11.617031Z",
     "shell.execute_reply": "2022-06-22T10:56:11.616012Z"
    },
    "papermill": {
     "duration": 0.053758,
     "end_time": "2022-06-22T10:56:11.619181",
     "exception": false,
     "start_time": "2022-06-22T10:56:11.565423",
     "status": "completed"
    },
    "tags": []
   },
   "outputs": [
    {
     "data": {
      "text/plain": [
       "0"
      ]
     },
     "execution_count": 110,
     "metadata": {},
     "output_type": "execute_result"
    }
   ],
   "source": [
    "df_nh.duplicated().sum()"
   ]
  },
  {
   "cell_type": "code",
   "execution_count": 111,
   "id": "41de0d6e",
   "metadata": {
    "execution": {
     "iopub.execute_input": "2022-06-22T10:56:11.706664Z",
     "iopub.status.busy": "2022-06-22T10:56:11.706255Z",
     "iopub.status.idle": "2022-06-22T10:56:11.716071Z",
     "shell.execute_reply": "2022-06-22T10:56:11.714481Z"
    },
    "papermill": {
     "duration": 0.056855,
     "end_time": "2022-06-22T10:56:11.718330",
     "exception": false,
     "start_time": "2022-06-22T10:56:11.661475",
     "status": "completed"
    },
    "tags": []
   },
   "outputs": [
    {
     "data": {
      "text/plain": [
       "YEAR_WEEK             0\n",
       "REGION                0\n",
       "PART_RATE_PERCENT    50\n",
       "CASES_PER_100        50\n",
       "NEW_IN_PER_100       50\n",
       "DEATHS_PER_100        5\n",
       "dtype: int64"
      ]
     },
     "execution_count": 111,
     "metadata": {},
     "output_type": "execute_result"
    }
   ],
   "source": [
    "df_nh.isnull().sum() #null values"
   ]
  },
  {
   "cell_type": "code",
   "execution_count": 112,
   "id": "f3da1af9",
   "metadata": {
    "execution": {
     "iopub.execute_input": "2022-06-22T10:56:11.808729Z",
     "iopub.status.busy": "2022-06-22T10:56:11.807784Z",
     "iopub.status.idle": "2022-06-22T10:56:12.106278Z",
     "shell.execute_reply": "2022-06-22T10:56:12.105220Z"
    },
    "papermill": {
     "duration": 0.34634,
     "end_time": "2022-06-22T10:56:12.108766",
     "exception": false,
     "start_time": "2022-06-22T10:56:11.762426",
     "status": "completed"
    },
    "tags": []
   },
   "outputs": [
    {
     "data": {
      "text/plain": [
       "<AxesSubplot:xlabel='PART_RATE_PERCENT', ylabel='Count'>"
      ]
     },
     "execution_count": 112,
     "metadata": {},
     "output_type": "execute_result"
    },
    {
     "data": {
      "image/png": "[encoded data removed]",
      "text/plain": [
       "<Figure size 792x504 with 1 Axes>"
      ]
     },
     "metadata": {
      "needs_background": "light"
     },
     "output_type": "display_data"
    }
   ],
   "source": [
    "#  Number of nursing homes that participated at least once in the\n",
    "#  corresponding week, expressed in a percentage.\n",
    "\n",
    "plt.figure(figsize=(11,7))\n",
    "plt.axvline(df_nh['PART_RATE_PERCENT'].mean(), color = 'red', label='mean') \n",
    "plt.axvline(df_nh['PART_RATE_PERCENT'].median(), color = 'green',label='median') \n",
    "sns.histplot(data=df_nh,x='PART_RATE_PERCENT',kde=True)"
   ]
  },
  {
   "cell_type": "markdown",
   "id": "31596815",
   "metadata": {
    "papermill": {
     "duration": 0.044623,
     "end_time": "2022-06-22T10:56:12.198259",
     "exception": false,
     "start_time": "2022-06-22T10:56:12.153636",
     "status": "completed"
    },
    "tags": []
   },
   "source": [
    "#### checking its data distribution we can replace null value with median as well as mean."
   ]
  },
  {
   "cell_type": "code",
   "execution_count": 113,
   "id": "9a7cd520",
   "metadata": {
    "execution": {
     "iopub.execute_input": "2022-06-22T10:56:12.287270Z",
     "iopub.status.busy": "2022-06-22T10:56:12.286549Z",
     "iopub.status.idle": "2022-06-22T10:56:12.293732Z",
     "shell.execute_reply": "2022-06-22T10:56:12.292868Z"
    },
    "papermill": {
     "duration": 0.054066,
     "end_time": "2022-06-22T10:56:12.295539",
     "exception": false,
     "start_time": "2022-06-22T10:56:12.241473",
     "status": "completed"
    },
    "tags": []
   },
   "outputs": [
    {
     "data": {
      "text/plain": [
       "79.0"
      ]
     },
     "execution_count": 113,
     "metadata": {},
     "output_type": "execute_result"
    }
   ],
   "source": [
    "df_nh['PART_RATE_PERCENT'].median()"
   ]
  },
  {
   "cell_type": "code",
   "execution_count": 114,
   "id": "950a9668",
   "metadata": {
    "execution": {
     "iopub.execute_input": "2022-06-22T10:56:12.386970Z",
     "iopub.status.busy": "2022-06-22T10:56:12.386625Z",
     "iopub.status.idle": "2022-06-22T10:56:12.391864Z",
     "shell.execute_reply": "2022-06-22T10:56:12.391111Z"
    },
    "papermill": {
     "duration": 0.051954,
     "end_time": "2022-06-22T10:56:12.393745",
     "exception": false,
     "start_time": "2022-06-22T10:56:12.341791",
     "status": "completed"
    },
    "tags": []
   },
   "outputs": [],
   "source": [
    "\n",
    "df_nh['PART_RATE_PERCENT'].fillna(int(df_nh['PART_RATE_PERCENT'].median()),inplace=True)"
   ]
  },
  {
   "cell_type": "code",
   "execution_count": 115,
   "id": "890d566c",
   "metadata": {
    "execution": {
     "iopub.execute_input": "2022-06-22T10:56:12.483076Z",
     "iopub.status.busy": "2022-06-22T10:56:12.482396Z",
     "iopub.status.idle": "2022-06-22T10:56:12.490124Z",
     "shell.execute_reply": "2022-06-22T10:56:12.489332Z"
    },
    "papermill": {
     "duration": 0.054432,
     "end_time": "2022-06-22T10:56:12.491987",
     "exception": false,
     "start_time": "2022-06-22T10:56:12.437555",
     "status": "completed"
    },
    "tags": []
   },
   "outputs": [
    {
     "data": {
      "text/plain": [
       "YEAR_WEEK             0\n",
       "REGION                0\n",
       "PART_RATE_PERCENT     0\n",
       "CASES_PER_100        50\n",
       "NEW_IN_PER_100       50\n",
       "DEATHS_PER_100        5\n",
       "dtype: int64"
      ]
     },
     "execution_count": 115,
     "metadata": {},
     "output_type": "execute_result"
    }
   ],
   "source": [
    "df_nh.isnull().sum()"
   ]
  },
  {
   "cell_type": "code",
   "execution_count": 116,
   "id": "33b6d0f4",
   "metadata": {
    "execution": {
     "iopub.execute_input": "2022-06-22T10:56:12.582834Z",
     "iopub.status.busy": "2022-06-22T10:56:12.582191Z",
     "iopub.status.idle": "2022-06-22T10:56:12.911757Z",
     "shell.execute_reply": "2022-06-22T10:56:12.910289Z"
    },
    "papermill": {
     "duration": 0.376743,
     "end_time": "2022-06-22T10:56:12.914101",
     "exception": false,
     "start_time": "2022-06-22T10:56:12.537358",
     "status": "completed"
    },
    "tags": []
   },
   "outputs": [
    {
     "data": {
      "text/plain": [
       "<AxesSubplot:xlabel='CASES_PER_100', ylabel='Count'>"
      ]
     },
     "execution_count": 116,
     "metadata": {},
     "output_type": "execute_result"
    },
    {
     "data": {
      "image/png": "[encoded data removed]",
      "text/plain": [
       "<Figure size 792x504 with 1 Axes>"
      ]
     },
     "metadata": {
      "needs_background": "light"
     },
     "output_type": "display_data"
    }
   ],
   "source": [
    "plt.figure(figsize=(11,7))\n",
    "plt.axvline(df_nh['CASES_PER_100'].mean(), color = 'red', label='mean') \n",
    "plt.axvline(df_nh['CASES_PER_100'].median(), color = 'green',label='median') \n",
    "sns.histplot(data=df_nh,x='CASES_PER_100',kde=True)"
   ]
  },
  {
   "cell_type": "markdown",
   "id": "6a45c6fc",
   "metadata": {
    "papermill": {
     "duration": 0.0451,
     "end_time": "2022-06-22T10:56:13.003392",
     "exception": false,
     "start_time": "2022-06-22T10:56:12.958292",
     "status": "completed"
    },
    "tags": []
   },
   "source": [
    "#### Data is skewed towards right so replacing null values with median as median as median remains uneffected with extreme values."
   ]
  },
  {
   "cell_type": "code",
   "execution_count": 117,
   "id": "6299747c",
   "metadata": {
    "execution": {
     "iopub.execute_input": "2022-06-22T10:56:13.093202Z",
     "iopub.status.busy": "2022-06-22T10:56:13.092799Z",
     "iopub.status.idle": "2022-06-22T10:56:13.099417Z",
     "shell.execute_reply": "2022-06-22T10:56:13.098571Z"
    },
    "papermill": {
     "duration": 0.054241,
     "end_time": "2022-06-22T10:56:13.101432",
     "exception": false,
     "start_time": "2022-06-22T10:56:13.047191",
     "status": "completed"
    },
    "tags": []
   },
   "outputs": [
    {
     "data": {
      "text/plain": [
       "0.61"
      ]
     },
     "execution_count": 117,
     "metadata": {},
     "output_type": "execute_result"
    }
   ],
   "source": [
    "round(df_nh['CASES_PER_100'].mean(),2)"
   ]
  },
  {
   "cell_type": "code",
   "execution_count": 118,
   "id": "3e36131b",
   "metadata": {
    "execution": {
     "iopub.execute_input": "2022-06-22T10:56:13.192656Z",
     "iopub.status.busy": "2022-06-22T10:56:13.192285Z",
     "iopub.status.idle": "2022-06-22T10:56:13.198695Z",
     "shell.execute_reply": "2022-06-22T10:56:13.197594Z"
    },
    "papermill": {
     "duration": 0.054744,
     "end_time": "2022-06-22T10:56:13.200805",
     "exception": false,
     "start_time": "2022-06-22T10:56:13.146061",
     "status": "completed"
    },
    "tags": []
   },
   "outputs": [
    {
     "data": {
      "text/plain": [
       "0.16"
      ]
     },
     "execution_count": 118,
     "metadata": {},
     "output_type": "execute_result"
    }
   ],
   "source": [
    "round(df_nh['CASES_PER_100'].median(),2)"
   ]
  },
  {
   "cell_type": "code",
   "execution_count": 119,
   "id": "55ef2010",
   "metadata": {
    "execution": {
     "iopub.execute_input": "2022-06-22T10:56:13.290066Z",
     "iopub.status.busy": "2022-06-22T10:56:13.289358Z",
     "iopub.status.idle": "2022-06-22T10:56:13.294653Z",
     "shell.execute_reply": "2022-06-22T10:56:13.293895Z"
    },
    "papermill": {
     "duration": 0.052245,
     "end_time": "2022-06-22T10:56:13.296632",
     "exception": false,
     "start_time": "2022-06-22T10:56:13.244387",
     "status": "completed"
    },
    "tags": []
   },
   "outputs": [],
   "source": [
    "df_nh['CASES_PER_100'].fillna(int(df_nh['CASES_PER_100'].median()),inplace=True)"
   ]
  },
  {
   "cell_type": "code",
   "execution_count": 120,
   "id": "67fc12b1",
   "metadata": {
    "execution": {
     "iopub.execute_input": "2022-06-22T10:56:13.387096Z",
     "iopub.status.busy": "2022-06-22T10:56:13.386408Z",
     "iopub.status.idle": "2022-06-22T10:56:13.394726Z",
     "shell.execute_reply": "2022-06-22T10:56:13.393630Z"
    },
    "papermill": {
     "duration": 0.056606,
     "end_time": "2022-06-22T10:56:13.397230",
     "exception": false,
     "start_time": "2022-06-22T10:56:13.340624",
     "status": "completed"
    },
    "tags": []
   },
   "outputs": [
    {
     "data": {
      "text/plain": [
       "YEAR_WEEK             0\n",
       "REGION                0\n",
       "PART_RATE_PERCENT     0\n",
       "CASES_PER_100         0\n",
       "NEW_IN_PER_100       50\n",
       "DEATHS_PER_100        5\n",
       "dtype: int64"
      ]
     },
     "execution_count": 120,
     "metadata": {},
     "output_type": "execute_result"
    }
   ],
   "source": [
    "df_nh.isnull().sum()"
   ]
  },
  {
   "cell_type": "code",
   "execution_count": null,
   "id": "d45c97bf",
   "metadata": {
    "papermill": {
     "duration": 0.045397,
     "end_time": "2022-06-22T10:56:13.488671",
     "exception": false,
     "start_time": "2022-06-22T10:56:13.443274",
     "status": "completed"
    },
    "tags": []
   },
   "outputs": [],
   "source": []
  },
  {
   "cell_type": "code",
   "execution_count": 121,
   "id": "228b2c33",
   "metadata": {
    "execution": {
     "iopub.execute_input": "2022-06-22T10:56:13.580068Z",
     "iopub.status.busy": "2022-06-22T10:56:13.579340Z",
     "iopub.status.idle": "2022-06-22T10:56:14.045307Z",
     "shell.execute_reply": "2022-06-22T10:56:14.044177Z"
    },
    "papermill": {
     "duration": 0.514009,
     "end_time": "2022-06-22T10:56:14.047890",
     "exception": false,
     "start_time": "2022-06-22T10:56:13.533881",
     "status": "completed"
    },
    "tags": []
   },
   "outputs": [
    {
     "data": {
      "text/plain": [
       "<AxesSubplot:xlabel='NEW_IN_PER_100', ylabel='Count'>"
      ]
     },
     "execution_count": 121,
     "metadata": {},
     "output_type": "execute_result"
    },
    {
     "data": {
      "image/png": "[encoded data removed]",
      "text/plain": [
       "<Figure size 792x504 with 1 Axes>"
      ]
     },
     "metadata": {
      "needs_background": "light"
     },
     "output_type": "display_data"
    }
   ],
   "source": [
    "plt.figure(figsize=(11,7))\n",
    "plt.axvline(df_nh['NEW_IN_PER_100'].mean(), color = 'red', label='mean') \n",
    "plt.axvline(df_nh['NEW_IN_PER_100'].median(), color = 'green',label='median') \n",
    "sns.histplot(data=df_nh,x='NEW_IN_PER_100',kde=True)"
   ]
  },
  {
   "cell_type": "markdown",
   "id": "d22b0638",
   "metadata": {
    "papermill": {
     "duration": 0.043702,
     "end_time": "2022-06-22T10:56:14.136052",
     "exception": false,
     "start_time": "2022-06-22T10:56:14.092350",
     "status": "completed"
    },
    "tags": []
   },
   "source": [
    "#### Data is skewed towards right so replacing null values with median as median as median remains uneffected with extreme values."
   ]
  },
  {
   "cell_type": "code",
   "execution_count": 122,
   "id": "c95328df",
   "metadata": {
    "execution": {
     "iopub.execute_input": "2022-06-22T10:56:14.228388Z",
     "iopub.status.busy": "2022-06-22T10:56:14.227648Z",
     "iopub.status.idle": "2022-06-22T10:56:14.235835Z",
     "shell.execute_reply": "2022-06-22T10:56:14.234963Z"
    },
    "papermill": {
     "duration": 0.057134,
     "end_time": "2022-06-22T10:56:14.237921",
     "exception": false,
     "start_time": "2022-06-22T10:56:14.180787",
     "status": "completed"
    },
    "tags": []
   },
   "outputs": [
    {
     "data": {
      "text/plain": [
       "0.01"
      ]
     },
     "execution_count": 122,
     "metadata": {},
     "output_type": "execute_result"
    }
   ],
   "source": [
    "round(df_nh['NEW_IN_PER_100'].median(),2)"
   ]
  },
  {
   "cell_type": "code",
   "execution_count": 123,
   "id": "d6573852",
   "metadata": {
    "execution": {
     "iopub.execute_input": "2022-06-22T10:56:14.361235Z",
     "iopub.status.busy": "2022-06-22T10:56:14.360868Z",
     "iopub.status.idle": "2022-06-22T10:56:14.368323Z",
     "shell.execute_reply": "2022-06-22T10:56:14.367236Z"
    },
    "papermill": {
     "duration": 0.057721,
     "end_time": "2022-06-22T10:56:14.370537",
     "exception": false,
     "start_time": "2022-06-22T10:56:14.312816",
     "status": "completed"
    },
    "tags": []
   },
   "outputs": [
    {
     "data": {
      "text/plain": [
       "0.04"
      ]
     },
     "execution_count": 123,
     "metadata": {},
     "output_type": "execute_result"
    }
   ],
   "source": [
    "round(df_nh['NEW_IN_PER_100'].mean(),2)"
   ]
  },
  {
   "cell_type": "code",
   "execution_count": 124,
   "id": "1e9b0b52",
   "metadata": {
    "execution": {
     "iopub.execute_input": "2022-06-22T10:56:14.462150Z",
     "iopub.status.busy": "2022-06-22T10:56:14.461420Z",
     "iopub.status.idle": "2022-06-22T10:56:14.467977Z",
     "shell.execute_reply": "2022-06-22T10:56:14.467183Z"
    },
    "papermill": {
     "duration": 0.055092,
     "end_time": "2022-06-22T10:56:14.470062",
     "exception": false,
     "start_time": "2022-06-22T10:56:14.414970",
     "status": "completed"
    },
    "tags": []
   },
   "outputs": [],
   "source": [
    "df_nh['NEW_IN_PER_100'].fillna(int(df_nh['NEW_IN_PER_100'].median()),inplace=True)"
   ]
  },
  {
   "cell_type": "code",
   "execution_count": 125,
   "id": "fdd7d2cf",
   "metadata": {
    "execution": {
     "iopub.execute_input": "2022-06-22T10:56:14.564524Z",
     "iopub.status.busy": "2022-06-22T10:56:14.563759Z",
     "iopub.status.idle": "2022-06-22T10:56:14.572873Z",
     "shell.execute_reply": "2022-06-22T10:56:14.571999Z"
    },
    "papermill": {
     "duration": 0.058665,
     "end_time": "2022-06-22T10:56:14.574972",
     "exception": false,
     "start_time": "2022-06-22T10:56:14.516307",
     "status": "completed"
    },
    "tags": []
   },
   "outputs": [
    {
     "data": {
      "text/plain": [
       "YEAR_WEEK            0\n",
       "REGION               0\n",
       "PART_RATE_PERCENT    0\n",
       "CASES_PER_100        0\n",
       "NEW_IN_PER_100       0\n",
       "DEATHS_PER_100       5\n",
       "dtype: int64"
      ]
     },
     "execution_count": 125,
     "metadata": {},
     "output_type": "execute_result"
    }
   ],
   "source": [
    "df_nh.isnull().sum()"
   ]
  },
  {
   "cell_type": "code",
   "execution_count": null,
   "id": "5d558a3a",
   "metadata": {
    "papermill": {
     "duration": 0.045894,
     "end_time": "2022-06-22T10:56:14.665806",
     "exception": false,
     "start_time": "2022-06-22T10:56:14.619912",
     "status": "completed"
    },
    "tags": []
   },
   "outputs": [],
   "source": []
  },
  {
   "cell_type": "code",
   "execution_count": 126,
   "id": "ff4f7282",
   "metadata": {
    "execution": {
     "iopub.execute_input": "2022-06-22T10:56:14.760669Z",
     "iopub.status.busy": "2022-06-22T10:56:14.760307Z",
     "iopub.status.idle": "2022-06-22T10:56:15.089586Z",
     "shell.execute_reply": "2022-06-22T10:56:15.088431Z"
    },
    "papermill": {
     "duration": 0.378213,
     "end_time": "2022-06-22T10:56:15.091993",
     "exception": false,
     "start_time": "2022-06-22T10:56:14.713780",
     "status": "completed"
    },
    "tags": []
   },
   "outputs": [
    {
     "data": {
      "text/plain": [
       "<AxesSubplot:xlabel='DEATHS_PER_100', ylabel='Count'>"
      ]
     },
     "execution_count": 126,
     "metadata": {},
     "output_type": "execute_result"
    },
    {
     "data": {
      "image/png": "[encoded data removed]",
      "text/plain": [
       "<Figure size 792x504 with 1 Axes>"
      ]
     },
     "metadata": {
      "needs_background": "light"
     },
     "output_type": "display_data"
    }
   ],
   "source": [
    "plt.figure(figsize=(11,7))\n",
    "plt.axvline(df_nh['DEATHS_PER_100'].mean(), color = 'red', label='mean') \n",
    "plt.axvline(df_nh['DEATHS_PER_100'].median(), color = 'green',label='median') \n",
    "sns.histplot(data=df_nh,x='DEATHS_PER_100',kde=True)"
   ]
  },
  {
   "cell_type": "markdown",
   "id": "bc55e05a",
   "metadata": {
    "papermill": {
     "duration": 0.044593,
     "end_time": "2022-06-22T10:56:15.181503",
     "exception": false,
     "start_time": "2022-06-22T10:56:15.136910",
     "status": "completed"
    },
    "tags": []
   },
   "source": [
    "#### Data is skewed towards right so replacing null values with median as median as median remains uneffected with extreme values."
   ]
  },
  {
   "cell_type": "code",
   "execution_count": 127,
   "id": "aa42890a",
   "metadata": {
    "execution": {
     "iopub.execute_input": "2022-06-22T10:56:15.274159Z",
     "iopub.status.busy": "2022-06-22T10:56:15.273186Z",
     "iopub.status.idle": "2022-06-22T10:56:15.280063Z",
     "shell.execute_reply": "2022-06-22T10:56:15.279062Z"
    },
    "papermill": {
     "duration": 0.056072,
     "end_time": "2022-06-22T10:56:15.282203",
     "exception": false,
     "start_time": "2022-06-22T10:56:15.226131",
     "status": "completed"
    },
    "tags": []
   },
   "outputs": [],
   "source": [
    "df_nh['DEATHS_PER_100'].fillna(int(df_nh['DEATHS_PER_100'].median()),inplace=True)"
   ]
  },
  {
   "cell_type": "code",
   "execution_count": 128,
   "id": "5a5b6330",
   "metadata": {
    "execution": {
     "iopub.execute_input": "2022-06-22T10:56:15.375551Z",
     "iopub.status.busy": "2022-06-22T10:56:15.374875Z",
     "iopub.status.idle": "2022-06-22T10:56:15.382969Z",
     "shell.execute_reply": "2022-06-22T10:56:15.382253Z"
    },
    "papermill": {
     "duration": 0.057078,
     "end_time": "2022-06-22T10:56:15.384844",
     "exception": false,
     "start_time": "2022-06-22T10:56:15.327766",
     "status": "completed"
    },
    "tags": []
   },
   "outputs": [
    {
     "data": {
      "text/plain": [
       "YEAR_WEEK            0\n",
       "REGION               0\n",
       "PART_RATE_PERCENT    0\n",
       "CASES_PER_100        0\n",
       "NEW_IN_PER_100       0\n",
       "DEATHS_PER_100       0\n",
       "dtype: int64"
      ]
     },
     "execution_count": 128,
     "metadata": {},
     "output_type": "execute_result"
    }
   ],
   "source": [
    "df_nh.isnull().sum()"
   ]
  },
  {
   "cell_type": "code",
   "execution_count": null,
   "id": "4f9bf426",
   "metadata": {
    "papermill": {
     "duration": 0.045553,
     "end_time": "2022-06-22T10:56:15.475867",
     "exception": false,
     "start_time": "2022-06-22T10:56:15.430314",
     "status": "completed"
    },
    "tags": []
   },
   "outputs": [],
   "source": []
  },
  {
   "cell_type": "code",
   "execution_count": 129,
   "id": "8d483927",
   "metadata": {
    "execution": {
     "iopub.execute_input": "2022-06-22T10:56:15.568942Z",
     "iopub.status.busy": "2022-06-22T10:56:15.568321Z",
     "iopub.status.idle": "2022-06-22T10:56:15.585553Z",
     "shell.execute_reply": "2022-06-22T10:56:15.584750Z"
    },
    "papermill": {
     "duration": 0.066315,
     "end_time": "2022-06-22T10:56:15.587665",
     "exception": false,
     "start_time": "2022-06-22T10:56:15.521350",
     "status": "completed"
    },
    "tags": []
   },
   "outputs": [
    {
     "data": {
      "text/html": [
       "<div>\n",
       "<style scoped>\n",
       "    .dataframe tbody tr th:only-of-type {\n",
       "        vertical-align: middle;\n",
       "    }\n",
       "\n",
       "    .dataframe tbody tr th {\n",
       "        vertical-align: top;\n",
       "    }\n",
       "\n",
       "    .dataframe thead th {\n",
       "        text-align: right;\n",
       "    }\n",
       "</style>\n",
       "<table border=\"1\" class=\"dataframe\">\n",
       "  <thead>\n",
       "    <tr style=\"text-align: right;\">\n",
       "      <th></th>\n",
       "      <th>REGION</th>\n",
       "      <th>PART_RATE_PERCENT</th>\n",
       "      <th>CASES_PER_100</th>\n",
       "      <th>NEW_IN_PER_100</th>\n",
       "      <th>DEATHS_PER_100</th>\n",
       "    </tr>\n",
       "  </thead>\n",
       "  <tbody>\n",
       "    <tr>\n",
       "      <th>0</th>\n",
       "      <td>Belgium</td>\n",
       "      <td>82.889831</td>\n",
       "      <td>0.606102</td>\n",
       "      <td>0.037966</td>\n",
       "      <td>0.093983</td>\n",
       "    </tr>\n",
       "    <tr>\n",
       "      <th>1</th>\n",
       "      <td>Brussels</td>\n",
       "      <td>72.228814</td>\n",
       "      <td>0.481441</td>\n",
       "      <td>0.036441</td>\n",
       "      <td>0.125508</td>\n",
       "    </tr>\n",
       "    <tr>\n",
       "      <th>2</th>\n",
       "      <td>Flanders</td>\n",
       "      <td>85.822034</td>\n",
       "      <td>0.614746</td>\n",
       "      <td>0.029153</td>\n",
       "      <td>0.092458</td>\n",
       "    </tr>\n",
       "    <tr>\n",
       "      <th>3</th>\n",
       "      <td>German speaking community</td>\n",
       "      <td>73.966102</td>\n",
       "      <td>0.477458</td>\n",
       "      <td>0.024831</td>\n",
       "      <td>0.087966</td>\n",
       "    </tr>\n",
       "    <tr>\n",
       "      <th>4</th>\n",
       "      <td>Wallonia</td>\n",
       "      <td>81.533898</td>\n",
       "      <td>0.614407</td>\n",
       "      <td>0.055000</td>\n",
       "      <td>0.087203</td>\n",
       "    </tr>\n",
       "  </tbody>\n",
       "</table>\n",
       "</div>"
      ],
      "text/plain": [
       "                      REGION  PART_RATE_PERCENT  CASES_PER_100  \\\n",
       "0                    Belgium          82.889831       0.606102   \n",
       "1                   Brussels          72.228814       0.481441   \n",
       "2                   Flanders          85.822034       0.614746   \n",
       "3  German speaking community          73.966102       0.477458   \n",
       "4                   Wallonia          81.533898       0.614407   \n",
       "\n",
       "   NEW_IN_PER_100  DEATHS_PER_100  \n",
       "0        0.037966        0.093983  \n",
       "1        0.036441        0.125508  \n",
       "2        0.029153        0.092458  \n",
       "3        0.024831        0.087966  \n",
       "4        0.055000        0.087203  "
      ]
     },
     "execution_count": 129,
     "metadata": {},
     "output_type": "execute_result"
    }
   ],
   "source": [
    "# Grouping the data region wise\n",
    "df_nh_region = df_nh.groupby(['REGION'], as_index=False)[['PART_RATE_PERCENT','CASES_PER_100','NEW_IN_PER_100','DEATHS_PER_100']].mean()\n",
    "df_nh_region"
   ]
  },
  {
   "cell_type": "code",
   "execution_count": 130,
   "id": "48b3a7e0",
   "metadata": {
    "execution": {
     "iopub.execute_input": "2022-06-22T10:56:15.683080Z",
     "iopub.status.busy": "2022-06-22T10:56:15.682429Z",
     "iopub.status.idle": "2022-06-22T10:56:15.985530Z",
     "shell.execute_reply": "2022-06-22T10:56:15.983643Z"
    },
    "papermill": {
     "duration": 0.354248,
     "end_time": "2022-06-22T10:56:15.988755",
     "exception": false,
     "start_time": "2022-06-22T10:56:15.634507",
     "status": "completed"
    },
    "tags": []
   },
   "outputs": [
    {
     "data": {
      "text/plain": [
       "<AxesSubplot:xlabel='CASES_PER_100', ylabel='DEATHS_PER_100'>"
      ]
     },
     "execution_count": 130,
     "metadata": {},
     "output_type": "execute_result"
    },
    {
     "data": {
      "image/png": "[encoded data removed]",
      "text/plain": [
       "<Figure size 720x576 with 1 Axes>"
      ]
     },
     "metadata": {
      "needs_background": "light"
     },
     "output_type": "display_data"
    }
   ],
   "source": [
    "# using scatter plot to find corelation between 2 numerical values\n",
    "plt.figure(figsize=(10,8))\n",
    "sns.scatterplot(data=df_nh, x = 'CASES_PER_100',y ='DEATHS_PER_100',hue='REGION')"
   ]
  },
  {
   "cell_type": "markdown",
   "id": "2e6d1818",
   "metadata": {
    "papermill": {
     "duration": 0.049084,
     "end_time": "2022-06-22T10:56:16.091357",
     "exception": false,
     "start_time": "2022-06-22T10:56:16.042273",
     "status": "completed"
    },
    "tags": []
   },
   "source": [
    "## Observation-\n",
    "1. Brussels have heighest number of deaths per 100.\n",
    "2. german speaking community, Wallonia has heighest number of cases per 100. "
   ]
  }
 ],
 "metadata": {
  "kernelspec": {
   "display_name": "Python 3",
   "language": "python",
   "name": "python3"
  },
  "language_info": {
   "codemirror_mode": {
    "name": "ipython",
    "version": 3
   },
   "file_extension": ".py",
   "mimetype": "text/x-python",
   "name": "python",
   "nbconvert_exporter": "python",
   "pygments_lexer": "ipython3",
   "version": "3.7.12"
  },
  "papermill": {
   "default_parameters": {},
   "duration": 43.179939,
   "end_time": "2022-06-22T10:56:17.262019",
   "environment_variables": {},
   "exception": null,
   "input_path": "__notebook__.ipynb",
   "output_path": "__notebook__.ipynb",
   "parameters": {},
   "start_time": "2022-06-22T10:55:34.082080",
   "version": "2.3.4"
  }
 },
 "nbformat": 4,
 "nbformat_minor": 5
}
